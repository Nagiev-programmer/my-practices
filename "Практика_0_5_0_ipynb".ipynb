{
  "nbformat": 4,
  "nbformat_minor": 0,
  "metadata": {
    "colab": {
      "provenance": [],
      "include_colab_link": true
    },
    "kernelspec": {
      "name": "python3",
      "display_name": "Python 3"
    },
    "language_info": {
      "name": "python"
    }
  },
  "cells": [
    {
      "cell_type": "markdown",
      "metadata": {
        "id": "view-in-github",
        "colab_type": "text"
      },
      "source": [
        "<a href=\"https://colab.research.google.com/github/Nagiev-programmer/my-practices/blob/main/%22%D0%9F%D1%80%D0%B0%D0%BA%D1%82%D0%B8%D0%BA%D0%B0_0_5_0_ipynb%22.ipynb\" target=\"_parent\"><img src=\"https://colab.research.google.com/assets/colab-badge.svg\" alt=\"Open In Colab\"/></a>"
      ]
    },
    {
      "cell_type": "markdown",
      "source": [
        "ФИО:"
      ],
      "metadata": {
        "id": "Bu5gIJfHNPHw"
      }
    },
    {
      "cell_type": "code",
      "execution_count": null,
      "metadata": {
        "id": "CbHI8c7cM9Eg"
      },
      "outputs": [],
      "source": [
        "'Косарев.A.A'"
      ]
    },
    {
      "cell_type": "markdown",
      "source": [
        "# **Задание 1**"
      ],
      "metadata": {
        "id": "VrNrBpmocGRd"
      }
    },
    {
      "cell_type": "markdown",
      "source": [
        "\n",
        "\n",
        "Дан словарь, содержащий имена и возраст людей, напишите программу выводящую возраст человека по имени\n",
        "\n",
        "Дано:\n",
        "\n",
        "```\n",
        "{\"Alice\": 25, \"Bob\": 30, \"Charlie\": 35}\n",
        "```\n",
        "\n",
        "Вввод:\n",
        "\n",
        "\n",
        "```\n",
        "Alice\n",
        "```\n",
        "\n",
        "Вывод:\n",
        "\n",
        "\n",
        "```\n",
        "Alice 25\n",
        "```\n"
      ],
      "metadata": {
        "id": "XhV1bnm1bR2h"
      }
    },
    {
      "cell_type": "code",
      "source": [
        "name = input()\n",
        "\n",
        "\n",
        "dic = {\"Alice\": 25, \"Bob\": 30, \"Charlie\": 35}\n",
        "\n",
        "\n",
        "for k,v in dic.items():\n",
        "  if k == name:\n",
        "    print(k,v)"
      ],
      "metadata": {
        "id": "PElJj6DvsgjD",
        "colab": {
          "base_uri": "https://localhost:8080/"
        },
        "outputId": "6cc89cbf-5240-438a-faa7-057215818bbf"
      },
      "execution_count": null,
      "outputs": [
        {
          "output_type": "stream",
          "name": "stdout",
          "text": [
            "Bob\n",
            "Bob 30\n"
          ]
        }
      ]
    },
    {
      "cell_type": "markdown",
      "source": [
        "# **Задание 2**\n"
      ],
      "metadata": {
        "id": "lpjJz-_YcJ-t"
      }
    },
    {
      "cell_type": "markdown",
      "source": [
        "\n",
        "\n",
        "Дан список, состоящий из целых чисел, необходимо написать функцию считающую сумму всех положительных четных чисел списка\n",
        "\n",
        "Ввод:\n",
        "\n",
        "```\n",
        "1, 2, 3, 4, 5, 6, 7, 8, 9\n",
        "```\n",
        "\n",
        "Вывод:\n",
        "\n",
        "\n",
        "```\n",
        "20\n",
        "```\n",
        "\n",
        "***Запрещено:***\n",
        "\n",
        "*   Использование готовых функций для суммирования чисел\n"
      ],
      "metadata": {
        "id": "tMEsAB4rUiWW"
      }
    },
    {
      "cell_type": "code",
      "source": [
        "numbers = input().split()\n",
        "c = [] # четные неотрицательные числа\n",
        "p = 0 # сумма\n",
        "\n",
        "\n",
        "b = list(numbers)\n",
        "\n",
        "\n",
        "for i in b:\n",
        "  if int(i) % 2 == 0 and int(i) >= 0:\n",
        "    c.append(i)\n",
        "\n",
        "\n",
        "for i in c:\n",
        "  p += int(i)\n",
        "print(p)\n"
      ],
      "metadata": {
        "id": "wDNUFLeqNQS_",
        "colab": {
          "base_uri": "https://localhost:8080/"
        },
        "outputId": "8b23b4f8-a7f1-4750-b8f7-66d7e4032884"
      },
      "execution_count": null,
      "outputs": [
        {
          "output_type": "stream",
          "name": "stdout",
          "text": [
            "1 2 3 4 5 6 7 8 9\n",
            "20\n"
          ]
        }
      ]
    },
    {
      "cell_type": "markdown",
      "source": [
        "# **Задание 3**"
      ],
      "metadata": {
        "id": "WT_v-vz1dUZJ"
      }
    },
    {
      "cell_type": "markdown",
      "source": [
        "Дан словарь, содержащий название фрукта и его цвет, выведите список всех желтых фруктов\n",
        "\n",
        "\n",
        "Дано:\n",
        "\n",
        "```\n",
        "fruits_and_colors = {\n",
        "    \"apple\": \"red\",\n",
        "    \"banana\": \"yellow\",\n",
        "    \"mango\": \"yellow\",\n",
        "    \"orange\": \"orange\",\n",
        "    \"lemon\": \"yellow\",\n",
        "    \"grape\": \"purple\"\n",
        "}\n",
        "```\n",
        "\n",
        "Вывод:\n",
        "\n",
        "\n",
        "```\n",
        "Yellow fruits:\n",
        "banana\n",
        "lemon\n",
        "mango\n",
        "```\n",
        "\n"
      ],
      "metadata": {
        "id": "ZI5Xeh2DdXgF"
      }
    },
    {
      "cell_type": "code",
      "source": [
        "fruits_and_colors = {\n",
        "    \"apple\": \"red\",\n",
        "    \"banana\": \"yellow\",\n",
        "    \"mango\": \"yellow\",\n",
        "    \"orange\": \"orange\",\n",
        "    \"lemon\": \"yellow\",\n",
        "    \"grape\": \"purple\"\n",
        "}\n",
        "\n",
        "print(\"Yellow fruits:\")\n",
        "\n",
        "\n",
        "for k,v in fruits_and_colors.items():\n",
        "  if v == 'yellow':\n",
        "    print(k)"
      ],
      "metadata": {
        "id": "aNzFTkhKdkTG",
        "colab": {
          "base_uri": "https://localhost:8080/"
        },
        "outputId": "607fa9eb-dad5-43a0-a6b7-3a80ac4acfc6"
      },
      "execution_count": null,
      "outputs": [
        {
          "output_type": "stream",
          "name": "stdout",
          "text": [
            "Yellow fruits:\n",
            "banana\n",
            "mango\n",
            "lemon\n"
          ]
        }
      ]
    },
    {
      "cell_type": "markdown",
      "source": [
        "# **Задание 4**\n"
      ],
      "metadata": {
        "id": "iHtMGt2icM7w"
      }
    },
    {
      "cell_type": "markdown",
      "source": [
        "\n",
        "\n",
        "Дан словарь, необходимо написать функцию меняющую ключ и значение местами\n",
        "\n",
        "Дано:\n",
        "\n",
        "\n",
        "```\n",
        "{\"a\": 1, \"b\": 2, \"c\": 3}\n",
        "```\n",
        "\n",
        "Вывод:\n",
        "\n",
        "```\n",
        "{1: 'a', 2: 'b', 3: 'c'}\n",
        "```\n",
        "\n"
      ],
      "metadata": {
        "id": "rS3THsnBQ_EB"
      }
    },
    {
      "cell_type": "code",
      "source": [
        "dic = {\"a\": 1, \"b\": 2, \"c\": 3}\n",
        "\n",
        "\n",
        "dic2 = {}\n",
        "\n",
        "\n",
        "for k,v in dic.items():\n",
        "  dic2[v] = k\n",
        "print(dic2)\n"
      ],
      "metadata": {
        "id": "MNRusyLDcQ59",
        "colab": {
          "base_uri": "https://localhost:8080/"
        },
        "outputId": "92d11589-3fa0-45c0-c1a8-92083175b038"
      },
      "execution_count": null,
      "outputs": [
        {
          "output_type": "stream",
          "name": "stdout",
          "text": [
            "{1: 'a', 2: 'b', 3: 'c'}\n"
          ]
        }
      ]
    },
    {
      "cell_type": "markdown",
      "source": [
        "# **Задание 5**"
      ],
      "metadata": {
        "id": "x6ff5nd0cUxD"
      }
    },
    {
      "cell_type": "markdown",
      "source": [
        "Дан список слов, неограниченной длинны, сформируйте словарь, где в качестве ключа будет слово, а в качестве значения количество слов\n",
        "\n",
        "**Критерии**\n",
        "\n",
        "\n",
        "*   Словарь необходимо отсортировать по убыванию количества элементов в списке.\n",
        "*   Подсчет элементов должен быть реализован в отдельной функции\n",
        "*   Сортировка пары `ключ:значение` должна быть реализована также в виде отдельной функции\n",
        "\n",
        "\n",
        "\n",
        "\n",
        "Дано:\n",
        "```\n",
        "['apple','banana','orange','apple','apple','banana']\n",
        "```\n",
        "\n",
        "\n",
        "Вывод:\n",
        "```\n",
        "{'apple':3, 'banana': 2, 'orange': 1}\n",
        "```\n",
        "\n",
        "***Запрещено:***\n",
        "\n",
        "*   Использование готовых функций для сортировки\n",
        "*   Использование готовых функций для подсчета элементов\n",
        "\n"
      ],
      "metadata": {
        "id": "ypQNHOG4NQz3"
      }
    },
    {
      "cell_type": "code",
      "source": [
        "# Подсказка: сортировку словаря можно сделать через две функции (нахождение максимального эллемента и основной функции сортировки)\n",
        "\n",
        "s = ['apple','banana','orange','apple','apple','banana']\n",
        "\n",
        "\n",
        "dict = {}\n",
        "\n",
        "for word in s:\n",
        "    if word in dict:\n",
        "        dict[word] += 1\n",
        "    else:\n",
        "        dict[word] = 1\n",
        "print(dict)\n",
        "\n"
      ],
      "metadata": {
        "id": "J10PjdVQUbyq",
        "colab": {
          "base_uri": "https://localhost:8080/"
        },
        "outputId": "3be30daa-7d89-42e5-b7ee-f98828f3d97c"
      },
      "execution_count": null,
      "outputs": [
        {
          "output_type": "stream",
          "name": "stdout",
          "text": [
            "{'apple': 3, 'banana': 2, 'orange': 1}\n"
          ]
        }
      ]
    },
    {
      "cell_type": "markdown",
      "source": [
        "# **Задание 6**"
      ],
      "metadata": {
        "id": "d7fDUr2WcY_G"
      }
    },
    {
      "cell_type": "markdown",
      "source": [
        "Дан словарь, содержащий информацию о людях, необходимо:\n",
        "\n",
        "\n",
        "\n",
        "*   Вывести всех людей старше 30 лет\n",
        "*   Вывести список городов и количество людей из словаря проживающих в них\n",
        "*   Вывести список профессий и список людей для каждой профессии\n",
        "\n",
        "**Критерии**\n",
        "\n",
        "Каждый из пунктов необходимо реализовать в виде функции\n",
        "\n"
      ],
      "metadata": {
        "id": "m11qdVhSWBi7"
      }
    },
    {
      "cell_type": "code",
      "source": [
        "people_info = {\n",
        "    \"Alice\": {\"age\": 25, \"city\": \"New York\", \"occupation\": \"Engineer\"},\n",
        "    \"Bob\": {\"age\": 30, \"city\": \"Los Angeles\", \"occupation\": \"Designer\"},\n",
        "    \"Charlie\": {\"age\": 35, \"city\": \"Chicago\", \"occupation\": \"Teacher\"},\n",
        "    \"Diana\": {\"age\": 28, \"city\": \"Miami\", \"occupation\": \"Doctor\"},\n",
        "    \"Ethan\": {\"age\": 40, \"city\": \"Seattle\", \"occupation\": \"Chef\"},\n",
        "    \"Frank\": {\"age\": 32, \"city\": \"Atlanta\", \"occupation\": \"Lawyer\"},\n",
        "    \"Gabriella\": {\"age\": 29, \"city\": \"San Francisco\", \"occupation\": \"Software Engineer\"},\n",
        "    \"Harrison\": {\"age\": 38, \"city\": \"Denver\", \"occupation\": \"Architect\"},\n",
        "    \"Isabella\": {\"age\": 26, \"city\": \"Washington D.C.\", \"occupation\": \"Journalist\"},\n",
        "    \"Julian\": {\"age\": 42, \"city\": \"Miami\", \"occupation\": \"Musician\"},\n",
        "    \"Kate\": {\"age\": 31, \"city\": \"Philadelphia\", \"occupation\": \"Nurse\"},\n",
        "    \"Lucas\": {\"age\": 36, \"city\": \"Nashville\", \"occupation\": \"Businessman\"},\n",
        "    \"Mia\": {\"age\": 27, \"city\": \"Atlanta\", \"occupation\": \"Artist\"},\n",
        "    \"Natalie\": {\"age\": 39, \"city\": \"Portland\", \"occupation\": \"Writer\"},\n",
        "    \"Oliver\": {\"age\": 44, \"city\": \"Minneapolis\", \"occupation\": \"Professor\"},\n",
        "    \"Penelope\": {\"age\": 33, \"city\": \"San Diego\", \"occupation\": \"Marketing Manager\"},\n",
        "    \"Quincy\": {\"age\": 41, \"city\": \"Nashville\", \"occupation\": \"Singer\"},\n",
        "    \"Rachel\": {\"age\": 34, \"city\": \"Cleveland\", \"occupation\": \"Teacher\"},\n",
        "    \"Sophia\": {\"age\": 29, \"city\": \"Nashville\", \"occupation\": \"Engineer\"},\n",
        "    \"Tessa\": {\"age\": 37, \"city\": \"Miami\", \"occupation\": \"Lawyer\"}\n",
        "}\n",
        "for k,v in people_info.items():\n",
        "  if v[\"age\"] > 30:\n",
        "    print(k)\n",
        "\n",
        "\n",
        "for k,v in people_info.items():\n",
        "  city_count = {}\n",
        "  for info in people_info.values():\n",
        "        city = info['city']\n",
        "        city_count[city] = city_count.get(city, 0) + 1\n",
        "for city, count in city_count.items():\n",
        "    print(f\"{city}: {count}\")\n",
        "\n",
        "\n",
        "profession = {}\n",
        "for name, info in people_info.items():\n",
        "    profession = info['occupation']\n",
        "    if profession not in profession:\n",
        "      profession[profession] = []\n",
        "      profession[profession].append(name)\n",
        "    for profession, name in profession.items():\n",
        "        print(f\"{profession}: {', '.join(name)}\")\n",
        "\n",
        "\n"
      ],
      "metadata": {
        "id": "lSNtB39OWtFl",
        "colab": {
          "base_uri": "https://localhost:8080/"
        },
        "outputId": "3bec25dc-f726-4e36-dcfe-ff799ea19d81"
      },
      "execution_count": null,
      "outputs": [
        {
          "output_type": "stream",
          "name": "stdout",
          "text": [
            "Charlie\n",
            "Ethan\n",
            "Frank\n",
            "Harrison\n",
            "Julian\n",
            "Kate\n",
            "Lucas\n",
            "Natalie\n",
            "Oliver\n",
            "Penelope\n",
            "Quincy\n",
            "Rachel\n",
            "Tessa\n",
            "New York: 1\n",
            "Los Angeles: 1\n",
            "Chicago: 1\n",
            "Miami: 3\n",
            "Seattle: 1\n",
            "Atlanta: 2\n",
            "San Francisco: 1\n",
            "Denver: 1\n",
            "Washington D.C.: 1\n",
            "Philadelphia: 1\n",
            "Nashville: 3\n",
            "Portland: 1\n",
            "Minneapolis: 1\n",
            "San Diego: 1\n",
            "Cleveland: 1\n",
            "Engineer: Alice\n",
            "Engineer: Alice\n",
            "Designer: Bob\n",
            "Engineer: Alice\n",
            "Designer: Bob\n",
            "Teacher: Charlie\n",
            "Engineer: Alice\n",
            "Designer: Bob\n",
            "Teacher: Charlie\n",
            "Doctor: Diana\n",
            "Engineer: Alice\n",
            "Designer: Bob\n",
            "Teacher: Charlie\n",
            "Doctor: Diana\n",
            "Chef: Ethan\n",
            "Engineer: Alice\n",
            "Designer: Bob\n",
            "Teacher: Charlie\n",
            "Doctor: Diana\n",
            "Chef: Ethan\n",
            "Lawyer: Frank\n",
            "Engineer: Alice\n",
            "Designer: Bob\n",
            "Teacher: Charlie\n",
            "Doctor: Diana\n",
            "Chef: Ethan\n",
            "Lawyer: Frank\n",
            "Software Engineer: Gabriella\n",
            "Engineer: Alice\n",
            "Designer: Bob\n",
            "Teacher: Charlie\n",
            "Doctor: Diana\n",
            "Chef: Ethan\n",
            "Lawyer: Frank\n",
            "Software Engineer: Gabriella\n",
            "Architect: Harrison\n",
            "Engineer: Alice\n",
            "Designer: Bob\n",
            "Teacher: Charlie\n",
            "Doctor: Diana\n",
            "Chef: Ethan\n",
            "Lawyer: Frank\n",
            "Software Engineer: Gabriella\n",
            "Architect: Harrison\n",
            "Journalist: Isabella\n",
            "Engineer: Alice\n",
            "Designer: Bob\n",
            "Teacher: Charlie\n",
            "Doctor: Diana\n",
            "Chef: Ethan\n",
            "Lawyer: Frank\n",
            "Software Engineer: Gabriella\n",
            "Architect: Harrison\n",
            "Journalist: Isabella\n",
            "Musician: Julian\n",
            "Engineer: Alice\n",
            "Designer: Bob\n",
            "Teacher: Charlie\n",
            "Doctor: Diana\n",
            "Chef: Ethan\n",
            "Lawyer: Frank\n",
            "Software Engineer: Gabriella\n",
            "Architect: Harrison\n",
            "Journalist: Isabella\n",
            "Musician: Julian\n",
            "Nurse: Kate\n",
            "Engineer: Alice\n",
            "Designer: Bob\n",
            "Teacher: Charlie\n",
            "Doctor: Diana\n",
            "Chef: Ethan\n",
            "Lawyer: Frank\n",
            "Software Engineer: Gabriella\n",
            "Architect: Harrison\n",
            "Journalist: Isabella\n",
            "Musician: Julian\n",
            "Nurse: Kate\n",
            "Businessman: Lucas\n",
            "Engineer: Alice\n",
            "Designer: Bob\n",
            "Teacher: Charlie\n",
            "Doctor: Diana\n",
            "Chef: Ethan\n",
            "Lawyer: Frank\n",
            "Software Engineer: Gabriella\n",
            "Architect: Harrison\n",
            "Journalist: Isabella\n",
            "Musician: Julian\n",
            "Nurse: Kate\n",
            "Businessman: Lucas\n",
            "Artist: Mia\n",
            "Engineer: Alice\n",
            "Designer: Bob\n",
            "Teacher: Charlie\n",
            "Doctor: Diana\n",
            "Chef: Ethan\n",
            "Lawyer: Frank\n",
            "Software Engineer: Gabriella\n",
            "Architect: Harrison\n",
            "Journalist: Isabella\n",
            "Musician: Julian\n",
            "Nurse: Kate\n",
            "Businessman: Lucas\n",
            "Artist: Mia\n",
            "Writer: Natalie\n",
            "Engineer: Alice\n",
            "Designer: Bob\n",
            "Teacher: Charlie\n",
            "Doctor: Diana\n",
            "Chef: Ethan\n",
            "Lawyer: Frank\n",
            "Software Engineer: Gabriella\n",
            "Architect: Harrison\n",
            "Journalist: Isabella\n",
            "Musician: Julian\n",
            "Nurse: Kate\n",
            "Businessman: Lucas\n",
            "Artist: Mia\n",
            "Writer: Natalie\n",
            "Professor: Oliver\n",
            "Engineer: Alice\n",
            "Designer: Bob\n",
            "Teacher: Charlie\n",
            "Doctor: Diana\n",
            "Chef: Ethan\n",
            "Lawyer: Frank\n",
            "Software Engineer: Gabriella\n",
            "Architect: Harrison\n",
            "Journalist: Isabella\n",
            "Musician: Julian\n",
            "Nurse: Kate\n",
            "Businessman: Lucas\n",
            "Artist: Mia\n",
            "Writer: Natalie\n",
            "Professor: Oliver\n",
            "Marketing Manager: Penelope\n",
            "Engineer: Alice\n",
            "Designer: Bob\n",
            "Teacher: Charlie\n",
            "Doctor: Diana\n",
            "Chef: Ethan\n",
            "Lawyer: Frank\n",
            "Software Engineer: Gabriella\n",
            "Architect: Harrison\n",
            "Journalist: Isabella\n",
            "Musician: Julian\n",
            "Nurse: Kate\n",
            "Businessman: Lucas\n",
            "Artist: Mia\n",
            "Writer: Natalie\n",
            "Professor: Oliver\n",
            "Marketing Manager: Penelope\n",
            "Singer: Quincy\n",
            "Engineer: Alice\n",
            "Designer: Bob\n",
            "Teacher: Charlie\n",
            "Doctor: Diana\n",
            "Chef: Ethan\n",
            "Lawyer: Frank\n",
            "Software Engineer: Gabriella\n",
            "Architect: Harrison\n",
            "Journalist: Isabella\n",
            "Musician: Julian\n",
            "Nurse: Kate\n",
            "Businessman: Lucas\n",
            "Artist: Mia\n",
            "Writer: Natalie\n",
            "Professor: Oliver\n",
            "Marketing Manager: Penelope\n",
            "Singer: Quincy\n",
            "Engineer: Alice\n",
            "Designer: Bob\n",
            "Teacher: Charlie\n",
            "Doctor: Diana\n",
            "Chef: Ethan\n",
            "Lawyer: Frank\n",
            "Software Engineer: Gabriella\n",
            "Architect: Harrison\n",
            "Journalist: Isabella\n",
            "Musician: Julian\n",
            "Nurse: Kate\n",
            "Businessman: Lucas\n",
            "Artist: Mia\n",
            "Writer: Natalie\n",
            "Professor: Oliver\n",
            "Marketing Manager: Penelope\n",
            "Singer: Quincy\n",
            "Engineer: Alice\n",
            "Designer: Bob\n",
            "Teacher: Charlie\n",
            "Doctor: Diana\n",
            "Chef: Ethan\n",
            "Lawyer: Frank\n",
            "Software Engineer: Gabriella\n",
            "Architect: Harrison\n",
            "Journalist: Isabella\n",
            "Musician: Julian\n",
            "Nurse: Kate\n",
            "Businessman: Lucas\n",
            "Artist: Mia\n",
            "Writer: Natalie\n",
            "Professor: Oliver\n",
            "Marketing Manager: Penelope\n",
            "Singer: Quincy\n"
          ]
        }
      ]
    },
    {
      "cell_type": "code",
      "source": [],
      "metadata": {
        "id": "qcLO5eQwXkNK"
      },
      "execution_count": null,
      "outputs": []
    },
    {
      "cell_type": "markdown",
      "source": [
        "# **Задание 7**"
      ],
      "metadata": {
        "id": "27IuB2YScezw"
      }
    },
    {
      "cell_type": "markdown",
      "source": [
        "Задание: Разработка системы отзывов о предметах\n",
        "\n",
        "Описание: Создать программу на Python для хранения и управления отзывами о предметах учебного курса. Программа должна позволять пользователям добавлять, просматривать и удалять отзывы, а также вычислять средний балл по заданному предмету.\n",
        "\n",
        "**Функционал:**\n",
        "\n",
        "*   Добавление отзыва и оценки:\n",
        "   *   Пользователь может ввести название предмета, оценку (от 1 до 5) и текст отзыва.\n",
        "   *   Отзывы должны храниться в структуре данных (например, словаре), где ключом будет название предмета, а значением - список отзывов (каждый отзыв может хранить оценку и комментарий).\n",
        "*   Просмотр отзывов и оценок:\n",
        "   *   Пользователь может запросить отзывы для указанного предмета.\n",
        "   *   Если для указанного предмета есть отзывы, программа должна отобразить список всех отзывов и соответствующих оценок.\n",
        "*   Удаление отзыва:\n",
        "   *   Пользователь может удалить отзыв по индексу. Необходимо заранее уведомить пользователя о том, какие отзывы доступны для удаления.\n",
        "   *   Программа должна обработать ситуацию, когда индекс введен неправильно.\n",
        "*   Вычисление среднего балла по предмету:\n",
        "   *   Пользователь может ввести название предмета, и программа должна вычислить и вывести средний балл по всем отзывам для этого предмета.\n",
        "   *   Если отзывов нет, программа должна сообщить об этом.\n",
        "\n",
        "\n",
        "**Критерии:**\n",
        "\n",
        "*   Код должен быть оформлен в виде функций\n",
        "*   Необходимо обрабатывать неправильный ввод пользователя\n",
        "*   Должны быть комментарии к функциям\n",
        "*   Присутсвует весь дополнительный функционал\n",
        "\n",
        "\n",
        "\n",
        "**Опционально:**\n",
        "\n",
        "Предлагаю вам добавить свои критерии оценки или вопросы, на которые должен ответить студент, чтобы оценить пару\n",
        "\n",
        "\n"
      ],
      "metadata": {
        "id": "Fd95-S9cYhct"
      }
    },
    {
      "cell_type": "code",
      "source": [
        "# Словарь для хранения отзывов о предметах\n",
        "reviews = {}\n",
        "\n",
        "while True:\n",
        "    print(\"1. Добавить отзыв\")\n",
        "    print(\"2. Просмотреть отзывы\")\n",
        "    print(\"3. Удалить отзыв\")\n",
        "    print(\"4. Вычислить средний балл\")\n",
        "    print(\"5. Выход\")\n",
        "\n",
        "    choice = input(\"Сделайте выбор:\" )\n",
        "\n",
        "\n",
        "# Оценка и проверка правильности\n",
        "    if choice == '1':\n",
        "        subject = input(\"Введите название предмета: \")\n",
        "        rating = input(\"Введите оценку (от 1 до 5): \")\n",
        "        if not rating.isdigit() or not (1 <= int(rating) <= 5):\n",
        "            print(\"Выберите от 1 до 5\")\n",
        "            continue\n",
        "# Отзыв и добавление отзыва\n",
        "        comment = input(\"Введите отзыв: \")\n",
        "        review = {\"rating\": int(rating), \"comment\": comment}\n",
        "        if subject not in reviews:\n",
        "            reviews[subject] = []\n",
        "        reviews[subject].append(review)\n",
        "        print(\"Отзыв добавлен\")\n",
        "\n",
        "    elif choice == '2':\n",
        "        subject = input(\"Введите название предмета: \")\n",
        "        if subject not in reviews or not reviews[subject]:\n",
        "            print(f\"Нет отзывов для предмета '{subject}'.\")\n",
        "            continue\n",
        "\n",
        "        print(f\"Отзывы для предмета '{subject}':\")\n",
        "        for index, review in enumerate(reviews[subject]):\n",
        "            print(f\"{index + 1}. Оценка: {review['rating']}, Комментарий: {review['comment']}\")\n",
        "\n",
        "    elif choice == '3':\n",
        "        subject = input(\"Введите название предмета: \")\n",
        "        if subject not in reviews or not reviews[subject]:\n",
        "            print(f\"Нет отзывов для предмета '{subject}', удаление невозможно.\")\n",
        "            continue\n",
        "\n",
        "        # Просмотр отзывов перед удалением\n",
        "        print(f\"Отзывы для предмета '{subject}':\")\n",
        "        for index, review in enumerate(reviews[subject]):\n",
        "            print(f\"{index + 1}. Оценка: {review['rating']}, Комментарий: {review['comment']}\")\n",
        "\n",
        "        try:\n",
        "            index = int(input(\"Введите номер отзыва для удаления: \")) - 1\n",
        "            if index < 0 or index >= len(reviews[subject]):\n",
        "                print(\"Ошибка: введён неправильный индекс.\")\n",
        "                continue\n",
        "\n",
        "            removed_review = reviews[subject].pop(index)\n",
        "            print(f\"Удалён отзыв: Оценка: {removed_review['rating']}, Комментарий: {removed_review['comment']}\")\n",
        "        except ValueError:\n",
        "            print(\"Ошибка: необходимо ввести целое число.\")\n",
        "\n",
        "    elif choice == '4':\n",
        "        subject = input(\"Введите название предмета: \")\n",
        "        if subject not in reviews or not reviews[subject]:\n",
        "            print(\"У этого предмета нету отзывов\")\n",
        "            continue\n",
        "\n",
        "        total_rating = sum(review['rating'] for review in reviews[subject])\n",
        "        average_rating = total_rating / len(reviews[subject])\n",
        "        print(f\"Средний балл для предмета '{subject}': {average_rating:.2f}\")\n",
        "\n",
        "    elif choice == '5':\n",
        "        print(\"Выход из программы.\")\n",
        "        break\n",
        "\n",
        "    else:\n",
        "        print(\"Ошибка: Поробуйте заново.\")\n",
        "\n",
        "\n",
        "\n",
        "\n",
        "\n"
      ],
      "metadata": {
        "id": "kzucJrCUa0o7"
      },
      "execution_count": null,
      "outputs": []
    }
  ]
}