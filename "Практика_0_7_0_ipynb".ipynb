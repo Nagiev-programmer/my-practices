{
  "nbformat": 4,
  "nbformat_minor": 0,
  "metadata": {
    "colab": {
      "provenance": [],
      "include_colab_link": true
    },
    "kernelspec": {
      "name": "python3",
      "display_name": "Python 3"
    },
    "language_info": {
      "name": "python"
    }
  },
  "cells": [
    {
      "cell_type": "markdown",
      "metadata": {
        "id": "view-in-github",
        "colab_type": "text"
      },
      "source": [
        "<a href=\"https://colab.research.google.com/github/Nagiev-programmer/my-practices/blob/main/%22%D0%9F%D1%80%D0%B0%D0%BA%D1%82%D0%B8%D0%BA%D0%B0_0_7_0_ipynb%22.ipynb\" target=\"_parent\"><img src=\"https://colab.research.google.com/assets/colab-badge.svg\" alt=\"Open In Colab\"/></a>"
      ]
    },
    {
      "cell_type": "markdown",
      "source": [
        "Ссылка на материалы:  [пдф тут](https://drive.google.com/file/d/16Cm2tgrpuDH8eIdxdSYyOsfDPqnJ3byd/view?usp=sharing)"
      ],
      "metadata": {
        "id": "M9IlAZAPBBm9"
      }
    },
    {
      "cell_type": "markdown",
      "source": [
        "ФИО:"
      ],
      "metadata": {
        "id": "ZLVI_WIcuT56"
      }
    },
    {
      "cell_type": "code",
      "source": [],
      "metadata": {
        "id": "3AfG_Tal0P2S"
      },
      "execution_count": null,
      "outputs": []
    },
    {
      "cell_type": "markdown",
      "source": [
        "## Задание 1. HTTP-запросы, ответы и погода"
      ],
      "metadata": {
        "id": "Gtm1UjYgDlY7"
      }
    },
    {
      "cell_type": "markdown",
      "source": [
        "Описание:\n",
        "\n",
        "Напишите HTTP-запрос для получения информации о погоде в введенном городе из API.\n",
        "\n",
        "Можно использовать API: https://open-meteo.com/. Используйте метод GET.\n",
        "\n",
        "\n",
        "Ввод\n",
        "```\n",
        "56.50, 60.35\n",
        "```\n",
        "\n",
        "Вывод\n",
        "```\n",
        "Сегодня (1.11) погода 20 ◦С, нет осадков, туман\n",
        "```\n",
        "\n",
        "\n",
        "\n"
      ],
      "metadata": {
        "id": "FtjnLNIKzfMZ"
      }
    },
    {
      "cell_type": "code",
      "source": [
        "import requests\n",
        "from datetime import datetime\n",
        "\n",
        "\n",
        "# функция для отправки запроса\n",
        "def send_request(url):\n",
        "    response = requests.get(url)\n",
        "    if response.status_code == 200:\n",
        "        return response.json()\n",
        "    else:\n",
        "        print('Response code:', response.status_code)\n",
        "        return False\n",
        "\n",
        "\n",
        "# отчистка данных\n",
        "def clear_data(data):\n",
        "    # определение даты\n",
        "    current_date = datetime.today().date()\n",
        "    day = current_date.day\n",
        "    month = current_date.month\n",
        "    current_date = f'{day}.{month}'\n",
        "\n",
        "    # определение температуры\n",
        "    temperature = data['current']['temperature_2m']\n",
        "    temperature_format = data['current_units']['temperature_2m']\n",
        "\n",
        "    # определение погодных условии\n",
        "    weather_code = data['current']['weather_code']\n",
        "    bad_weather = [51, 53, 55, 61, 63, 65, 71, 73, 75, 80, 81, 82 ]\n",
        "    if weather_code in [0, 1]:\n",
        "        message = 'нет осадков, ясно'\n",
        "    elif weather_code == 45:\n",
        "        message = 'нет осадков, туман'\n",
        "    elif weather_code in bad_weather:\n",
        "        message = 'осадки, без тумана'\n",
        "    else:\n",
        "        message = 'посмотри в окно'\n",
        "\n",
        "    message = f'Сегодня ({current_date}) погода {temperature} {temperature_format}, {message}'\n",
        "\n",
        "    return message\n",
        "\n",
        "\n",
        "# основная функция\n",
        "def main():\n",
        "    coordinates = input('Введите ваши координаты:\\n').split(', ')\n",
        "    url = f'https://api.open-meteo.com/v1/forecast?latitude={coordinates[0]}&longitude={coordinates[1]}&current=temperature_2m,weather_code'\n",
        "    data = send_request(url)\n",
        "    print(clear_data(data))\n",
        "\n",
        "\n",
        "if __name__ == '__main__':\n",
        "    main()"
      ],
      "metadata": {
        "id": "5Mbs40_buVRV",
        "colab": {
          "base_uri": "https://localhost:8080/"
        },
        "outputId": "f5d79a7b-ff3b-43d5-91ed-3928bb14f8a0"
      },
      "execution_count": null,
      "outputs": [
        {
          "output_type": "stream",
          "name": "stdout",
          "text": [
            "Введите ваши координаты:\n",
            "56.50, 60.35\n",
            "Сегодня (1.11) погода 1.4 °C, посмотри в окно\n"
          ]
        }
      ]
    },
    {
      "cell_type": "markdown",
      "source": [
        "## Задание 2. HTTP-запросы, ответы и покемоны"
      ],
      "metadata": {
        "id": "FYjU9WmVDoGs"
      }
    },
    {
      "cell_type": "markdown",
      "source": [
        "**Описание:**\n",
        "\n",
        "\n",
        "Создайте код программы, которая будет взаимодействовать с API, со следующим функионалом:\n",
        "\n",
        "1. Используя метод GET, отправьте запрос на endpoint /pokemon, чтобы получить список первых 20 покемонов\n",
        "\n",
        "2. Извлеките имена покемонов из ответа и выведите их списком\n",
        "\n",
        "3. Введите с помощью input() название одного из покемонов\n",
        "\n",
        "\n",
        "```\n",
        "Имя покемона: clefairy\n",
        "```\n",
        "\n",
        "\n",
        "\n",
        "4. Отправьте GET-запрос, чтобы получить полную информацию о выбранном покемоне\n",
        "\n",
        "5. Извлеките и выведите следующие данные о введенном покемоне:\n",
        "\n",
        "     • Имя\n",
        "\n",
        "     • Тип\n",
        "\n",
        "     • Вес\n",
        "\n",
        "     • Рост\n",
        "\n",
        "     • Способности\n",
        "\n",
        "Используйте PokéAPI (https://pokeapi.co/), который предоставляет информацию о покемонах, их характеристиках, типах и другую информацию."
      ],
      "metadata": {
        "id": "oZ1guEbl0PZm"
      }
    },
    {
      "cell_type": "code",
      "source": [
        "import requests\n",
        "\n",
        "# функция для отправки запроса\n",
        "def send_request(url):\n",
        "  response = requests.get(url)\n",
        "  if response.status_code == 200:\n",
        "    return response.json()\n",
        "  else:\n",
        "    print('Response code:', response.status_code)\n",
        "    return False\n",
        "\n",
        "\n",
        "url = 'https://pokeapi.co/api/v2/pokemon?limit=20';\n",
        "data = send_request(url)\n",
        "\n",
        "\n",
        "# собираем имена в список\n",
        "if data:\n",
        "  names = [pokemon['name'] for pokemon in data['results']]\n",
        "  print(names)\n",
        "\n",
        "\n",
        "# имя\n",
        "name = input(\"Введите имя: \")\n",
        "\n",
        "\n",
        "# собираем информацию о определенном покемоне\n",
        "def send_request2(url2):\n",
        "  response = requests.get(url2)\n",
        "  if response.status_code == 200:\n",
        "    return response.json()\n",
        "  else:\n",
        "    print('Response code:', response.status_code)\n",
        "    return False\n",
        "\n",
        "\n",
        "url2 = f'https://pokeapi.co/api/v2/pokemon/{name}/';\n",
        "base = send_request2(url2)\n",
        "\n",
        "\n",
        "if base:\n",
        "  name = base['name']\n",
        "  weight = base['weight']\n",
        "  height = base['height']\n",
        "\n",
        "\n",
        "types = [typ['type']['name'] for typ in base['types']]\n",
        "abilities = [ability['ability']['name'] for ability in base['abilities']]\n",
        "\n",
        "\n",
        "print(f\"Имя: {name}\")\n",
        "print(f\"Вес: {weight}\")\n",
        "print(f\"Высота {height}\")\n",
        "print(f\"Тип {types}\")\n",
        "print(f\"Способоности: {abilities}\")"
      ],
      "metadata": {
        "id": "JkFmivjp25NL",
        "colab": {
          "base_uri": "https://localhost:8080/"
        },
        "outputId": "dd50588e-ffd7-4a36-e45a-e33310ddebb0"
      },
      "execution_count": null,
      "outputs": [
        {
          "output_type": "stream",
          "name": "stdout",
          "text": [
            "['bulbasaur', 'ivysaur', 'venusaur', 'charmander', 'charmeleon', 'charizard', 'squirtle', 'wartortle', 'blastoise', 'caterpie', 'metapod', 'butterfree', 'weedle', 'kakuna', 'beedrill', 'pidgey', 'pidgeotto', 'pidgeot', 'rattata', 'raticate']\n",
            "Введите имя: bulbasaur\n",
            "Имя: bulbasaur\n",
            "Вес: 69\n",
            "Высота 7\n",
            "Тип ['grass', 'poison']\n",
            "Способоности: ['overgrow', 'chlorophyll']\n"
          ]
        }
      ]
    },
    {
      "cell_type": "markdown",
      "source": [
        "## Задание 3. HTTP-запросы, ответы и посты"
      ],
      "metadata": {
        "id": "Ci07uZdADue9"
      }
    },
    {
      "cell_type": "markdown",
      "source": [
        "**Описание:**\n",
        "\n",
        "Создайте программу, которая будет взаимодействовать с JSONPlaceholder API, реализуя следующие функции:\n",
        "\n",
        "1. Реализуйте функцию, которая выполняет GET-запрос к https://jsonplaceholder.typicode.com/posts и возвращает список постов в формате JSON\n",
        "\n",
        "2. Реализуйте функцию, котороая получает вводимое ID поста, выполняет GET-запрос по ID и возвращает данные поста в формате JSON\n",
        "\n",
        "3. Реализуйте функцию, которая выполняет обработку JSON из пункта 2 и выводит всю важную информацию в консоль"
      ],
      "metadata": {
        "id": "h194KTer1-B3"
      }
    },
    {
      "cell_type": "code",
      "source": [
        "import requests\n",
        "\n",
        "# функция запроса постов\n",
        "def send_request(url):\n",
        "    response = requests.get(url)\n",
        "    if response.status_code == 200:\n",
        "        return response.json()\n",
        "    else:\n",
        "        print('Response code:', response.status_code)\n",
        "        return False\n",
        "\n",
        "# api\n",
        "url = 'https://jsonplaceholder.typicode.com/posts'\n",
        "data = send_request(url)\n",
        "\n",
        "# 1 задание\n",
        "if data:\n",
        "    titles = [post['title'] for post in data]\n",
        "    print(titles)\n",
        "\n",
        "\n",
        "# запрос по id\n",
        "def get_post_by_id(post_id):\n",
        "    url1 = f'https://jsonplaceholder.typicode.com/posts/{post_id}'\n",
        "    response = requests.get(url1)\n",
        "    if response.status_code == 200:\n",
        "        return response.json()\n",
        "    else:\n",
        "        print('Ошибка при получении данных:', response.status_code)\n",
        "        return None\n",
        "\n",
        "# информация\n",
        "def print_post_info(post_data):\n",
        "    if post_data:\n",
        "        print(\"ID post:\", post_data.get('id'))\n",
        "        print(\"ID user:\", post_data.get('userId'))\n",
        "        print(\"Заголовок:\", post_data.get('title'))\n",
        "        print(\"Текст\", post_data.get('body'))\n",
        "    else:\n",
        "        print(\"Нет данных для отображения.\")\n",
        "\n",
        "\n",
        "# Пример использования\n",
        "post_id = int(input(\"Введите ID поста: \"))\n",
        "post_data = get_post_by_id(post_id)\n",
        "print_post_info(post_data)\n"
      ],
      "metadata": {
        "id": "YANQx4o258Zn",
        "colab": {
          "base_uri": "https://localhost:8080/"
        },
        "outputId": "b5171709-bb3b-45a0-d3b7-a394aa49f9a3"
      },
      "execution_count": null,
      "outputs": [
        {
          "output_type": "stream",
          "name": "stdout",
          "text": [
            "['sunt aut facere repellat provident occaecati excepturi optio reprehenderit', 'qui est esse', 'ea molestias quasi exercitationem repellat qui ipsa sit aut', 'eum et est occaecati', 'nesciunt quas odio', 'dolorem eum magni eos aperiam quia', 'magnam facilis autem', 'dolorem dolore est ipsam', 'nesciunt iure omnis dolorem tempora et accusantium', 'optio molestias id quia eum', 'et ea vero quia laudantium autem', 'in quibusdam tempore odit est dolorem', 'dolorum ut in voluptas mollitia et saepe quo animi', 'voluptatem eligendi optio', 'eveniet quod temporibus', 'sint suscipit perspiciatis velit dolorum rerum ipsa laboriosam odio', 'fugit voluptas sed molestias voluptatem provident', 'voluptate et itaque vero tempora molestiae', 'adipisci placeat illum aut reiciendis qui', 'doloribus ad provident suscipit at', 'asperiores ea ipsam voluptatibus modi minima quia sint', 'dolor sint quo a velit explicabo quia nam', 'maxime id vitae nihil numquam', 'autem hic labore sunt dolores incidunt', 'rem alias distinctio quo quis', 'est et quae odit qui non', 'quasi id et eos tenetur aut quo autem', 'delectus ullam et corporis nulla voluptas sequi', 'iusto eius quod necessitatibus culpa ea', 'a quo magni similique perferendis', 'ullam ut quidem id aut vel consequuntur', 'doloremque illum aliquid sunt', 'qui explicabo molestiae dolorem', 'magnam ut rerum iure', 'id nihil consequatur molestias animi provident', 'fuga nam accusamus voluptas reiciendis itaque', 'provident vel ut sit ratione est', 'explicabo et eos deleniti nostrum ab id repellendus', 'eos dolorem iste accusantium est eaque quam', 'enim quo cumque', 'non est facere', 'commodi ullam sint et excepturi error explicabo praesentium voluptas', 'eligendi iste nostrum consequuntur adipisci praesentium sit beatae perferendis', 'optio dolor molestias sit', 'ut numquam possimus omnis eius suscipit laudantium iure', 'aut quo modi neque nostrum ducimus', 'quibusdam cumque rem aut deserunt', 'ut voluptatem illum ea doloribus itaque eos', 'laborum non sunt aut ut assumenda perspiciatis voluptas', 'repellendus qui recusandae incidunt voluptates tenetur qui omnis exercitationem', 'soluta aliquam aperiam consequatur illo quis voluptas', 'qui enim et consequuntur quia animi quis voluptate quibusdam', 'ut quo aut ducimus alias', 'sit asperiores ipsam eveniet odio non quia', 'sit vel voluptatem et non libero', 'qui et at rerum necessitatibus', 'sed ab est est', 'voluptatum itaque dolores nisi et quasi', 'qui commodi dolor at maiores et quis id accusantium', 'consequatur placeat omnis quisquam quia reprehenderit fugit veritatis facere', 'voluptatem doloribus consectetur est ut ducimus', 'beatae enim quia vel', 'voluptas blanditiis repellendus animi ducimus error sapiente et suscipit', 'et fugit quas eum in in aperiam quod', 'consequatur id enim sunt et et', 'repudiandae ea animi iusto', 'aliquid eos sed fuga est maxime repellendus', 'odio quis facere architecto reiciendis optio', 'fugiat quod pariatur odit minima', 'voluptatem laborum magni', 'et iusto veniam et illum aut fuga', 'sint hic doloribus consequatur eos non id', 'consequuntur deleniti eos quia temporibus ab aliquid at', 'enim unde ratione doloribus quas enim ut sit sapiente', 'dignissimos eum dolor ut enim et delectus in', 'doloremque officiis ad et non perferendis', 'necessitatibus quasi exercitationem odio', 'quam voluptatibus rerum veritatis', 'pariatur consequatur quia magnam autem omnis non amet', 'labore in ex et explicabo corporis aut quas', 'tempora rem veritatis voluptas quo dolores vero', 'laudantium voluptate suscipit sunt enim enim', 'odit et voluptates doloribus alias odio et', 'optio ipsam molestias necessitatibus occaecati facilis veritatis dolores aut', 'dolore veritatis porro provident adipisci blanditiis et sunt', 'placeat quia et porro iste', 'nostrum quis quasi placeat', 'sapiente omnis fugit eos', 'sint soluta et vel magnam aut ut sed qui', 'ad iusto omnis odit dolor voluptatibus', 'aut amet sed', 'ratione ex tenetur perferendis', 'beatae soluta recusandae', 'qui qui voluptates illo iste minima', 'id minus libero illum nam ad officiis', 'quaerat velit veniam amet cupiditate aut numquam ut sequi', 'quas fugiat ut perspiciatis vero provident', 'laboriosam dolor voluptates', 'temporibus sit alias delectus eligendi possimus magni', 'at nam consequatur ea labore ea harum']\n",
            "Введите ID поста: 2\n",
            "ID поста: 2\n",
            "ID пользователя: 1\n",
            "Заголовок: qui est esse\n",
            "Текст поста: est rerum tempore vitae\n",
            "sequi sint nihil reprehenderit dolor beatae ea dolores neque\n",
            "fugiat blanditiis voluptate porro vel nihil molestiae ut reiciendis\n",
            "qui aperiam non debitis possimus qui neque nisi nulla\n",
            "['sunt aut facere repellat provident occaecati excepturi optio reprehenderit', 'qui est esse', 'ea molestias quasi exercitationem repellat qui ipsa sit aut', 'eum et est occaecati', 'nesciunt quas odio', 'dolorem eum magni eos aperiam quia', 'magnam facilis autem', 'dolorem dolore est ipsam', 'nesciunt iure omnis dolorem tempora et accusantium', 'optio molestias id quia eum', 'et ea vero quia laudantium autem', 'in quibusdam tempore odit est dolorem', 'dolorum ut in voluptas mollitia et saepe quo animi', 'voluptatem eligendi optio', 'eveniet quod temporibus', 'sint suscipit perspiciatis velit dolorum rerum ipsa laboriosam odio', 'fugit voluptas sed molestias voluptatem provident', 'voluptate et itaque vero tempora molestiae', 'adipisci placeat illum aut reiciendis qui', 'doloribus ad provident suscipit at', 'asperiores ea ipsam voluptatibus modi minima quia sint', 'dolor sint quo a velit explicabo quia nam', 'maxime id vitae nihil numquam', 'autem hic labore sunt dolores incidunt', 'rem alias distinctio quo quis', 'est et quae odit qui non', 'quasi id et eos tenetur aut quo autem', 'delectus ullam et corporis nulla voluptas sequi', 'iusto eius quod necessitatibus culpa ea', 'a quo magni similique perferendis', 'ullam ut quidem id aut vel consequuntur', 'doloremque illum aliquid sunt', 'qui explicabo molestiae dolorem', 'magnam ut rerum iure', 'id nihil consequatur molestias animi provident', 'fuga nam accusamus voluptas reiciendis itaque', 'provident vel ut sit ratione est', 'explicabo et eos deleniti nostrum ab id repellendus', 'eos dolorem iste accusantium est eaque quam', 'enim quo cumque', 'non est facere', 'commodi ullam sint et excepturi error explicabo praesentium voluptas', 'eligendi iste nostrum consequuntur adipisci praesentium sit beatae perferendis', 'optio dolor molestias sit', 'ut numquam possimus omnis eius suscipit laudantium iure', 'aut quo modi neque nostrum ducimus', 'quibusdam cumque rem aut deserunt', 'ut voluptatem illum ea doloribus itaque eos', 'laborum non sunt aut ut assumenda perspiciatis voluptas', 'repellendus qui recusandae incidunt voluptates tenetur qui omnis exercitationem', 'soluta aliquam aperiam consequatur illo quis voluptas', 'qui enim et consequuntur quia animi quis voluptate quibusdam', 'ut quo aut ducimus alias', 'sit asperiores ipsam eveniet odio non quia', 'sit vel voluptatem et non libero', 'qui et at rerum necessitatibus', 'sed ab est est', 'voluptatum itaque dolores nisi et quasi', 'qui commodi dolor at maiores et quis id accusantium', 'consequatur placeat omnis quisquam quia reprehenderit fugit veritatis facere', 'voluptatem doloribus consectetur est ut ducimus', 'beatae enim quia vel', 'voluptas blanditiis repellendus animi ducimus error sapiente et suscipit', 'et fugit quas eum in in aperiam quod', 'consequatur id enim sunt et et', 'repudiandae ea animi iusto', 'aliquid eos sed fuga est maxime repellendus', 'odio quis facere architecto reiciendis optio', 'fugiat quod pariatur odit minima', 'voluptatem laborum magni', 'et iusto veniam et illum aut fuga', 'sint hic doloribus consequatur eos non id', 'consequuntur deleniti eos quia temporibus ab aliquid at', 'enim unde ratione doloribus quas enim ut sit sapiente', 'dignissimos eum dolor ut enim et delectus in', 'doloremque officiis ad et non perferendis', 'necessitatibus quasi exercitationem odio', 'quam voluptatibus rerum veritatis', 'pariatur consequatur quia magnam autem omnis non amet', 'labore in ex et explicabo corporis aut quas', 'tempora rem veritatis voluptas quo dolores vero', 'laudantium voluptate suscipit sunt enim enim', 'odit et voluptates doloribus alias odio et', 'optio ipsam molestias necessitatibus occaecati facilis veritatis dolores aut', 'dolore veritatis porro provident adipisci blanditiis et sunt', 'placeat quia et porro iste', 'nostrum quis quasi placeat', 'sapiente omnis fugit eos', 'sint soluta et vel magnam aut ut sed qui', 'ad iusto omnis odit dolor voluptatibus', 'aut amet sed', 'ratione ex tenetur perferendis', 'beatae soluta recusandae', 'qui qui voluptates illo iste minima', 'id minus libero illum nam ad officiis', 'quaerat velit veniam amet cupiditate aut numquam ut sequi', 'quas fugiat ut perspiciatis vero provident', 'laboriosam dolor voluptates', 'temporibus sit alias delectus eligendi possimus magni', 'at nam consequatur ea labore ea harum']\n",
            "Введите ID поста: 3\n",
            "ID поста: 3\n",
            "ID пользователя: 1\n",
            "Заголовок: ea molestias quasi exercitationem repellat qui ipsa sit aut\n",
            "Текст поста: et iusto sed quo iure\n",
            "voluptatem occaecati omnis eligendi aut ad\n",
            "voluptatem doloribus vel accusantium quis pariatur\n",
            "molestiae porro eius odio et labore et velit aut\n"
          ]
        }
      ]
    },
    {
      "cell_type": "markdown",
      "source": [
        "## Задание 4. HTTP-запросы, ответы и работа с постами"
      ],
      "metadata": {
        "id": "rtwepQvJDy9N"
      }
    },
    {
      "cell_type": "markdown",
      "source": [
        "**Описание**\n",
        "\n",
        "Создайте программу, которая будет взаимодействовать с JSONPlaceholder API (из предыдущего задания), реализуя новые функции:\n",
        "\n",
        "1. Реализуйте функцию, которая принимает заголовок, содержимое и ID пользователя (информация вводится с помощью input()), выполняет POST-запрос для создания нового поста и возвращает информацию о созданном посте в формате JSON\n",
        "\n",
        "\n",
        "```\n",
        "Заголовок: Новый пост\n",
        "Содержимое поста: Тут должно находиться содержимое нового поста...\n",
        "ID пользователя: 10\n",
        "```\n",
        "\n",
        "\n",
        "\n",
        "2. Реализуйте функцию, которая принимает ID поста, новый заголовок и новое содержимое, выполняет PUT-запрос и возвращает обновлённый пост в формате JSON\n",
        "\n",
        "3. Реализуйте функцию, которая принимает ID поста, выполняет DELETE-запрос и возвращает статус-код ответа"
      ],
      "metadata": {
        "id": "4MjiaxDM58ta"
      }
    },
    {
      "cell_type": "code",
      "source": [
        "import requests\n",
        "\n",
        "# Функция запроса постов\n",
        "def send_request(url):\n",
        "    response = requests.get(url)\n",
        "    if response.status_code == 200:\n",
        "        return response.json()\n",
        "    else:\n",
        "        print('Response code:', response.status_code)\n",
        "        return False\n",
        "\n",
        "# API для получения постов\n",
        "url = 'https://jsonplaceholder.typicode.com/posts'\n",
        "data = send_request(url)\n",
        "\n",
        "# 1. Получение заголовков постов\n",
        "if data:\n",
        "    titles = [post['title'] for post in data]\n",
        "    print(\"Заголовки постов:\", titles)\n",
        "\n",
        "# Запрос по ID\n",
        "def get_post_by_id(post_id):\n",
        "    url1 = f'https://jsonplaceholder.typicode.com/posts/{post_id}'\n",
        "    response = requests.get(url1)\n",
        "    if response.status_code == 200:\n",
        "        return response.json()\n",
        "    else:\n",
        "        print('Ошибка при получении данных:', response.status_code)\n",
        "        return None\n",
        "\n",
        "\n",
        "def print_post_info(post_data):\n",
        "    if post_data:\n",
        "        print(\"ID поста:\", post_data.get('id'))\n",
        "        print(\"ID пользователя:\", post_data.get('userId'))\n",
        "        print(\"Заголовок:\", post_data.get('title'))\n",
        "        print(\"Текст:\", post_data.get('body'))\n",
        "    else:\n",
        "        print(\"Нет данных для отображения.\")\n",
        "\n",
        "\n",
        "\n",
        "def create_post(title, body, user_id):\n",
        "    url = 'https://jsonplaceholder.typicode.com/posts'\n",
        "    post_data = {\n",
        "        'title': title,\n",
        "        'body': body,\n",
        "        'userId': user_id}\n",
        "    response = requests.post(url, json=post_data)\n",
        "    if response.status_code == 201:\n",
        "        print(\"Пост успешно создан!\")\n",
        "        return response.json()\n",
        "    else:\n",
        "        print(\"Ошибка при создании поста:\", response.status_code)\n",
        "        return None\n",
        "\n",
        "\n",
        "\n",
        "def update_post(post_id, new_title, new_body):\n",
        "    url = f'https://jsonplaceholder.typicode.com/posts/{post_id}'\n",
        "    updated_data = {\n",
        "        'title': new_title,\n",
        "        'body': new_body\n",
        "    }\n",
        "    response = requests.put(url, json=updated_data)\n",
        "    if response.status_code == 200:\n",
        "        print(\"Пост успешно обновлён!\")\n",
        "        return response.json()\n",
        "    else:\n",
        "        print(\"Ошибка при обновлении поста:\", response.status_code)\n",
        "        return None\n",
        "\n",
        "\n",
        "\n",
        "def delete_post(post_id):\n",
        "    url = f'https://jsonplaceholder.typicode.com/posts/{post_id}'\n",
        "    response = requests.delete(url)\n",
        "    if response.status_code == 200:\n",
        "        print(\"Пост успешно удалён!\")\n",
        "        return True\n",
        "    else:\n",
        "        print(\"Ошибка при удалении поста:\", response.status_code)\n",
        "        return False\n",
        "\n",
        "\n",
        "if __name__ == \"__main__\":\n",
        "    post_id = int(input(\"Введите ID поста: \"))\n",
        "    post_data = get_post_by_id(post_id)\n",
        "    print_post_info(post_data)\n",
        "\n",
        "\n",
        "    new_title = input(\"\\n Заголовок нового поста: \")\n",
        "    new_body = input(\"Содержимое нового поста: \")\n",
        "    user_id = int(input(\"ID пользователя: \"))\n",
        "    new_post = create_post(new_title, new_body, user_id)\n",
        "    print(\"Пост:\", new_post)\n",
        "\n",
        "    # Обновление поста\n",
        "    update_post_id = int(input(\"\\nID поста для обновления: \"))\n",
        "    updated_title = input(\"Новый заголовок поста: \")\n",
        "    updated_body = input(\"Новое содержимое поста: \")\n",
        "    updated_post = update_post(update_post_id, updated_title, updated_body)\n",
        "    print(\"Обновлённый пост:\", updated_post)\n",
        "\n",
        "    # Удаление поста\n",
        "    delete_post_id = int(input(\"\\nВведите ID поста для удаления: \"))\n",
        "    delete_post(delete_post_id)\n",
        "\n"
      ],
      "metadata": {
        "id": "jZUIdwq96DNl"
      },
      "execution_count": null,
      "outputs": []
    },
    {
      "cell_type": "markdown",
      "source": [
        "## Задание 5. HTTP-запросы, ответы и пёсики"
      ],
      "metadata": {
        "id": "0UoRc9vOD3XT"
      }
    },
    {
      "cell_type": "markdown",
      "source": [
        "**Описание**\n",
        "\n",
        "Создайте программу, которая будет взаимодействовать с Dog API, которая позволит получать список пород собак, вводить несколько пород и получать их фотогрфии.\n",
        "\n",
        "Этапы:\n",
        "\n",
        "1. Создайте функцию, которая использует метод GET и возвращает список всех пород собак в формате нумерованного списка\n",
        "\n",
        "2. Реализуйте возможность ввода нескольких пород собак через запятую\n",
        "\n",
        "\n",
        "```\n",
        "african, chow, dingo\n",
        "```\n",
        "\n",
        "\n",
        "\n",
        "3. Создание функции, которая реализует запрос, возвращает и выводит изображениия собак, породы которых были введены до этого\n",
        "\n",
        "\n",
        "Используйте Dog API (https://dog.ceo/dog-api/), который предоставляет информацию о породах собак и их изображения.\n"
      ],
      "metadata": {
        "id": "y0EyPsFQ6mSZ"
      }
    },
    {
      "cell_type": "markdown",
      "source": [
        "*Подсказка*\n",
        "\n",
        "\n",
        "\n",
        "```\n",
        "import requests\n",
        "from PIL import Image\n",
        "from IPython.display import display\n",
        "import io\n",
        "\n",
        "url = <____>\n",
        "response = <____>\n",
        "        \n",
        "if response.<______> == <___>:\n",
        "      image_url = response.json()['message']\n",
        "\n",
        "res = requests.<__>(image_url)\n",
        "img = Image.open(io.BytesIO(res.content))\n",
        "display(img)\n",
        "```\n",
        "\n"
      ],
      "metadata": {
        "id": "yrKv5k13AKEP"
      }
    },
    {
      "cell_type": "code",
      "source": [
        "import requests\n",
        "from PIL import Image\n",
        "from IPython.display import display\n",
        "import io\n",
        "\n",
        "\n",
        "# Функция для получения списка всех пород собак\n",
        "def get_breed_list():\n",
        "    url = 'https://dog.ceo/api/breeds/list/all'\n",
        "    response = requests.get(url)\n",
        "    if response.status_code == 200:\n",
        "        breeds = response.json()['message']\n",
        "        breed_list = list(breeds.keys())\n",
        "        print(\"Список доступных пород:\")\n",
        "        for idx, breed in enumerate(breed_list, 1):\n",
        "            print(f\"{idx}. {breed}\")\n",
        "        return breed_list\n",
        "    else:\n",
        "        print(\"Не удалось получить список пород\")\n",
        "        return None\n",
        "\n",
        "\n",
        "\n",
        "def display_breed_images(breeds):\n",
        "    for breed in breeds:\n",
        "        url = f'https://dog.ceo/api/breed/{breed}/images/random'\n",
        "        response = requests.get(url)\n",
        "        if response.status_code == 200:\n",
        "            image_url = response.json()['message']\n",
        "            res = requests.get(image_url)\n",
        "            img = Image.open(io.BytesIO(res.content))\n",
        "            print(f\"Изображение породы {breed}:\")\n",
        "            display(img)\n",
        "        else:\n",
        "            print(f\"Не удалось получить изображение для породы {breed}\")\n",
        "\n",
        "\n",
        "\n",
        "def main():\n",
        "    breed_list = get_breed_list()\n",
        "    if not breed_list:\n",
        "        return\n",
        "\n",
        "\n",
        "    user_input = input(\"Введите породы через запятую: \")\n",
        "    selected_breeds = [breed.strip() for breed in user_input.split(',')]\n",
        "\n",
        "\n",
        "    valid_breeds = [breed for breed in selected_breeds if breed in breed_list]\n",
        "    if valid_breeds:\n",
        "        display_breed_images(valid_breeds)\n",
        "    else:\n",
        "        print(\"Ни одна из введенных пород не найдена.\")\n",
        "\n",
        "\n",
        "main()\n"
      ],
      "metadata": {
        "id": "5xti3KRP4Kzp",
        "colab": {
          "base_uri": "https://localhost:8080/",
          "height": 1000
        },
        "outputId": "7825c4e0-cb37-45dc-dc71-540ca1668c50"
      },
      "execution_count": null,
      "outputs": [
        {
          "output_type": "stream",
          "name": "stdout",
          "text": [
            "Список доступных пород:\n",
            "1. affenpinscher\n",
            "2. african\n",
            "3. airedale\n",
            "4. akita\n",
            "5. appenzeller\n",
            "6. australian\n",
            "7. bakharwal\n",
            "8. basenji\n",
            "9. beagle\n",
            "10. bluetick\n",
            "11. borzoi\n",
            "12. bouvier\n",
            "13. boxer\n",
            "14. brabancon\n",
            "15. briard\n",
            "16. buhund\n",
            "17. bulldog\n",
            "18. bullterrier\n",
            "19. cattledog\n",
            "20. cavapoo\n",
            "21. chihuahua\n",
            "22. chippiparai\n",
            "23. chow\n",
            "24. clumber\n",
            "25. cockapoo\n",
            "26. collie\n",
            "27. coonhound\n",
            "28. corgi\n",
            "29. cotondetulear\n",
            "30. dachshund\n",
            "31. dalmatian\n",
            "32. dane\n",
            "33. danish\n",
            "34. deerhound\n",
            "35. dhole\n",
            "36. dingo\n",
            "37. doberman\n",
            "38. elkhound\n",
            "39. entlebucher\n",
            "40. eskimo\n",
            "41. finnish\n",
            "42. frise\n",
            "43. gaddi\n",
            "44. germanshepherd\n",
            "45. greyhound\n",
            "46. groenendael\n",
            "47. havanese\n",
            "48. hound\n",
            "49. husky\n",
            "50. keeshond\n",
            "51. kelpie\n",
            "52. kombai\n",
            "53. komondor\n",
            "54. kuvasz\n",
            "55. labradoodle\n",
            "56. labrador\n",
            "57. leonberg\n",
            "58. lhasa\n",
            "59. malamute\n",
            "60. malinois\n",
            "61. maltese\n",
            "62. mastiff\n",
            "63. mexicanhairless\n",
            "64. mix\n",
            "65. mountain\n",
            "66. mudhol\n",
            "67. newfoundland\n",
            "68. otterhound\n",
            "69. ovcharka\n",
            "70. papillon\n",
            "71. pariah\n",
            "72. pekinese\n",
            "73. pembroke\n",
            "74. pinscher\n",
            "75. pitbull\n",
            "76. pointer\n",
            "77. pomeranian\n",
            "78. poodle\n",
            "79. pug\n",
            "80. puggle\n",
            "81. pyrenees\n",
            "82. rajapalayam\n",
            "83. redbone\n",
            "84. retriever\n",
            "85. ridgeback\n",
            "86. rottweiler\n",
            "87. saluki\n",
            "88. samoyed\n",
            "89. schipperke\n",
            "90. schnauzer\n",
            "91. segugio\n",
            "92. setter\n",
            "93. sharpei\n",
            "94. sheepdog\n",
            "95. shiba\n",
            "96. shihtzu\n",
            "97. spaniel\n",
            "98. spitz\n",
            "99. springer\n",
            "100. stbernard\n",
            "101. terrier\n",
            "102. tervuren\n",
            "103. vizsla\n",
            "104. waterdog\n",
            "105. weimaraner\n",
            "106. whippet\n",
            "107. wolfhound\n"
          ]
        },
        {
          "output_type": "error",
          "ename": "KeyboardInterrupt",
          "evalue": "Interrupted by user",
          "traceback": [
            "\u001b[0;31m---------------------------------------------------------------------------\u001b[0m",
            "\u001b[0;31mKeyboardInterrupt\u001b[0m                         Traceback (most recent call last)",
            "\u001b[0;32m<ipython-input-1-d92552d380c4>\u001b[0m in \u001b[0;36m<cell line: 56>\u001b[0;34m()\u001b[0m\n\u001b[1;32m     54\u001b[0m \u001b[0;34m\u001b[0m\u001b[0m\n\u001b[1;32m     55\u001b[0m \u001b[0;34m\u001b[0m\u001b[0m\n\u001b[0;32m---> 56\u001b[0;31m \u001b[0mmain\u001b[0m\u001b[0;34m(\u001b[0m\u001b[0;34m)\u001b[0m\u001b[0;34m\u001b[0m\u001b[0;34m\u001b[0m\u001b[0m\n\u001b[0m",
            "\u001b[0;32m<ipython-input-1-d92552d380c4>\u001b[0m in \u001b[0;36mmain\u001b[0;34m()\u001b[0m\n\u001b[1;32m     43\u001b[0m \u001b[0;34m\u001b[0m\u001b[0m\n\u001b[1;32m     44\u001b[0m \u001b[0;34m\u001b[0m\u001b[0m\n\u001b[0;32m---> 45\u001b[0;31m     \u001b[0muser_input\u001b[0m \u001b[0;34m=\u001b[0m \u001b[0minput\u001b[0m\u001b[0;34m(\u001b[0m\u001b[0;34m\"Введите породы через запятую: \"\u001b[0m\u001b[0;34m)\u001b[0m\u001b[0;34m\u001b[0m\u001b[0;34m\u001b[0m\u001b[0m\n\u001b[0m\u001b[1;32m     46\u001b[0m     \u001b[0mselected_breeds\u001b[0m \u001b[0;34m=\u001b[0m \u001b[0;34m[\u001b[0m\u001b[0mbreed\u001b[0m\u001b[0;34m.\u001b[0m\u001b[0mstrip\u001b[0m\u001b[0;34m(\u001b[0m\u001b[0;34m)\u001b[0m \u001b[0;32mfor\u001b[0m \u001b[0mbreed\u001b[0m \u001b[0;32min\u001b[0m \u001b[0muser_input\u001b[0m\u001b[0;34m.\u001b[0m\u001b[0msplit\u001b[0m\u001b[0;34m(\u001b[0m\u001b[0;34m','\u001b[0m\u001b[0;34m)\u001b[0m\u001b[0;34m]\u001b[0m\u001b[0;34m\u001b[0m\u001b[0;34m\u001b[0m\u001b[0m\n\u001b[1;32m     47\u001b[0m \u001b[0;34m\u001b[0m\u001b[0m\n",
            "\u001b[0;32m/usr/local/lib/python3.10/dist-packages/ipykernel/kernelbase.py\u001b[0m in \u001b[0;36mraw_input\u001b[0;34m(self, prompt)\u001b[0m\n\u001b[1;32m    849\u001b[0m                 \u001b[0;34m\"raw_input was called, but this frontend does not support input requests.\"\u001b[0m\u001b[0;34m\u001b[0m\u001b[0;34m\u001b[0m\u001b[0m\n\u001b[1;32m    850\u001b[0m             )\n\u001b[0;32m--> 851\u001b[0;31m         return self._input_request(str(prompt),\n\u001b[0m\u001b[1;32m    852\u001b[0m             \u001b[0mself\u001b[0m\u001b[0;34m.\u001b[0m\u001b[0m_parent_ident\u001b[0m\u001b[0;34m,\u001b[0m\u001b[0;34m\u001b[0m\u001b[0;34m\u001b[0m\u001b[0m\n\u001b[1;32m    853\u001b[0m             \u001b[0mself\u001b[0m\u001b[0;34m.\u001b[0m\u001b[0m_parent_header\u001b[0m\u001b[0;34m,\u001b[0m\u001b[0;34m\u001b[0m\u001b[0;34m\u001b[0m\u001b[0m\n",
            "\u001b[0;32m/usr/local/lib/python3.10/dist-packages/ipykernel/kernelbase.py\u001b[0m in \u001b[0;36m_input_request\u001b[0;34m(self, prompt, ident, parent, password)\u001b[0m\n\u001b[1;32m    893\u001b[0m             \u001b[0;32mexcept\u001b[0m \u001b[0mKeyboardInterrupt\u001b[0m\u001b[0;34m:\u001b[0m\u001b[0;34m\u001b[0m\u001b[0;34m\u001b[0m\u001b[0m\n\u001b[1;32m    894\u001b[0m                 \u001b[0;31m# re-raise KeyboardInterrupt, to truncate traceback\u001b[0m\u001b[0;34m\u001b[0m\u001b[0;34m\u001b[0m\u001b[0m\n\u001b[0;32m--> 895\u001b[0;31m                 \u001b[0;32mraise\u001b[0m \u001b[0mKeyboardInterrupt\u001b[0m\u001b[0;34m(\u001b[0m\u001b[0;34m\"Interrupted by user\"\u001b[0m\u001b[0;34m)\u001b[0m \u001b[0;32mfrom\u001b[0m \u001b[0;32mNone\u001b[0m\u001b[0;34m\u001b[0m\u001b[0;34m\u001b[0m\u001b[0m\n\u001b[0m\u001b[1;32m    896\u001b[0m             \u001b[0;32mexcept\u001b[0m \u001b[0mException\u001b[0m \u001b[0;32mas\u001b[0m \u001b[0me\u001b[0m\u001b[0;34m:\u001b[0m\u001b[0;34m\u001b[0m\u001b[0;34m\u001b[0m\u001b[0m\n\u001b[1;32m    897\u001b[0m                 \u001b[0mself\u001b[0m\u001b[0;34m.\u001b[0m\u001b[0mlog\u001b[0m\u001b[0;34m.\u001b[0m\u001b[0mwarning\u001b[0m\u001b[0;34m(\u001b[0m\u001b[0;34m\"Invalid Message:\"\u001b[0m\u001b[0;34m,\u001b[0m \u001b[0mexc_info\u001b[0m\u001b[0;34m=\u001b[0m\u001b[0;32mTrue\u001b[0m\u001b[0;34m)\u001b[0m\u001b[0;34m\u001b[0m\u001b[0;34m\u001b[0m\u001b[0m\n",
            "\u001b[0;31mKeyboardInterrupt\u001b[0m: Interrupted by user"
          ]
        }
      ]
    }
  ]
}