{
  "nbformat": 4,
  "nbformat_minor": 0,
  "metadata": {
    "colab": {
      "provenance": [],
      "include_colab_link": true
    },
    "kernelspec": {
      "name": "python3",
      "display_name": "Python 3"
    },
    "language_info": {
      "name": "python"
    }
  },
  "cells": [
    {
      "cell_type": "markdown",
      "metadata": {
        "id": "view-in-github",
        "colab_type": "text"
      },
      "source": [
        "<a href=\"https://colab.research.google.com/github/Nagiev-programmer/my-practices/blob/main/%22%D0%9F%D1%80%D0%B0%D0%BA%D1%82%D0%B8%D0%BA%D0%B0_10_0_ipynb%22.ipynb\" target=\"_parent\"><img src=\"https://colab.research.google.com/assets/colab-badge.svg\" alt=\"Open In Colab\"/></a>"
      ]
    },
    {
      "cell_type": "markdown",
      "source": [
        "ФИО:"
      ],
      "metadata": {
        "id": "fLDS5f_mCnPa"
      }
    },
    {
      "cell_type": "code",
      "source": [
        "'''Кос А.Аэ'''"
      ],
      "metadata": {
        "id": "4Bz3gR0Jdkku"
      },
      "execution_count": null,
      "outputs": []
    },
    {
      "cell_type": "markdown",
      "source": [
        "# Задание (совместное с преподавателем)\n",
        "\n",
        "\n"
      ],
      "metadata": {
        "id": "-CSHUbWzCqeM"
      }
    },
    {
      "cell_type": "markdown",
      "source": [
        "Напишите систему для учёта отпусков с возможностью узнавать, сколько дней отпуска осталось у того или иного сотрудника.\n",
        "Для этого создайте класс Employee со следующими методами:\n",
        "\n",
        "- Метод consume_vacation должен отвечать за списание дней отпуска.\n",
        "\n",
        "Единственный параметр этого метода (кроме self) — количество потраченных отпускных дней (целое число).\n",
        "\n",
        "При вызове метода consume_vacation соответствующее количество дней должно вычитаться из общего числа доступных отпускных дней сотрудника.\n",
        "\n",
        "Чтобы определить число доступных отпускных дней конкретного сотрудника, в классе опишите атрибут экземпляра |, который по умолчанию будет равен значению атрибута класса vacation_days, и используйте этот атрибут в работе метода.\n",
        "\n",
        "- Метод get_vacation_details должен возвращать остаток отпускных дней сотрудника в формате: ```Остаток отпускных дней: <число>.```\n",
        "\n",
        "\n",
        "Чтобы проверить работу программы:\n",
        "1. Создайте экземпляр класса Employee.\n",
        "2. Вызовите метод consume_vacation, указав подходящее значение аргумента, например 7.\n",
        "3. Вызовите метод get_vacation_details."
      ],
      "metadata": {
        "id": "a_flBjZOCwYz"
      }
    },
    {
      "cell_type": "code",
      "source": [
        "class Employee():\n",
        "    vacation_days = 30\n",
        "\n",
        "    def __init__(self):\n",
        "        self.remaining_vacation_days = Employee.vacation_days\n",
        "\n",
        "\n",
        "    def consume_vacation(self, days):\n",
        "        if days < 0:\n",
        "            print(\"Отрицательное число\")\n",
        "            return\n",
        "        if days > self.remaining_vacation_days:\n",
        "            print(\"Недостаточно отпускных дней для списания!\")\n",
        "            return\n",
        "        self.remaining_vacation_days -= days\n",
        "\n",
        "\n",
        "    def get_vacation_details(self):\n",
        "        return f\"Остаток отпуска: {self.remaining_vacation_days}\"\n",
        "\n",
        "\n",
        "employee = Employee()\n",
        "employee.consume_vacation(7)\n",
        "\n",
        "# Выводим информацию об оставшихся днях\n",
        "print(employee.get_vacation_details())  # Остаток отпускных дней: 21\n"
      ],
      "metadata": {
        "id": "2TyRY9a1XCOu",
        "colab": {
          "base_uri": "https://localhost:8080/"
        },
        "outputId": "ec439c02-9e46-447a-81ac-c30cba304341"
      },
      "execution_count": null,
      "outputs": [
        {
          "output_type": "stream",
          "name": "stdout",
          "text": [
            "Остаток отпуска: 23\n"
          ]
        }
      ]
    },
    {
      "cell_type": "markdown",
      "source": [
        "# Задание 1"
      ],
      "metadata": {
        "id": "C0Z_wXo9XIr2"
      }
    },
    {
      "cell_type": "markdown",
      "source": [
        "Задание:\n",
        "\n",
        "Создайте класс с именем Rectangle который имеет:\n",
        "- Атрибуты ширины и высоты.\n",
        "- Метод расчета площади.\n",
        "- Метод расчета периметра.\n",
        "- Метод отображения размеров прямоугольника.\n",
        "\n",
        "Создайте экземпляр класса Rectangleи продемонстрируйте его функциональность."
      ],
      "metadata": {
        "id": "jQ4qqd8nEZBY"
      }
    },
    {
      "cell_type": "code",
      "source": [
        "class Rectangle:\n",
        "    def __init__(self, width, height):\n",
        "        self.width = width\n",
        "        self.height = height\n",
        "\n",
        "\n",
        "    def calculate_area(self):\n",
        "        return self.width * self.height\n",
        "\n",
        "\n",
        "    def calculate_perimeter(self):\n",
        "        return 2 * (self.width + self.height)\n",
        "\n",
        "\n",
        "    def display_dimensions(self):\n",
        "        return f\"Ширина: {self.width}, Высота: {self.height}\"\n",
        "\n",
        "\n",
        "rect = Rectangle(8, 10)\n",
        "\n",
        "\n",
        "print(rect.display_dimensions())  # размеры\n",
        "print(f\"Площадь: {rect.calculate_area()}\")  # площадь\n",
        "print(f\"Периметр: {rect.calculate_perimeter()}\")  # периметр\n"
      ],
      "metadata": {
        "id": "dG6uNPqTEAvt",
        "colab": {
          "base_uri": "https://localhost:8080/"
        },
        "outputId": "b2c1de21-5eeb-4501-a0fd-3dba3506a128"
      },
      "execution_count": null,
      "outputs": [
        {
          "output_type": "stream",
          "name": "stdout",
          "text": [
            "Ширина: 8, Высота: 10\n",
            "Площадь: 80\n",
            "Периметр: 36\n"
          ]
        }
      ]
    },
    {
      "cell_type": "markdown",
      "source": [
        "# Задание 2"
      ],
      "metadata": {
        "id": "0ct1u6lqE73j"
      }
    },
    {
      "cell_type": "markdown",
      "source": [
        "Задание: Создайте мини версию банковской системы:\n",
        "\n",
        "\n",
        "Инструкции:\n",
        "\n",
        "1. Создайте класс BankAccountсо следующими атрибутами:\n",
        "    - account_holder -  владелец счета\n",
        "    - balance - баланс счета\n",
        "\n",
        "2. Реализуйте следующие методы:\n",
        "    - Метод для инициализации владельца счета: имя владельца счета и установите начальный баланс на 0.\n",
        "    - deposit(amount): Добавьте указанную сумму к балансу.\n",
        "    - withdraw(amount): Вычесть указанную сумму из баланса, если средств достаточно; в противном случае вывести предупреждение.\n",
        "    - get_balance(): Возврат текущего баланса.\n",
        "\n",
        "\n",
        "Создайте объект класса и продемонстрируйте его возможности"
      ],
      "metadata": {
        "id": "FOpIpcLxE-WK"
      }
    },
    {
      "cell_type": "code",
      "source": [
        "class BankAccountco:\n",
        "  def __init__(self,account_holder):\n",
        "    self.account_holder = account_holder\n",
        "    self.balance = 0\n",
        "\n",
        "\n",
        "  def deposit(self,summa): # Депозит\n",
        "    if summa <= 0:\n",
        "      print(\"Сумма должна быть больше 0\")\n",
        "      return\n",
        "    self.balance += summa\n",
        "    print(f\"Сумма в размере {summa} внесена , Cейчас на счете: {self.balance} рублей\")\n",
        "\n",
        "\n",
        "  def withdraf(self,summa): # Снятие денег\n",
        "    if summa <= 0:\n",
        "      print(\"Сумма должна быть больше 0\")\n",
        "      return\n",
        "    if summa > self.balance:\n",
        "      print(\"Недостаточно средств на счете\")\n",
        "      return\n",
        "    self.balance -= summa\n",
        "    print(f\"Сумма в размере {summa} снята со счета , Cейчас на счете: {self.balance} рублей\")\n",
        "\n",
        "\n",
        "  def get_balance(self):\n",
        "    return f\"На данный момент на счете {self.balance} рублей\"\n",
        "\n",
        "\n",
        "account = BankAccountco(\"Вадим\")\n",
        "\n",
        "account.deposit(1000)\n",
        "\n",
        "account.withdraf(500)\n",
        "\n",
        "print(account.get_balance())\n",
        "\n"
      ],
      "metadata": {
        "colab": {
          "base_uri": "https://localhost:8080/"
        },
        "id": "BGvWKEq0jkl4",
        "outputId": "f9368ff5-43b6-4a1e-d220-7ff1f0e28581"
      },
      "execution_count": null,
      "outputs": [
        {
          "output_type": "stream",
          "name": "stdout",
          "text": [
            "Сумма в размере 1000 внесена , Cейчас на счете: 1000 рублей\n",
            "Сумма в размере 500 снята со счета , Cейчас на счете: 500 рублей\n",
            "На данный момент на счете 500 рублей\n"
          ]
        }
      ]
    },
    {
      "cell_type": "markdown",
      "source": [
        "# Задание 3"
      ],
      "metadata": {
        "id": "C5DX5Uf2FfP6"
      }
    },
    {
      "cell_type": "markdown",
      "source": [
        "Возьмите код и задание (Рыцарь и дракон) из предыдущей практики и реализуйте его с применением классов"
      ],
      "metadata": {
        "id": "0cR-MYepFgz6"
      }
    },
    {
      "cell_type": "code",
      "source": [
        "class Character:\n",
        "    def __init__(self, name, health, attack):\n",
        "        self.name = name\n",
        "        self.health = health\n",
        "        self.attack_power = attack_power\n",
        "\n",
        "\n",
        "    def attack(self, target):\n",
        "        print(f\"{self.name} атакует {target.name} с мощностью атаки {self.attack_power}.\")\n",
        "        target.take_damage(self.attack_power)\n",
        "\n",
        "\n",
        "    def take_damage(self, damage): # Урон\n",
        "        self.health -= damage\n",
        "        if self.health <= 0:\n",
        "            print(f\"{self.name} погиб.\")\n",
        "        else:\n",
        "            print(f\"{self.name} получил {damage} урона. Осталось здоровья: {self.health}.\")\n",
        "\n",
        "\n",
        "    def is_alive(self): # Уже победа или нет\n",
        "        return self.health > 0\n",
        "        print(\"Он еще жив\")\n",
        "\n",
        "\n",
        "class Knight(Character):\n",
        "    def __init__(self, name, health, attack_power, shield):\n",
        "        super().__init__(name, health, attack_power)\n",
        "        self.shield = shield\n",
        "\n",
        "\n",
        "    def take_damage(self, damage):\n",
        "        reduced_damage = max(damage - self.shield, 0)\n",
        "        print(f\"{self.name} блокирует {self.shield} урона\")\n",
        "        super().take_damage(reduced_damage)\n",
        "\n",
        "\n",
        "class Dragon(Character):\n",
        "    def fire_breath(self, target):\n",
        "        fire_damage = self.attack_power * 2\n",
        "        print(f\"{self.name} использует огненное дыхание против {target.name}, нанося {fire_damage} урона\")\n",
        "        target.take_damage(fire_damage)\n",
        "\n",
        "\n",
        "def battle():\n",
        "    print(\"Битва start\")\n",
        "    knight = Knight(\"Вадим\", health=100, attack_power=20, shield=10)\n",
        "    dragon = Dragon(\"Ярик\", health=150, attack_power=25)\n",
        "\n",
        "    while knight.is_alive() and dragon.is_alive():\n",
        "        knight.attack(dragon)\n",
        "        if not dragon.is_alive():\n",
        "            print(\"Рыцарь победил дракона!\")\n",
        "            break\n",
        "\n",
        "        dragon.fire_breath(knight)\n",
        "        if not knight.is_alive():\n",
        "            print(\"Дракон победил рыцаря\")\n",
        "            break\n",
        "\n",
        "\n",
        "battle()\n"
      ],
      "metadata": {
        "id": "Oz9BZbhAFwua"
      },
      "execution_count": null,
      "outputs": []
    },
    {
      "cell_type": "markdown",
      "source": [
        "# Дополнительное задание\n"
      ],
      "metadata": {
        "id": "b_mJHXcQGI9t"
      }
    },
    {
      "cell_type": "markdown",
      "source": [
        "Задача: Система управления библиотекой\n",
        "\n",
        "**Цель**\n",
        "Создайте простую систему управления библиотекой, которая позволит пользователям добавлять книги, брать книги, возвращать книги и просматривать список доступных книг.\n",
        "\n",
        "**Требования**\n",
        "\n",
        "1. **Определение класса**:\n",
        "   – Создайте класс с именем «Book» со следующими атрибутами:\n",
        "     - `title`\n",
        "     - `автор`\n",
        "     - `isbn`\n",
        "     - `is_borrowed` (по умолчанию `False`)\n",
        "\n",
        "2. **Класс библиотеки**:\n",
        "   - Создайте класс с именем Library, который управляет коллекцией книг.\n",
        "   - Класс должен иметь следующие методы:\n",
        "     - `__init__(self)`: инициализирует пустой список книг.\n",
        "     - `add_book(self, book: Book)`: добавляет новую книгу в библиотеку.\n",
        "     - `borrow_book(self, isbn: str)`: помечает книгу как заимствованную. Если книга не найдена или уже взята, выведите соответствующее сообщение.\n",
        "     - `return_book(self, isbn: str)`: помечает книгу как возвращенную. Если книга не найдена или не была взята взаймы, выведите соответствующее сообщение.\n",
        "     - `list_available_books(self)`: печатает список всех доступных книг в библиотеке.\n",
        "     - `find_book(self, isbn: str)`: возвращает объект книги, если он найден, в противном случае возвращает `None`.\n",
        "\n",
        "3. **Взаимодействие с пользователем**:\n",
        "   - Создайте простое текстовое меню, которое позволит пользователям:\n",
        "     - Добавить книгу\n",
        "     - Одолжить книгу\n",
        "     - Вернуть книгу\n",
        "     - Список доступных книг\n",
        "     - Выйти из программы"
      ],
      "metadata": {
        "id": "pnIUdFPcGOVL"
      }
    },
    {
      "cell_type": "markdown",
      "source": [],
      "metadata": {
        "id": "nSvOkYSDrxeo"
      }
    },
    {
      "cell_type": "code",
      "source": [
        "class Book:\n",
        "  def __init__(self, title, avtor, isbn, is_borrowed = False):\n",
        "    self.title = title\n",
        "    self.avtor = avtor\n",
        "    self.isbn = isbn\n",
        "    self.is_borrowed = False\n",
        "\n",
        "\n",
        "\n",
        "\n",
        "\n",
        "class Library:\n",
        "    def __init__(self):\n",
        "        self.books = []\n",
        "\n"
      ],
      "metadata": {
        "id": "_pgbYfrTsI7E"
      },
      "execution_count": null,
      "outputs": []
    }
  ]
}