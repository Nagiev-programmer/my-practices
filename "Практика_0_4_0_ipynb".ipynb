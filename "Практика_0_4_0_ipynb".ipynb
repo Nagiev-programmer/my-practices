{
  "nbformat": 4,
  "nbformat_minor": 0,
  "metadata": {
    "colab": {
      "provenance": [],
      "include_colab_link": true
    },
    "kernelspec": {
      "name": "python3",
      "display_name": "Python 3"
    },
    "language_info": {
      "name": "python"
    }
  },
  "cells": [
    {
      "cell_type": "markdown",
      "metadata": {
        "id": "view-in-github",
        "colab_type": "text"
      },
      "source": [
        "<a href=\"https://colab.research.google.com/github/Nagiev-programmer/my-practices/blob/main/%22%D0%9F%D1%80%D0%B0%D0%BA%D1%82%D0%B8%D0%BA%D0%B0_0_4_0_ipynb%22.ipynb\" target=\"_parent\"><img src=\"https://colab.research.google.com/assets/colab-badge.svg\" alt=\"Open In Colab\"/></a>"
      ]
    },
    {
      "cell_type": "markdown",
      "source": [
        "Введите ваше ФИО:"
      ],
      "metadata": {
        "id": "k8oVfdwrMXyc"
      }
    },
    {
      "cell_type": "code",
      "execution_count": null,
      "metadata": {
        "id": "5mcBLsKMI1-5"
      },
      "outputs": [],
      "source": []
    },
    {
      "cell_type": "markdown",
      "source": [
        "***Дисклеймер***\n",
        "\n",
        "В данной практике запрещено использования функций:\n",
        "\n",
        "\n",
        "*   sum()\n",
        "*   min()\n",
        "*   max()\n",
        "*   average()\n",
        "*   reversed()\n",
        "*   sorted()\n",
        "*   готовые функции или библиотеки\n"
      ],
      "metadata": {
        "id": "8HbYUbm3Jw3o"
      }
    },
    {
      "cell_type": "markdown",
      "source": [
        "\n",
        "**Задача 1:**\n",
        "\n",
        "\n",
        "\n",
        "Интернет-магазин предлагает следующие условия скидок:\n",
        "\n",
        "*   Для заказов больше 1000 единиц, клиент получает скидку 5%. Если клиент использует промокод SUPERDISCOUNT, он получает скидку 10% (вместо 5%).\n",
        "*  Для заказов более 5000 единиц, клиент получает скидку 15%, а использование промокода SUPERDISCOUNT увеличивает скидку до 20% (вместо 15%).\n",
        "\n",
        "Этап 1:\n",
        "Ввод:\n",
        "```\n",
        "Введите стоимость единицы товара: 5\n",
        "Введите количество товара: 1001\n",
        "Введите промокод: GiVEMEDISCONT\n",
        "```\n",
        "\n",
        "Вывод:\n",
        "\n",
        "```\n",
        "Ваша скидка: 5%\n",
        "Итоговая сумма: 4754.75\n",
        "```\n",
        "Этап 2:\n",
        "\n",
        "Оформите ваш код в виде функции"
      ],
      "metadata": {
        "id": "HmX0c6YPJSQr"
      }
    },
    {
      "cell_type": "code",
      "source": [
        "cost = int(input())\n",
        "units = int(input())\n",
        "promo = input()\n",
        "totalprice = cost * units\n",
        "\n",
        "\n",
        "if 0 < units <= 1000: # вариант меньше 1001 единиц\n",
        "  print(\"У вас нет скидки\")\n",
        "  print(\"Итоговая сумма:\", totalprice)\n",
        "\n",
        "\n",
        "if 1000 < units <= 5000 and promo == 'GiVEMEDISCONT': # вариант от 1001 до 5000\n",
        "  discount = 0.1 * totalprice\n",
        "  totalprice = totalprice - discount\n",
        "  print(\"Ваша скидка: 10 %\")\n",
        "  print(\"Итоговая сумма:\", totalprice)\n",
        "elif 1000 < units <= 5000:\n",
        "  discount = 0.05 * totalprice\n",
        "  totalprice = totalprice - discount\n",
        "  print(\"Ваша скидка: 5 %\")\n",
        "  print(\"Итоговая сумма:\" , totalprice)\n",
        "\n",
        "\n",
        "if units > 5000 and promo == 'SUPERDISCONT': # вариант от 5000\n",
        "  discount = 0.2 * totalprice\n",
        "  totalprice = totalprice - discount\n",
        "  print(\"Ваша скидка: 20 %\")\n",
        "  print(\"Итоговая сумма:\" , totalprice)\n",
        "elif units > 5000:\n",
        "  discount = 0.15 * totalprice\n",
        "  totalprice = totalprice - discount\n",
        "  print(\"Ваша скидка: 15 %\")\n",
        "  print(\"Итоговая сумма:\" ,totalprice)\n"
      ],
      "metadata": {
        "id": "OAIMIpklMN5D",
        "colab": {
          "base_uri": "https://localhost:8080/"
        },
        "outputId": "5246df72-0e34-4e01-f578-3d9ff74731de"
      },
      "execution_count": null,
      "outputs": [
        {
          "output_type": "stream",
          "name": "stdout",
          "text": [
            "5\n",
            "5001\n",
            "21\n",
            "Ваша скидка: 15 %\n",
            "Итоговая сумма: 21254.25\n"
          ]
        }
      ]
    },
    {
      "cell_type": "markdown",
      "source": [
        "**Задача 2:**\n",
        "\n",
        "Этап 1:\n",
        "Напишите программу способную отфильтровать список и вывести только положительные элементы\n",
        "\n",
        "\n",
        "Ввод:\n",
        "```\n",
        "-1 5 1 2 -3\n",
        "```\n",
        "\n",
        "Вывод:\n",
        "\n",
        "```\n",
        "5 1 2\n",
        "```\n",
        "\n",
        "Этап 2:\n",
        "\n",
        "Оформите ваш код в виде функции"
      ],
      "metadata": {
        "id": "eeRVWpuLNGJ0"
      }
    },
    {
      "cell_type": "code",
      "source": [
        "a = input(\"Введите числа через пробел \").split() # начальный список\n",
        "b = list(a) # преобразование строки в список\n",
        "c = [] # список с положительными элементами\n",
        "\n",
        "\n",
        "for i in b:\n",
        "  if int(i) > 0:\n",
        "    c.append(i)\n",
        "print(\" \".join(c))\n",
        "\n"
      ],
      "metadata": {
        "id": "Xbi6bL0WOE9N",
        "colab": {
          "base_uri": "https://localhost:8080/"
        },
        "outputId": "d959f07b-a004-4f2d-9014-15cccd32a070"
      },
      "execution_count": null,
      "outputs": [
        {
          "output_type": "stream",
          "name": "stdout",
          "text": [
            "Введите числа через пробел 1 -2 -3 4 5 6\n",
            "1 4 5 6\n"
          ]
        }
      ]
    },
    {
      "cell_type": "markdown",
      "source": [
        "**Задача 3:**\n",
        "\n",
        "Этап 1:\n",
        "Напишите программу реализующую Алгоритм Евклида\n",
        "\n",
        "\n",
        "> Алгоритм Евклида – это алгоритм нахождения наибольшего общего делителя (НОД) пары целых чисел.\n",
        "\n",
        "\n",
        "\n",
        "Ввод:\n",
        "```\n",
        "30 18\n",
        "```\n",
        "\n",
        "Вывод:\n",
        "\n",
        "```\n",
        "6\n",
        "```\n",
        "\n",
        "Этап 2:\n",
        "Оформите ваш код в виде функции\n"
      ],
      "metadata": {
        "id": "lV-w6G-POa6F"
      }
    },
    {
      "cell_type": "code",
      "source": [
        "num = input(\"Введите два числа: \").split()\n",
        "num1 = int(num[0])\n",
        "num2 = int(num[1])\n",
        "\n",
        "\n",
        "\n",
        "c = 0  # минимальное число\n",
        "if num[0] < num[1]: # поиск минимального числа\n",
        "  c = num[0]\n",
        "else:\n",
        "  c = num[1]\n",
        "\n",
        "b = 0\n",
        "for i in range(1, int(c) + 1): # вычисление нод\n",
        "  if num1 % i == 0 and num2  % i == 0:\n",
        "    b = i\n",
        "print(\"Нод равен: \", b)\n",
        "\n",
        "\n",
        "\n",
        "\n",
        "\n",
        "\n",
        "\n",
        "\n"
      ],
      "metadata": {
        "id": "X2n6fnd91yt7",
        "colab": {
          "base_uri": "https://localhost:8080/"
        },
        "outputId": "e1c7dc91-7cca-470e-f920-4aa4f62336fd"
      },
      "execution_count": null,
      "outputs": [
        {
          "output_type": "stream",
          "name": "stdout",
          "text": [
            "Введите два числа: 657102 623109\n",
            "3\n"
          ]
        }
      ]
    },
    {
      "cell_type": "markdown",
      "source": [
        "**Задача 4:**\n",
        "\n",
        "Этап 1:\n",
        "Напишите функцию программу, которая принимает строку и возвращает список слов и количество их упомнинаний в предложении\n",
        "\n",
        "Этап 2:\n",
        "Оформите ваш код в виде функции\n",
        "\n",
        "Ввод:\n",
        "```\n",
        "apple banana apple\n",
        "```\n",
        "\n",
        "Вывод:\n",
        "\n",
        "```\n",
        "apple: 2,\n",
        "banana: 1\n",
        "```"
      ],
      "metadata": {
        "id": "WIfPFxpsO0zL"
      }
    },
    {
      "cell_type": "code",
      "source": [
        "a = input(\"Введите слова через пробел: \").split()\n",
        "\n",
        "b = {}\n",
        "\n",
        "for i in a:\n",
        "  if i in b:\n",
        "    b[i] += 1\n",
        "  else:\n",
        "    b[i] = 1\n",
        "\n",
        "for key, value in b.items():\n",
        "  print(f\"{key}:{value}\")\n",
        "\n"
      ],
      "metadata": {
        "id": "DgsmFeW5Po_x",
        "colab": {
          "base_uri": "https://localhost:8080/"
        },
        "outputId": "e46340f6-ca1e-4a75-a7b9-872d1b92d023"
      },
      "execution_count": null,
      "outputs": [
        {
          "output_type": "stream",
          "name": "stdout",
          "text": [
            "Введите слова через пробел: apple banana apple\n",
            "apple:2\n",
            "banana:1\n"
          ]
        }
      ]
    },
    {
      "cell_type": "markdown",
      "source": [
        "**Задача 5:**\n",
        "\n",
        "Этап 1:\n",
        "Детектор анаграмм Напишите программу на Python, которая принимает в качестве входных данных две строки и проверяет, являются ли они анаграммами друг друга\n",
        "\n",
        "Этап 2:\n",
        "Оформите ваш код в виде функции\n",
        "\n",
        "Ввод:\n",
        "```\n",
        "listen, silent\n",
        "```\n",
        "\n",
        "Вывод:\n",
        "\n",
        "```\n",
        "True\n",
        "```"
      ],
      "metadata": {
        "id": "5BmIJLUZP9I-"
      }
    },
    {
      "cell_type": "code",
      "source": [
        "str1 = input(\"Введите первую строку: \")\n",
        "str2 = input(\"Введите вторую строку: \")\n",
        "\n",
        "a = {}\n",
        "b = {}\n",
        "\n",
        "\n",
        "for i in str1:\n",
        "    if i in a:\n",
        "        a[i] += 1\n",
        "        print(a)\n",
        "    else:\n",
        "        a[i] = 1\n",
        "\n",
        "\n",
        "for i in str2:\n",
        "    if i in b:\n",
        "        b[i] += 1\n",
        "        print(b)\n",
        "    else:\n",
        "        b[i] = 1\n",
        "\n",
        "\n",
        "if a == b:\n",
        "    print(\"Слова анаграммы\")\n",
        "else:\n",
        "    print(\"Слова не анаграмма\")\n",
        "\n",
        "\n",
        "\n"
      ],
      "metadata": {
        "id": "7LNW8DuHQJwH",
        "colab": {
          "base_uri": "https://localhost:8080/"
        },
        "outputId": "8fee9afc-f15a-4b89-8d17-64c199d69850"
      },
      "execution_count": null,
      "outputs": [
        {
          "output_type": "stream",
          "name": "stdout",
          "text": [
            "Введите первую строку: silent\n",
            "Введите вторую строку: listen\n",
            "Слова анаграммы\n"
          ]
        }
      ]
    },
    {
      "cell_type": "markdown",
      "source": [
        "**Задача 6:**\n",
        "\n",
        "Шифр ​​Цезаря\n",
        "\n",
        "Напишите программу на Python, которая реализует шифр Цезаря, простой метод шифрования, который заменяет каждую букву буквой на фиксированное количество позиций вниз по алфавиту. Программа должна запрашивать у пользователя сообщение и значение сдвига, а затем шифровать и расшифровывать сообщение.\n",
        "\n",
        "Этап 1:\n",
        "\n",
        "Напишите код для реализации данной задачи\n",
        "\n",
        "Этап 2:\n",
        "\n",
        "Оформите код в виде нескольких функций:\n",
        "\n",
        "* Зашифровывает сообщение\n",
        "* Расшифровывает сообщение"
      ],
      "metadata": {
        "id": "-SIWYSq2QKBh"
      }
    },
    {
      "cell_type": "code",
      "source": [
        "choice = input(\"Зашифровать/Расшифровать \")\n",
        "choice1 = int(input(\"Введите шаг \"))\n",
        "choice2 = input(\"Введите ваше сообщение: \")\n",
        "\n",
        "dict = {\n",
        "\"А\": 0, \"Б\": 1, \"В\": 2, \"Г\": 3, \"Д\": 4, \"Е\": 5,\n",
        "\"Ж\": 6, \"З\": 7, \"И\": 8, \"Й\": 9, \"К\": 10, \"Л\": 11,\n",
        "\"М\": 12, \"Н\": 13, \"О\": 14, \"П\": 15, \"Р\": 16, \"С\": 17,\n",
        "\"Т\": 18, \"У\": 19, \"Ф\": 20, \"Х\": 21, \"Ц\": 22, \"Ч\": 23,\n",
        "\"Ш\": 24, \"Щ\": 25, \"Ъ\": 26, \"Ы\": 27, \"Ь\": 28, \"Э\": 29,\n",
        "\"Ю\": 30, \"Я\": 31\n",
        "}\n",
        "\n",
        "\n",
        "choice2 = choice2.replace(\" \", '')\n",
        "a = list(choice2)\n",
        "\n",
        "\n",
        "if choice.lower() == \"Зашифровать\":\n",
        "    shifr = []\n",
        "    for i in a:\n",
        "        for key, value in dict.items():\n",
        "            if i.upper() == key:\n",
        "                keynew = (value + choice1) % 32\n",
        "                for k, v in dict.items():\n",
        "                    if v == keynew:\n",
        "                        shifr.append(k)\n",
        "    print(\"Зашифрованное сообщение \", \"\".join(shifr))\n",
        "\n",
        "\n",
        "elif choice.lower() == \"Расшифровать\":\n",
        "    deshifr = []\n",
        "    for i in a:\n",
        "        for key, value in dict.items():\n",
        "            if i.upper() == key:\n",
        "                keynew = (value - choice1) % 32\n",
        "                for k, v in dict.items():\n",
        "                    if v == keynew:\n",
        "                        deshifr.append(k)\n",
        "    print(\"Расшифрованное сообщение \", \"\".join(deshifr))\n",
        "# не получилось...\n",
        "\n",
        "\n",
        "\n"
      ],
      "metadata": {
        "id": "anThYirsQe6N",
        "colab": {
          "base_uri": "https://localhost:8080/"
        },
        "outputId": "6ef6a067-cbfe-4a66-867c-ade80ed73d72"
      },
      "execution_count": null,
      "outputs": [
        {
          "output_type": "stream",
          "name": "stdout",
          "text": [
            "Выберите: Зашифровать/Расшифровать Расшифровать\n",
            "Введите шаг 2\n",
            "Введите ваше сообщение: Прыфл\n",
            "Неправильный выбор\n"
          ]
        }
      ]
    },
    {
      "cell_type": "markdown",
      "source": [
        "**Задача 7**\n",
        "\n",
        "Задача: «Банковская система»\n",
        "\n",
        "Создайте программу Python, которая имитирует базовую банковскую систему. Система должна иметь следующие функции:\n",
        "\n",
        "Требования\n",
        "*   Система должна позволять клиентам создавать счета и хранить их балансы.\n",
        "*   Система должна позволять клиентам вносить и снимать деньги со своих счетов.\n",
        "*   Система должна позволять клиентам проверять свой текущий баланс.\n",
        "*   Система должна позволять клиентам переводить деньги между счетами.\n",
        "*   Система должна отслеживать транзакции (депозиты, снятия и переводы) и иметь возможность печатать детали транзакций.\n",
        "\n",
        "\n",
        "Задачи\n",
        "1. Реализуйте банковскую систему, используя только базовые конструкции Python, такие как def, lists, if, elif и else, без классов или словарей.\n",
        "Определите функции для создания счетов, внесения и снятия денег, получения балансов счетов, перевода денег между счетами, а также создания и печати транзакций.\n",
        "2. Напишите основную функцию, которая демонстрирует использование банковской системы путем создания счетов, внесения и снятия денег и перевода денег между счетами.\n",
        "3. Бонусное задание\n",
        "Реализуйте способ хранения и печати истории транзакций для каждого счета.\n",
        "\n",
        "Ограничения\n",
        "Не используйте классы или словари.\n",
        "Используйте только базовые конструкции Python, такие как def, lists, if, elif и else.\n"
      ],
      "metadata": {
        "id": "avFZRRXrQz9O"
      }
    },
    {
      "cell_type": "code",
      "source": [
        "from types import new_class\n",
        "\n",
        "accounts = []\n",
        "transactions = []\n",
        "\n",
        "\n",
        "def newaccount(account, balance):\n",
        "    accounts.append([account, balance, []]) # новый счет\n",
        "\n",
        "\n",
        "def deposit(account_number, amount):\n",
        "    \"\"\"\n",
        "    Вносит деньги на счет.\n",
        "    \"\"\"\n",
        "    for account in accounts:\n",
        "        if account[0] == account_number:\n",
        "            account[1] += amount\n",
        "            account[2].append(f\"Депозит: +{amount}\")\n",
        "            return\n",
        "    print(\"Такого счета нету\")\n",
        "\n",
        "\n",
        "def withdraw(account_number, amount):\n",
        "    for account in accounts:\n",
        "        if account[0] == account_number:\n",
        "            if account[1] >= amount:\n",
        "                account[1] -= amount\n",
        "                account[2].append(f\"Снятие: -{amount}\")\n",
        "            else:\n",
        "                print(\"Недостаточно средств на счете.\")\n",
        "            return\n",
        "    print(\"Такого счета нету\")\n",
        "\n",
        "\n",
        "\n",
        "def print_transactions(account_number): # история операций\n",
        "    for account in accounts:\n",
        "        if account[0] == account_number:\n",
        "            print(\"История транзакций\")\n",
        "            for transaction in account[2]:\n",
        "                print(transaction)\n",
        "            return\n",
        "    print(\"Такого счета нету\")\n",
        "# не успел дописать..."
      ],
      "metadata": {
        "id": "dWEW10zIRwjs"
      },
      "execution_count": null,
      "outputs": []
    }
  ]
}