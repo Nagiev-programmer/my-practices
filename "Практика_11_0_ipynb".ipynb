{
  "nbformat": 4,
  "nbformat_minor": 0,
  "metadata": {
    "colab": {
      "provenance": [],
      "include_colab_link": true
    },
    "kernelspec": {
      "name": "python3",
      "display_name": "Python 3"
    },
    "language_info": {
      "name": "python"
    }
  },
  "cells": [
    {
      "cell_type": "markdown",
      "metadata": {
        "id": "view-in-github",
        "colab_type": "text"
      },
      "source": [
        "<a href=\"https://colab.research.google.com/github/Nagiev-programmer/my-practices/blob/main/%22%D0%9F%D1%80%D0%B0%D0%BA%D1%82%D0%B8%D0%BA%D0%B0_11_0_ipynb%22.ipynb\" target=\"_parent\"><img src=\"https://colab.research.google.com/assets/colab-badge.svg\" alt=\"Open In Colab\"/></a>"
      ]
    },
    {
      "cell_type": "markdown",
      "source": [
        "**ФИО:**"
      ],
      "metadata": {
        "id": "GEsFKJm-ABFp"
      }
    },
    {
      "cell_type": "code",
      "execution_count": null,
      "metadata": {
        "id": "wZMLYG_G_-19"
      },
      "outputs": [],
      "source": [
        "'А.А.Косарев'"
      ]
    },
    {
      "cell_type": "markdown",
      "source": [
        "# Задание 1"
      ],
      "metadata": {
        "id": "H4DrYnJjADuZ"
      }
    },
    {
      "cell_type": "markdown",
      "source": [
        "**Описание:** Создайте иерархию классов для разных типов сотрудников в компании. Реализуйте родительский класс Employee и дочерние классы Manager и Developer. Каждый класс должен иметь метод для расчета зарплаты на основе различных критериев класса.\n",
        "\n",
        "\n",
        "Отрабатываемый принцип: Наследование\n",
        "\n"
      ],
      "metadata": {
        "id": "C17FWep-AF4a"
      }
    },
    {
      "cell_type": "code",
      "source": [
        "class Employee:\n",
        "    def __init__(self, name, base_salary):\n",
        "        self.name = name\n",
        "        self.base_salary = base_salary\n",
        "\n",
        "    def calculate_salary(self):\n",
        "        return self.base_salary\n",
        "\n",
        "    def __str__(self):\n",
        "        return f\"Сотрудник: {self.name}, Зарплата: {self.calculate_salary()}\"\n",
        "\n",
        "\n",
        "class Manager(Employee):\n",
        "    def __init__(self, name, base_salary, bonus):\n",
        "        super().__init__(name, base_salary)\n",
        "        self.bonus = bonus\n",
        "\n",
        "\n",
        "    def calculate_salary(self):\n",
        "        return self.base_salary + self.bonus # зп и бонус\n",
        "\n",
        "\n",
        "class Developer(Employee):\n",
        "    def __init__(self, name, base_salary, overtime_hours, hour_rate):\n",
        "        super().__init__(name, base_salary)\n",
        "        self.overtime_hours = overtime_hours\n",
        "        self.hourly_rate = hour_rate\n",
        "\n",
        "\n",
        "    def calculate_salary(self):\n",
        "        return self.base_salary + (self.overtime_hours * self.hourly_rate)\n",
        "\n",
        "\n",
        "if __name__ == \"__main__\":\n",
        "    manager = Manager(name=\"Анна\", base_salary=50678, bonus=1962)\n",
        "    developer = Developer(name=\"Иван\", base_salary=40000, overtime_hours=20, hour_rate=500)\n",
        "\n",
        "\n",
        "    print(manager)\n",
        "    print(developer)\n"
      ],
      "metadata": {
        "id": "aexGXzqCAFH7",
        "colab": {
          "base_uri": "https://localhost:8080/"
        },
        "outputId": "578b67c2-2724-4d3f-875c-50525da2237c"
      },
      "execution_count": null,
      "outputs": [
        {
          "output_type": "stream",
          "name": "stdout",
          "text": [
            "Сотрудник: Анна, Зарплата: 52640\n",
            "Сотрудник: Иван, Зарплата: 50000\n"
          ]
        }
      ]
    },
    {
      "cell_type": "markdown",
      "source": [
        "# Задание 2"
      ],
      "metadata": {
        "id": "ERAi0TG5BI6v"
      }
    },
    {
      "cell_type": "markdown",
      "source": [
        "**Описание:** Создайте иерархию классов для различных типов транспортных средств (Необходим один родительский класс и 3 дочерних). Реализуйте метод, который позволяет каждому транспортному средству возвращать собственное описание (Метод в каждом классе должен иметь одинаковое название). Продемонстрируйте вызов данного метода для каждого транспортного средства.\n",
        "\n",
        "\n",
        "Отрабатываемый принцип: Полиморфизм"
      ],
      "metadata": {
        "id": "sJ3k7ZcgBK87"
      }
    },
    {
      "cell_type": "code",
      "source": [
        "class Vehicle:\n",
        "    def __init__(self, brand, model):\n",
        "        self.brand = brand\n",
        "        self.model = model\n",
        "\n",
        "\n",
        "    def get_description(self):\n",
        "        return f\"Транспорт: {self.brand} {self.model}\"\n",
        "\n",
        "\n",
        "# Дочерние\n",
        "class Car(Vehicle):\n",
        "    def __init__(self, brand, model, seating_capacity):\n",
        "        super().__init__(brand, model)\n",
        "        self.seating_capacity = seating_capacity\n",
        "\n",
        "\n",
        "    def get_description(self):\n",
        "        return f\"Автомобиль: {self.brand} {self.model}, Вместимость: {self.seating_capacity} чел\"\n",
        "\n",
        "\n",
        "class Motorcycle(Vehicle):\n",
        "    def __init__(self, brand, model, engine_capacity):\n",
        "        super().__init__(brand, model)\n",
        "        self.engine_capacity = engine_capacity\n",
        "\n",
        "\n",
        "    def get_description(self):\n",
        "        return f\"Мотоцикл: {self.brand} {self.model}, Объем двигателя: {self.engine_capacity}\"\n",
        "\n",
        "\n",
        "class Truck(Vehicle):\n",
        "    def __init__(self, brand, model, max_load):\n",
        "        super().__init__(brand, model)\n",
        "        self.max_load = max_load\n",
        "\n",
        "\n",
        "    def get_description(self):\n",
        "        return f\"Грузовик: {self.brand} {self.model}, Максимальная грузоподъемность: {self.max_load} кг\"\n",
        "\n",
        "\n",
        "if __name__ == \"__main__\":\n",
        "    car = Car(brand=\"Toyota\", model=\"Corolla\", seating_capacity=5)\n",
        "    motorcycle = Motorcycle(brand=\"VAZ\", model=\"POLOMKA\", engine_capacity=321)\n",
        "    truck = Truck(brand=\"Volvo\", model=\"SVG9000000000000000000\", max_load=44000)\n",
        "\n",
        "    print(car.get_description())\n",
        "    print(motorcycle.get_description())\n",
        "    print(truck.get_description())\n"
      ],
      "metadata": {
        "id": "WOFOZQmDBKf4"
      },
      "execution_count": null,
      "outputs": []
    },
    {
      "cell_type": "markdown",
      "source": [
        "# Задание 3"
      ],
      "metadata": {
        "id": "7E_SJXMJBvD4"
      }
    },
    {
      "cell_type": "markdown",
      "source": [
        "Онлайн-магазин:\n",
        "- Создайте модель для онлайн-магазина с классами Product, Order, Customer, и ShoppingCart.\n",
        "- Product включает информацию о цене, наличии на складе и категории товара.\n",
        "Order обрабатывает процесс покупки, включая расчет цены с учетом скидок и налогов.\n",
        "- Customer управляет информацией о пользователе и его истории заказов.\n",
        "- ShoppingCart позволяет добавлять, удалять и обновлять количество товаров перед оформлением заказа.\n"
      ],
      "metadata": {
        "id": "dd1mwKj_BxHa"
      }
    },
    {
      "cell_type": "code",
      "source": [
        "class Product:\n",
        "    def __init__(self, name, price, stock, category):\n",
        "        self.name = name\n",
        "        self.price = price\n",
        "        self.stock = stock\n",
        "        self.category = category\n",
        "\n",
        "    def is_available(self, quantity):\n",
        "        return self.stock >= quantity\n",
        "\n",
        "    def reduce_stock(self, quantity):\n",
        "        if self.is_available(quantity):\n",
        "            self.stock -= quantity\n",
        "        else:\n",
        "            raise ValueError(\"Недостаточно товара\")\n",
        "\n",
        "    def __str__(self):\n",
        "        return f\"{self.name} ({self.category}) - ${self.price}, Осталось: {self.stock}\"\n",
        "\n",
        "\n",
        "class Customer:\n",
        "    def __init__(self, name, email):\n",
        "        self.name = name\n",
        "        self.email = email\n",
        "        self.order_history = []\n",
        "\n",
        "    def add_order(self, order):\n",
        "        self.order_history.append(order)\n",
        "\n",
        "    def __str__(self):\n",
        "        return f\"Покупатель: {self.name}, Email: {self.email}, Заказы: {len(self.order_history)}\"\n",
        "\n",
        "\n",
        "class ShoppingCart:\n",
        "    def __init__(self):\n",
        "        self.items = {}  # Словарь: продукт -> количество\n",
        "\n",
        "    def add_item(self, product, quantity):\n",
        "        if product.is_available(quantity):\n",
        "            if product in self.items:\n",
        "                self.items[product] += quantity\n",
        "            else:\n",
        "                self.items[product] = quantity\n",
        "        else:\n",
        "            raise ValueError(f\"Недостаточно {product.name}\")\n",
        "\n",
        "\n",
        "    def remove_item(self, product):\n",
        "        if product in self.items:\n",
        "            del self.items[product]\n",
        "\n",
        "\n",
        "    def update_quantity(self, product, quantity):\n",
        "        if product.is_available(quantity):\n",
        "            if quantity == 0:\n",
        "                self.remove_item(product)\n",
        "            else:\n",
        "                self.items[product] = quantity\n",
        "        else:\n",
        "            raise ValueError(f\"Недостаточно {product.name}\")\n",
        "\n",
        "\n",
        "    def calculate_total(self):\n",
        "        return sum(product.price * quantity for product, quantity in self.items.items())\n",
        "\n",
        "\n",
        "\n",
        "    def clear_cart(self):\n",
        "        self.items.clear()\n",
        "\n",
        "\n",
        "\n",
        "    def __str__(self):\n",
        "        return \"\\n\".join([f\"{product.name}: {quantity}\" for product, quantity in self.items.items()])\n",
        "\n",
        "\n",
        "class Order:\n",
        "    TAX_RATE = 0.1  # 10% налог\n",
        "\n",
        "    def __init__(self, customer, cart, discount=0):\n",
        "        self.customer = customer\n",
        "        self.cart = cart\n",
        "        self.discount = discount\n",
        "        self.total = self.calculate_total()\n",
        "\n",
        "\n",
        "    def calculate_total(self):\n",
        "        subtotal = self.cart.calculate_total()\n",
        "        discount_amount = subtotal * self.discount / 100\n",
        "        tax = (subtotal - discount_amount) * Order.TAX_RATE\n",
        "        return subtotal - discount_amount + tax\n",
        "\n",
        "\n",
        "    def process_order(self):\n",
        "        for product, quantity in self.cart.items.items():\n",
        "            product.reduce_stock(quantity)\n",
        "        self.cart.clear_cart()\n",
        "        self.customer.add_order(self)\n",
        "\n",
        "\n",
        "    def __str__(self):\n",
        "        return f\"Заказ для {self.customer.name}, Сумма: ${self.total:.2f}\"\n",
        "\n",
        "\n",
        "\n",
        "if __name__ == \"__main__\":\n",
        "\n",
        "\n",
        "    apple = Product(name=\"Яблоко\", price=1.2, stock=100, category=\"Фрукты\")\n",
        "    bread = Product(name=\"Хлеб\", price=2.5, stock=50, category=\"Выпечка\")\n",
        "\n",
        "    customer = Customer(name=\"Иван\", email=\"ivan@example.com\")\n",
        "\n",
        "    cart = ShoppingCart()\n",
        "    cart.add_item(apple, 5)\n",
        "    cart.add_item(bread, 2)\n",
        "    print(\"Корзина:\")\n",
        "    print(cart)\n",
        "\n",
        "\n",
        "    order = Order(customer=customer, cart=cart, discount=10)\n",
        "    print(\"\\nДо обработки заказа:\")\n",
        "    print(order)\n",
        "\n",
        "\n",
        "    order.process_order()\n",
        "\n",
        "    print(\"\\nПосле обработки заказа:\")\n",
        "    print(order)\n",
        "    print(\"История заказов клиента:\")\n",
        "    for o in customer.order_history:\n",
        "        print(o)\n",
        "\n",
        "    print(\"\\nОстатки товаров:\")\n",
        "    print(apple)\n",
        "    print(bread)\n"
      ],
      "metadata": {
        "id": "wkCcv_K-Bwdv"
      },
      "execution_count": null,
      "outputs": []
    },
    {
      "cell_type": "markdown",
      "source": [
        "# Задание 4"
      ],
      "metadata": {
        "id": "ih7iPlYfB7lL"
      }
    },
    {
      "cell_type": "markdown",
      "source": [
        "Симулятор космического корабля:\n",
        "- Создайте симулятор управления космическим кораблем с классами SpaceShip, CrewMember, и Mission.\n",
        "- SpaceShip имеет атрибуты для управления топливом, состоянием корпуса, и текущей скоростью.\n",
        "- CrewMember контролирует здоровье, навыки, и роли в команде (например, пилот, инженер).\n",
        "- Mission определяет цели, ресурсы, и возможные события (например, аварии, встречи с астероидами)."
      ],
      "metadata": {
        "id": "zLwqVCbpCBvc"
      }
    },
    {
      "cell_type": "code",
      "source": [
        "class SpaceShip:\n",
        "    def __init__(self, fuel, hull, speed=0):\n",
        "        self.fuel = fuel  # Топливо\n",
        "        self.hull = hull  # Состояние корпуса\n",
        "        self.speed = speed  # Текущая скорость\n",
        "\n",
        "    def accelerate(self, amount):\n",
        "        if self.fuel <= 0:\n",
        "            print(\"Недостаточно топлива!\")\n",
        "        else:\n",
        "            self.speed += amount\n",
        "            self.fuel -= amount\n",
        "            print(f\"Скорость увеличена до {self.speed}. Остаток топлива: {self.fuel}.\")\n",
        "\n",
        "    def take_damage(self, damage):\n",
        "        self.hull -= damage\n",
        "        if self.hull <= 0:\n",
        "            print(\"Корабль разрушен!\")\n",
        "        else:\n",
        "            print(f\"Корпус поврежден. Осталось {self.hull} единиц прочности.\")\n",
        "\n",
        "class CrewMember:\n",
        "    def __init__(self, name, role, health=100):\n",
        "        self.name = name  # Имя\n",
        "        self.role = role  # Роль\n",
        "        self.health = health  # Здоровье\n",
        "\n",
        "    def perform_task(self, task):\n",
        "        print(f\"{self.name} выполняет задачу: {task}.\")\n",
        "\n",
        "    def take_injury(self, damage):\n",
        "        self.health -= damage\n",
        "        if self.health <= 0:\n",
        "            print(f\"{self.name} погиб!\")\n",
        "        else:\n",
        "            print(f\"{self.name} получил повреждения. Осталось {self.health} здоровья.\")\n",
        "\n",
        "class Mission:\n",
        "    def __init__(self, goal, resources):\n",
        "        self.goal = goal  # Цель\n",
        "        self.resources = resources  # Ресурсы\n",
        "\n",
        "    def encounter_event(self, event):\n",
        "        print(f\"Событие: {event}\")\n",
        "        if event == \"астероид\":\n",
        "            print(\"Корабль столкнулся с астероидом\")\n",
        "        elif event == \"авария\":\n",
        "            print(\"Авария!\")\n",
        "        else:\n",
        "            print(\"Капец\")\n",
        "\n",
        "\n",
        "\n",
        "ship = SpaceShip(fuel=100, hull=50)\n",
        "crew = CrewMember(name=\"Алексей\", role=\"пилот\")\n",
        "mission = Mission(goal=\"Достичь Марса\", resources={\"еда\": 50, \"вода\": 50})\n",
        "\n",
        "\n",
        "ship.accelerate(10)\n",
        "crew.perform_task(\"управление кораблем\")\n",
        "mission.encounter_event(\"астероид\")\n",
        "ship.take_damage(20)\n",
        "crew.take_injury(10)\n"
      ],
      "metadata": {
        "id": "4NyrOOy8B9ED"
      },
      "execution_count": null,
      "outputs": []
    },
    {
      "cell_type": "markdown",
      "source": [
        "# Дополнительно:"
      ],
      "metadata": {
        "id": "F7mRVsZjCXk0"
      }
    },
    {
      "cell_type": "markdown",
      "source": [
        "**Описание:** создайте консольную версию игры крестики-нолики, используя классы"
      ],
      "metadata": {
        "id": "X4Lkf86UCc1h"
      }
    },
    {
      "cell_type": "code",
      "source": [],
      "metadata": {
        "id": "x9OxpNsyCcUo"
      },
      "execution_count": null,
      "outputs": []
    }
  ]
}