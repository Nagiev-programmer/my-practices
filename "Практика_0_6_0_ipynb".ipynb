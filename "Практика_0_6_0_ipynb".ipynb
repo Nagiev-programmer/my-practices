{
  "nbformat": 4,
  "nbformat_minor": 0,
  "metadata": {
    "colab": {
      "provenance": [],
      "include_colab_link": true
    },
    "kernelspec": {
      "name": "python3",
      "display_name": "Python 3"
    },
    "language_info": {
      "name": "python"
    }
  },
  "cells": [
    {
      "cell_type": "markdown",
      "metadata": {
        "id": "view-in-github",
        "colab_type": "text"
      },
      "source": [
        "<a href=\"https://colab.research.google.com/github/Nagiev-programmer/my-practices/blob/main/%22%D0%9F%D1%80%D0%B0%D0%BA%D1%82%D0%B8%D0%BA%D0%B0_0_6_0_ipynb%22.ipynb\" target=\"_parent\"><img src=\"https://colab.research.google.com/assets/colab-badge.svg\" alt=\"Open In Colab\"/></a>"
      ]
    },
    {
      "cell_type": "markdown",
      "source": [
        "\n",
        "\n",
        "---\n",
        "\n"
      ],
      "metadata": {
        "id": "tKNG_RzWxG6g"
      }
    },
    {
      "cell_type": "markdown",
      "source": [
        "# **Дисклеймер**\n",
        "\n",
        "В данной практике будет введен дополнительный критерий: чистота и читаемость кода, а также соблюдение правил описанных в начале практики"
      ],
      "metadata": {
        "id": "cFcrKfclKWh0"
      }
    },
    {
      "cell_type": "markdown",
      "source": [
        "\n",
        "\n",
        "---\n",
        "\n"
      ],
      "metadata": {
        "id": "0SnE87X1xDlV"
      }
    },
    {
      "cell_type": "markdown",
      "source": [
        "# Задание 1\n",
        "\n",
        "**Задача:**\n",
        "\n",
        "Напишите функцию очищающий список от дубликтов\n",
        "\n",
        "\n",
        "*Запрещено:*\n",
        "\n",
        "*   Использовать set() или готовые функции очищающие список от дубликатов\n",
        "\n",
        "Вввод:\n",
        "\n",
        "```\n",
        "apple banana apple 1 3 4 4 5\n",
        "```\n",
        "\n",
        "\n",
        "Вывод:\n",
        "\n",
        "```\n",
        "apple banana 1 3 4 5\n",
        "```\n",
        "\n"
      ],
      "metadata": {
        "id": "VxawR9NubT_F"
      }
    },
    {
      "cell_type": "code",
      "source": [
        "slova = input().split()\n",
        "a = sorted(slova)\n",
        "\n",
        "i = 0\n",
        "\n",
        "\n",
        "numbers1 = []\n",
        "slova2 = []\n",
        "\n",
        "\n",
        "# Дубликаты\n",
        "while i < len(a) - 1:\n",
        "    if a[i] == a[i + 1]:\n",
        "        a.pop(i)\n",
        "    else:\n",
        "        i += 1\n",
        "\n",
        "\n",
        "# Приведение к обратному порядку\n",
        "for i in a:\n",
        "\n",
        "\n",
        "  if i.isdigit():\n",
        "    numbers1.append(i)\n",
        "\n",
        "\n",
        "  else:\n",
        "    slova2.append(i)\n",
        "\n",
        "\n",
        "for i in slova2 + numbers1:\n",
        "  print(\"\".join(i), end=\" \")\n",
        "\n",
        "\n"
      ],
      "metadata": {
        "id": "ml5gnbPXbeju",
        "colab": {
          "base_uri": "https://localhost:8080/"
        },
        "outputId": "ba7abfbf-0d02-4db7-ff8b-99161fe5ff46"
      },
      "execution_count": null,
      "outputs": [
        {
          "output_type": "stream",
          "name": "stdout",
          "text": [
            "apple banana apple 1 3 4 4 5\n",
            "apple banana 1 3 4 5 "
          ]
        }
      ]
    },
    {
      "cell_type": "markdown",
      "source": [
        "# Задание 2\n",
        "\n",
        "**Задача:**\n",
        "\n",
        "Написать функцию для нахождения простых чисел в диапазоне\n",
        "\n",
        "Ввод:\n",
        "\n",
        "```\n",
        "10, 50\n",
        "```\n",
        "\n",
        "Вывод:\n",
        "\n",
        "```\n",
        "11, 13, 17, 19, 23, 29, 31, 37, 41, 43, 47\n",
        "```"
      ],
      "metadata": {
        "id": "y05x0eD0cVCC"
      }
    },
    {
      "cell_type": "code",
      "source": [
        "ranges = list(input().split())\n",
        "start, end = int(ranges[0]), int(ranges[1])\n",
        "\n",
        "\n",
        "a = []\n",
        "\n",
        "\n",
        "for i in range(start,end + 1):\n",
        "  g = 0\n",
        "\n",
        "\n",
        "  for k in range(2,int(i ** 0.5) + 1):\n",
        "    if i % k == 0:\n",
        "      g += 1\n",
        "      break\n",
        "\n",
        "\n",
        "  if g == 0:\n",
        "    a.append(str(i)+\",\")\n",
        "\n",
        "\n",
        "for i in a:\n",
        "  print(\"\".join(i), end = \" \")\n",
        "\n",
        "\n",
        "\n"
      ],
      "metadata": {
        "id": "XSMJnLgrc6Bf",
        "colab": {
          "base_uri": "https://localhost:8080/"
        },
        "outputId": "1944fa20-3754-4bc1-ae81-0ebfac915f64"
      },
      "execution_count": null,
      "outputs": [
        {
          "output_type": "stream",
          "name": "stdout",
          "text": [
            "10 50\n",
            "11, 13, 17, 19, 23, 29, 31, 37, 41, 43, 47, "
          ]
        }
      ]
    },
    {
      "cell_type": "markdown",
      "source": [
        "# Задание 3\n",
        "\n",
        "Напишите функцию для объединения двух списков (список ключей и список значении) в словарь\n",
        "\n",
        "*Запрещено:*\n",
        "\n",
        "*   Использования готовых функции для объединения списков (пример: zip() )\n",
        "\n",
        "Дано:\n",
        "\n",
        "```\n",
        "keys = ['a', 'b', 'c', 'e' ]\n",
        "values = [1, 2, 3, 4]\n",
        "```\n",
        "\n",
        "Вывод:\n",
        "```\n",
        "{'a': 1, 'b': 2, 'c': 3, 'e': 4}\n",
        "```\n",
        "\n",
        "\n"
      ],
      "metadata": {
        "id": "vYM0LyxxdElN"
      }
    },
    {
      "cell_type": "code",
      "source": [
        "keys = ['a', 'b', 'c', 'e' ]\n",
        "values = [1, 2, 3, 4]\n",
        "\n",
        "slovarik = {}\n",
        "\n",
        "dlina = len(keys)\n",
        "\n",
        "\n",
        "for i in range(dlina):\n",
        "    slovarik[keys[i]] = values[i]\n",
        "\n",
        "\n",
        "print(slovarik)\n",
        "\n",
        "\n",
        "\n",
        "\n"
      ],
      "metadata": {
        "id": "CRvhHTjCdvjS",
        "colab": {
          "base_uri": "https://localhost:8080/"
        },
        "outputId": "34c69040-afa6-4788-fe71-d43cdfb02e31"
      },
      "execution_count": null,
      "outputs": [
        {
          "output_type": "stream",
          "name": "stdout",
          "text": [
            "{'a': 1, 'b': 2, 'c': 3, 'e': 4}\n"
          ]
        }
      ]
    },
    {
      "cell_type": "markdown",
      "source": [
        "# Задание 4\n",
        "\n",
        "Напишите функцию(ии) для подсчета статистических параметров:\n",
        "*   Сумму\n",
        "*   Среднее арифметическое\n",
        "*   Медиану\n",
        "*   Моду\n",
        "\n",
        "\n",
        "*Запрещено:*\n",
        "\n",
        "*   sum()\n",
        "*   sorted()\n",
        "*   и других функции предоставляющих готовое решение задания\n",
        "\n",
        "Дано:\n",
        "\n",
        "```\n",
        "numbers = [1, 2, 2, 3, 4, 5, 6, 7, 8 ,9 ,10]\n",
        "\n",
        "```\n",
        "\n",
        "Вывод:\n",
        "```\n",
        "{'mean': 5.181818181818182, 'median': 5, 'mode': 2, 'sum': 57}\n",
        "```\n"
      ],
      "metadata": {
        "id": "L_w8H8i-fQcP"
      }
    },
    {
      "cell_type": "code",
      "source": [
        "numbers = [1, 2, 2, 3, 4, 5, 6, 7, 8 ,9 ,10]\n",
        "\n",
        "summa = 0\n",
        "dlina = 0\n",
        "\n",
        "n = []\n",
        "slovarik = {}\n",
        "\n",
        "for i in numbers: # сумма\n",
        "  summa += i\n",
        "\n",
        "for i in numbers: # длинна(ср ариф)\n",
        "  dlina += 1\n",
        "\n",
        "\n",
        "for i in numbers: # mode\n",
        "  k = numbers.count(i)\n",
        "  n.append(k)\n",
        "  m = max(n)\n",
        "\n",
        "\n",
        "slovarik[\"Cр.ариф:\"] = summa / dlina\n",
        "slovarik[\"Медиана:\"] = numbers[5]\n",
        "slovarik[\"Мод:\"] = m\n",
        "slovarik[\"Cумма\"] = summa\n",
        "\n",
        "\n",
        "print(slovarik)\n"
      ],
      "metadata": {
        "id": "dW6jW_rjfuba",
        "colab": {
          "base_uri": "https://localhost:8080/"
        },
        "outputId": "87ce8887-4ac1-4fdb-f44a-fb2a15e9fc88"
      },
      "execution_count": null,
      "outputs": [
        {
          "output_type": "stream",
          "name": "stdout",
          "text": [
            "{'Cр.ариф:': 5.181818181818182, 'Медиана:': 5, 'Мод:': 2, 'Cумма': 57}\n"
          ]
        }
      ]
    },
    {
      "cell_type": "markdown",
      "source": [
        "# Задание 5\n",
        "\n",
        "На ввод поступает строка символов. Строка состоит из слов, которые отделены друг от друга пробелами. Необходимо вывести самое длинное слово и его порядковый номер.\n",
        "\n",
        "*Запрещено:*\n",
        "\n",
        "*   len()\n",
        "\n",
        "Дано:\n",
        "\n",
        "```\n",
        "Страдание и боль всегда обязательны для широкого сознания и глубокого сердца.\n",
        "\n",
        "```\n",
        "\n",
        "Вывод:\n",
        "```\n",
        "Самое длинное слово с номером 5: обязательны\n",
        "```"
      ],
      "metadata": {
        "id": "hZW0NZ7SgTcp"
      }
    },
    {
      "cell_type": "code",
      "source": [
        "sentence = \"Страдание и боль всегда обязательны для широкого сознания и глубокого сердца.\"\n",
        "words = sentence.split()\n",
        "\n",
        "maxi = 0\n",
        "wordle = \"\"\n",
        "pos = 0\n",
        "\n",
        "for i in range(len(words)):\n",
        "    word = words[i]\n",
        "\n",
        "\n",
        "    length = 0\n",
        "    for k in word:\n",
        "        length += 1\n",
        "\n",
        "\n",
        "    if length > maxi:\n",
        "        maxi = length\n",
        "        wordle = word\n",
        "        position = i + 1\n",
        "\n",
        "print(\"Самое длинное слово с номером:\",position,wordle)\n",
        "\n",
        "\n"
      ],
      "metadata": {
        "id": "rC5DpHHLsDYp",
        "colab": {
          "base_uri": "https://localhost:8080/"
        },
        "outputId": "32fdd0b1-ef7d-4ba2-a5d1-b860eed058d1"
      },
      "execution_count": null,
      "outputs": [
        {
          "output_type": "stream",
          "name": "stdout",
          "text": [
            "Самое длинное слово с номером: 5 обязательны\n"
          ]
        }
      ]
    },
    {
      "cell_type": "markdown",
      "source": [
        "# Задание 6\n",
        "\n",
        "Напишите программу, для управления оценками студентов, со следующими функциями:\n",
        "\n",
        "* Добавление информации о студенте и его оценках.\n",
        "* Подсчет среднего балла студента.\n",
        "* Получение списка всех студентов с их средними баллами.\n",
        "* Поиск студента по имени и вывод его оценок и среднего балла.\n",
        "\n",
        "\n",
        "\n"
      ],
      "metadata": {
        "id": "k5BzJW5ZeaQN"
      }
    },
    {
      "cell_type": "code",
      "source": [
        "students = {}\n",
        "\n",
        "while True:\n",
        "    print(\"1 - Добавить студента и его оценки\")\n",
        "    print(\"2 - Посчитать средний балл студента\")\n",
        "    print(\"3 - Показать всех студентов и их средние баллы\")\n",
        "    print(\"4 - Найти студента по имени\")\n",
        "    print(\"5 - Выйти\")\n",
        "\n",
        "    choice = input(\"Введите номер действия: \")\n",
        "\n",
        "    if choice == \"1\":\n",
        "        name = input(\"Введите имя студента: \")\n",
        "        grades = list(map(int, input(\"Введите оценки через пробел: \").split()))\n",
        "        students[name] = grades\n",
        "        print(f\"Студент {name} добавлен с оценками {grades}\")\n",
        "\n",
        "    elif choice == \"2\":\n",
        "        name = input(\"Введите имя студента: \")\n",
        "        if name in students:\n",
        "            average = sum(students[name]) / len(students[name])\n",
        "            print(f\"Средний балл студента {name}: {average:.2f}\")\n",
        "        else:\n",
        "            print(f\"Студент {name} не найден.\")\n",
        "\n",
        "    elif choice == \"3\":\n",
        "        for name, grades in students.items():\n",
        "            average = sum(grades) / len(grades)\n",
        "            print(f\"{name}: Средний балл {average:.2f}\")\n",
        "\n",
        "    elif choice == \"4\":\n",
        "        name = input(\"Введите имя студента: \")\n",
        "        if name in students:\n",
        "            grades = students[name]\n",
        "            average = sum(grades) / len(grades)\n",
        "            print(f\"{name} — Оценки: {grades}, Средний балл: {average:.2f}\")\n",
        "        else:\n",
        "            print(f\"Студент {name} не найден.\")\n",
        "\n",
        "    elif choice == \"5\":\n",
        "        print(\"Выход из программы.\")\n",
        "        break\n",
        "\n",
        "    else:\n",
        "        print(\"Неверный ввод, попробуйте снова.\")\n"
      ],
      "metadata": {
        "id": "cvhlltVbdyoL"
      },
      "execution_count": null,
      "outputs": []
    },
    {
      "cell_type": "markdown",
      "source": [
        "# Задание 7\n",
        "\n",
        "\n",
        "**Задача:**\n",
        "\n",
        "Создайте приложение-викторину с командной строкой, которое задает пользователям вопросы по различным темам и отслеживает их результаты.\n",
        "\n",
        "Ключевые особенности:\n",
        "\n",
        "*   Хранение данных о вопросах и ответах на них, а также баллов за каждый вопрос\n",
        "*   Реализуйте функцию для представления вопросов, принятия ответов пользователей и предоставления обратной связи о том, являются ли ответы правильными или неправильными.\n",
        "*  После завершения викторины отобразите общий балл пользователя из числа ответов на вопросы.\n",
        "*  Реализуйте функцию добавления нового вопроса\n",
        "*  Реализуйте функцию перемешивания вопросов, для отображения случайного вопроса\n"
      ],
      "metadata": {
        "id": "iQ8Z-7PYgu1_"
      }
    },
    {
      "cell_type": "code",
      "source": [],
      "metadata": {
        "id": "DhxyYwHwh2V4"
      },
      "execution_count": null,
      "outputs": []
    }
  ]
}