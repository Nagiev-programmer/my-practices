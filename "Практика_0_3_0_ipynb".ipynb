{
  "nbformat": 4,
  "nbformat_minor": 0,
  "metadata": {
    "colab": {
      "provenance": [],
      "include_colab_link": true
    },
    "kernelspec": {
      "name": "python3",
      "display_name": "Python 3"
    },
    "language_info": {
      "name": "python"
    }
  },
  "cells": [
    {
      "cell_type": "markdown",
      "metadata": {
        "id": "view-in-github",
        "colab_type": "text"
      },
      "source": [
        "<a href=\"https://colab.research.google.com/github/Nagiev-programmer/my-practices/blob/main/%22%D0%9F%D1%80%D0%B0%D0%BA%D1%82%D0%B8%D0%BA%D0%B0_0_3_0_ipynb%22.ipynb\" target=\"_parent\"><img src=\"https://colab.research.google.com/assets/colab-badge.svg\" alt=\"Open In Colab\"/></a>"
      ]
    },
    {
      "cell_type": "markdown",
      "source": [
        "ФИО"
      ],
      "metadata": {
        "id": "phMKaFq3DN13"
      }
    },
    {
      "cell_type": "code",
      "execution_count": null,
      "metadata": {
        "id": "3CWpaI7SDK8t"
      },
      "outputs": [],
      "source": [
        "print(\"Косарев.А.А\")"
      ]
    },
    {
      "cell_type": "markdown",
      "source": [
        "**Во всей практике нельзя применять библиотеки предоставляющие готовые решения!**"
      ],
      "metadata": {
        "id": "jyIy3GOgFOCe"
      }
    },
    {
      "cell_type": "markdown",
      "source": [
        "# **Задача 1.**\n"
      ],
      "metadata": {
        "id": "XizmlL1RK2t3"
      }
    },
    {
      "cell_type": "markdown",
      "source": [
        "\n",
        "\n",
        "Типы данных Напишите программу на Python, которая принимает список чисел в качестве входных данных от пользователя, а затем выводит сумму, среднее значение и максимальное значение из списка.\n",
        "\n",
        "***Нельзя использовать: len(), min(), max(), average(), sum()***\n",
        "\n",
        "Ввод:\n",
        "```\n",
        "1 2 3 4 5 6 7\n",
        "```\n",
        "Вывод:\n",
        "\n",
        "```\n",
        "Сумма чисел: 28\n",
        "Среднее арифм.: 4.0\n",
        "Максимальное значение: 7\n",
        "```\n",
        "\n"
      ],
      "metadata": {
        "id": "p0v6KtHTFKSd"
      }
    },
    {
      "cell_type": "code",
      "source": [
        "a = list(map(int,input(\"Введите числа \").split()))\n",
        "a.insert(0,0)\n",
        "sum = 0\n",
        "len = -1\n",
        "min = 0\n",
        "for i in a:\n",
        "  sum += i\n",
        "  len += 1\n",
        "  if i > min:\n",
        "    min = i\n",
        "print(\"Сумма чисел:\", sum)\n",
        "print(\"Длина:\", len)\n",
        "print(\"Макс значение:\", min)\n",
        "\n"
      ],
      "metadata": {
        "id": "0e1Virl0FpF6",
        "colab": {
          "base_uri": "https://localhost:8080/"
        },
        "collapsed": true,
        "outputId": "5a8a6104-5d0d-46e9-ce8b-1e4dc642edfb"
      },
      "execution_count": null,
      "outputs": [
        {
          "output_type": "stream",
          "name": "stdout",
          "text": [
            "Введите числа 1 2 3\n",
            "Сумма чисел: 6\n",
            "Длина: 3\n",
            "Макс значение: 3\n"
          ]
        }
      ]
    },
    {
      "cell_type": "markdown",
      "source": [
        "# **Задача 2.**"
      ],
      "metadata": {
        "id": "uFluc5OSK0NH"
      }
    },
    {
      "cell_type": "markdown",
      "source": [
        "\n",
        "Напишите программу на Python, которая принимает список слов в качестве входных данных от пользователя, а затем распечатывает список в обратном порядке.\n",
        "\n",
        "Ввод:\n",
        "\n",
        "```\n",
        "апельсин мандарин яблоко\n",
        "```\n",
        "\n",
        "Вывод:\n",
        "\n",
        "```\n",
        "яблоко мандарин апельсин\n",
        "```"
      ],
      "metadata": {
        "id": "6T8vg324GG4Z"
      }
    },
    {
      "cell_type": "code",
      "source": [
        "a = input(\"Запишите слова с пробелами \").split()\n",
        "b = list(a[::-1])\n",
        "print(' '.join(b))"
      ],
      "metadata": {
        "id": "v3AWj4ufGKox",
        "colab": {
          "base_uri": "https://localhost:8080/"
        },
        "outputId": "d4100e4e-773b-4ad8-bdb7-ad89bdc3fdb9"
      },
      "execution_count": null,
      "outputs": [
        {
          "output_type": "stream",
          "name": "stdout",
          "text": [
            "Запишите слова с пробелами груша яблоко\n",
            "яблоко груша\n"
          ]
        }
      ]
    },
    {
      "cell_type": "markdown",
      "source": [
        "# **Задача 3**"
      ],
      "metadata": {
        "id": "D1KkCxtIKxRx"
      }
    },
    {
      "cell_type": "markdown",
      "source": [
        "Простой чат-бот\n",
        "Создайте простого чат-бота, который отвечает на основные запросы пользователей. Программа должна использовать условные выражения для определения намерений пользователя и последующего соответствующего ответа.\n",
        "\n",
        "Чат бот может:\n",
        "\n",
        "- помогать складывать числа\n",
        "- подсказывать фильм, музыку и тд (из заранее созданного списка)\n",
        "- создавать список дел (а также выводить его, обновлять, очищать)\n",
        "\n",
        "Интерфейс чат-бота на ваше усмотрение, это могут быть как заранее определенные команды, так и к примеру вызов команды по номеру\n",
        "\n",
        "*Реализовать без использования функций*\n",
        "\n",
        "Пример:\n",
        "\n",
        "Ввод:\n",
        "\n",
        "```\n",
        "Олег, какую мызыку посоветуешь?\n",
        "```\n",
        "\n",
        "Вывод:\n",
        "\n",
        "```\n",
        "Я бы посоветовал вам: Led Zeppelin Stairway to Heaven\n",
        "```"
      ],
      "metadata": {
        "id": "Yq8Jgb9yHvSi"
      }
    },
    {
      "cell_type": "code",
      "source": [
        "music = [\"Агутин - все не зря)\" \"Порнофильмы - я так соскучился\"]\n",
        "movies = [\"Сочутсвие господину месть\",\"Сочуствие госпоже месть\"]\n",
        "spisokdel = []\n",
        "print(\"Привет! Как я могу помочь?\")\n",
        "while True:\n",
        "    user = input(\"Вы : \").lower()\n",
        "    if \"сложить\" in user:\n",
        "        numbers = input(\"Введите два числа: \")\n",
        "        num1, num2 = map(int, numbers.split())\n",
        "        print(\"Результат: \", num1 + num2)\n",
        "    elif \"музыку\" in user:\n",
        "        print(\"Я бы посоветовал вам \", music[0])\n",
        "    elif \"фильм\" in user:\n",
        "        print(\"Я бы посоветовал вам \", movies[0])\n",
        "    elif \"дел\" in user:\n",
        "        if \"показать\" in user:\n",
        "            print(\"Ваш список дел \", spisokdel if spisokdel else \"пуст\")\n",
        "        elif \"добавить\" in user:\n",
        "            item = input(\"Введите дело \")\n",
        "            spisokdel.append(item)\n",
        "            print(\"Дело записано\")\n",
        "        elif \"удалить\" in user:\n",
        "            item = input(\"Введите дело для удаления \")\n",
        "            if item in spisokdel:\n",
        "                spisokdel.remove(item)\n",
        "                print(\"Дело удалено\")\n",
        "            else:\n",
        "                print(\"Дело не найдено.\")\n",
        "        elif \"очистить\" in user:\n",
        "            spisokdel.clear()\n",
        "            print(\"Список очищен.\")\n",
        "    elif \"выход\" in user:\n",
        "        print(\"До свидания!\")\n",
        "        break\n",
        "    else:\n",
        "        print(\"Не понимаю.\")\n",
        "\n"
      ],
      "metadata": {
        "id": "fmW-tmUtINN9",
        "colab": {
          "base_uri": "https://localhost:8080/",
          "height": 391
        },
        "outputId": "ac68be6b-4852-4bb0-f8da-0263968af166"
      },
      "execution_count": null,
      "outputs": [
        {
          "metadata": {
            "tags": null
          },
          "name": "stdout",
          "output_type": "stream",
          "text": [
            "Привет! Как я могу помочь?\n",
            "Не понимаю.\n"
          ]
        },
        {
          "output_type": "error",
          "ename": "KeyboardInterrupt",
          "evalue": "Interrupted by user",
          "traceback": [
            "\u001b[0;31m---------------------------------------------------------------------------\u001b[0m",
            "\u001b[0;31mKeyboardInterrupt\u001b[0m                         Traceback (most recent call last)",
            "\u001b[0;32m<ipython-input-1-c1801c383e88>\u001b[0m in \u001b[0;36m<cell line: 5>\u001b[0;34m()\u001b[0m\n\u001b[1;32m      4\u001b[0m \u001b[0mprint\u001b[0m\u001b[0;34m(\u001b[0m\u001b[0;34m\"Привет! Как я могу помочь?\"\u001b[0m\u001b[0;34m)\u001b[0m\u001b[0;34m\u001b[0m\u001b[0;34m\u001b[0m\u001b[0m\n\u001b[1;32m      5\u001b[0m \u001b[0;32mwhile\u001b[0m \u001b[0;32mTrue\u001b[0m\u001b[0;34m:\u001b[0m\u001b[0;34m\u001b[0m\u001b[0;34m\u001b[0m\u001b[0m\n\u001b[0;32m----> 6\u001b[0;31m     \u001b[0muser\u001b[0m \u001b[0;34m=\u001b[0m \u001b[0minput\u001b[0m\u001b[0;34m(\u001b[0m\u001b[0;34m\"Вы : \"\u001b[0m\u001b[0;34m)\u001b[0m\u001b[0;34m.\u001b[0m\u001b[0mlower\u001b[0m\u001b[0;34m(\u001b[0m\u001b[0;34m)\u001b[0m\u001b[0;34m\u001b[0m\u001b[0;34m\u001b[0m\u001b[0m\n\u001b[0m\u001b[1;32m      7\u001b[0m     \u001b[0;32mif\u001b[0m \u001b[0;34m\"сложить\"\u001b[0m \u001b[0;32min\u001b[0m \u001b[0muser\u001b[0m\u001b[0;34m:\u001b[0m\u001b[0;34m\u001b[0m\u001b[0;34m\u001b[0m\u001b[0m\n\u001b[1;32m      8\u001b[0m         \u001b[0mnumbers\u001b[0m \u001b[0;34m=\u001b[0m \u001b[0minput\u001b[0m\u001b[0;34m(\u001b[0m\u001b[0;34m\"Введите два числа: \"\u001b[0m\u001b[0;34m)\u001b[0m\u001b[0;34m\u001b[0m\u001b[0;34m\u001b[0m\u001b[0m\n",
            "\u001b[0;32m/usr/local/lib/python3.10/dist-packages/ipykernel/kernelbase.py\u001b[0m in \u001b[0;36mraw_input\u001b[0;34m(self, prompt)\u001b[0m\n\u001b[1;32m    849\u001b[0m                 \u001b[0;34m\"raw_input was called, but this frontend does not support input requests.\"\u001b[0m\u001b[0;34m\u001b[0m\u001b[0;34m\u001b[0m\u001b[0m\n\u001b[1;32m    850\u001b[0m             )\n\u001b[0;32m--> 851\u001b[0;31m         return self._input_request(str(prompt),\n\u001b[0m\u001b[1;32m    852\u001b[0m             \u001b[0mself\u001b[0m\u001b[0;34m.\u001b[0m\u001b[0m_parent_ident\u001b[0m\u001b[0;34m,\u001b[0m\u001b[0;34m\u001b[0m\u001b[0;34m\u001b[0m\u001b[0m\n\u001b[1;32m    853\u001b[0m             \u001b[0mself\u001b[0m\u001b[0;34m.\u001b[0m\u001b[0m_parent_header\u001b[0m\u001b[0;34m,\u001b[0m\u001b[0;34m\u001b[0m\u001b[0;34m\u001b[0m\u001b[0m\n",
            "\u001b[0;32m/usr/local/lib/python3.10/dist-packages/ipykernel/kernelbase.py\u001b[0m in \u001b[0;36m_input_request\u001b[0;34m(self, prompt, ident, parent, password)\u001b[0m\n\u001b[1;32m    893\u001b[0m             \u001b[0;32mexcept\u001b[0m \u001b[0mKeyboardInterrupt\u001b[0m\u001b[0;34m:\u001b[0m\u001b[0;34m\u001b[0m\u001b[0;34m\u001b[0m\u001b[0m\n\u001b[1;32m    894\u001b[0m                 \u001b[0;31m# re-raise KeyboardInterrupt, to truncate traceback\u001b[0m\u001b[0;34m\u001b[0m\u001b[0;34m\u001b[0m\u001b[0m\n\u001b[0;32m--> 895\u001b[0;31m                 \u001b[0;32mraise\u001b[0m \u001b[0mKeyboardInterrupt\u001b[0m\u001b[0;34m(\u001b[0m\u001b[0;34m\"Interrupted by user\"\u001b[0m\u001b[0;34m)\u001b[0m \u001b[0;32mfrom\u001b[0m \u001b[0;32mNone\u001b[0m\u001b[0;34m\u001b[0m\u001b[0;34m\u001b[0m\u001b[0m\n\u001b[0m\u001b[1;32m    896\u001b[0m             \u001b[0;32mexcept\u001b[0m \u001b[0mException\u001b[0m \u001b[0;32mas\u001b[0m \u001b[0me\u001b[0m\u001b[0;34m:\u001b[0m\u001b[0;34m\u001b[0m\u001b[0;34m\u001b[0m\u001b[0m\n\u001b[1;32m    897\u001b[0m                 \u001b[0mself\u001b[0m\u001b[0;34m.\u001b[0m\u001b[0mlog\u001b[0m\u001b[0;34m.\u001b[0m\u001b[0mwarning\u001b[0m\u001b[0;34m(\u001b[0m\u001b[0;34m\"Invalid Message:\"\u001b[0m\u001b[0;34m,\u001b[0m \u001b[0mexc_info\u001b[0m\u001b[0;34m=\u001b[0m\u001b[0;32mTrue\u001b[0m\u001b[0;34m)\u001b[0m\u001b[0;34m\u001b[0m\u001b[0;34m\u001b[0m\u001b[0m\n",
            "\u001b[0;31mKeyboardInterrupt\u001b[0m: Interrupted by user"
          ]
        }
      ]
    },
    {
      "cell_type": "markdown",
      "source": [
        "# **Задача 4.**\n"
      ],
      "metadata": {
        "id": "PHXBfyc6Ko7D"
      }
    },
    {
      "cell_type": "markdown",
      "source": [
        "Камень, ножницы, бумага\n",
        "\n",
        "Создайте игру в Камень, ножницы, бумагу, в которой пользователь может играть против компьютера. Программа должна запросить выбор пользователя, а затем сгенерировать выбор компьютера. Затем программа должна определить победителя на основе правил игры.\n",
        "\n",
        "**Этап 1:**\n",
        "\n",
        "Определение победителя\n",
        "\n",
        "**Этап 2:**\n",
        "  \n",
        "Игра до 3 побед\n",
        "\n",
        "\n",
        "Ввод для \"Этап 1\":\n",
        "\n",
        "```\n",
        "Камень\n",
        "```\n",
        "\n",
        "Вывод:\n",
        "\n",
        "```\n",
        "Компьютер: Ножницы\n",
        "Игрок: Камень\n",
        "Победа: Игрок\n",
        "```"
      ],
      "metadata": {
        "id": "jnKWeYleI0j6"
      }
    },
    {
      "cell_type": "code",
      "source": [
        "import random\n",
        "\n",
        "choices = [\"камень\", \"ножницы\", \"бумага\"]\n",
        "player = 0  # Счет игрока\n",
        "comp = 0     # Счет компьютера\n",
        "while player < 3 and comp < 3:\n",
        "    player_choice = input(\"Выберите: Камень, Ножницы или Бумага: \").lower()\n",
        "    if player_choice not in choices:\n",
        "        print(\"Выберите из 3 предложенных вариантов\")\n",
        "        continue\n",
        "    computer_choice = random.choice(choices)\n",
        "    print(\"Комп: \" + computer_choice)\n",
        "    print(\"Игрок: \" + player_choice)\n",
        "    if player_choice == computer_choice:\n",
        "        print(\"Ничья\")\n",
        "    elif (player_choice == \"камень\" and computer_choice == \"ножницы\") or \\\n",
        "         (player_choice == \"ножницы\" and computer_choice == \"бумага\") or \\\n",
        "         (player_choice == \"бумага\" and computer_choice == \"камень\"):\n",
        "        print(\"Победа: человечество\")\n",
        "        player += 1\n",
        "    else:\n",
        "        print(\"Победа: Комп\")\n",
        "        comp += 1\n",
        "    print(\"Счет - человечество: \" + str(player) + \", Комп: \" + str(comp) + \"\\n\")\n",
        "if player == 3:\n",
        "    print(\"Победа человечества\")\n",
        "else:\n",
        "    print(\"Победил mr.comp\")\n",
        "\n"
      ],
      "metadata": {
        "id": "ooIPCRe_JHkX"
      },
      "execution_count": null,
      "outputs": []
    },
    {
      "cell_type": "markdown",
      "source": [
        "# **Задача 5.**"
      ],
      "metadata": {
        "id": "Hg4FJNFbLHQO"
      }
    },
    {
      "cell_type": "markdown",
      "source": [
        "Создайте игру \"Палач\" или \"Виселица\", в которой пользователь должен угадать слово, предлагая буквы. Программа должна выбрать случайное слово, а затем разрешить пользователю угадывать буквы. После каждого угадывания программа должна сообщать пользователю, есть ли в слове буква или нет.\n",
        "\n",
        "**Этап 1**\n",
        "Создать саму игру (игра должна иметь привлекательный интерфейс, соотвесвующий классической висилице)\n",
        "\n",
        "**Этап 2:**\n",
        "Ввести подсчет количества очков и ограничения на попытки\n",
        "\n",
        "**Этап 3:** Добавить возможность сразу угадать слово"
      ],
      "metadata": {
        "id": "OHqj3HJuLJgY"
      }
    },
    {
      "cell_type": "code",
      "source": [
        "slovo = list(input(\"Введите слово \"))\n",
        "try0 = 5\n",
        "dlina = len(slovo)\n",
        "print(dlina)\n",
        "try0 = 5 # число попыток в начале\n",
        "two = list(input('Напишите две буквы загаданного слова '))\n",
        "spisokbezbukv = [0,0,0,0,0,0,0,0,0,0,0,0,0,0,0,0,0,0,0,0,0]\n",
        "index1 = slovo.index(two[0])\n",
        "index2 = slovo.index(two[1])\n",
        "spisokbezbukv.insert(index1,two[0]),spisokbezbukv.insert(index2,two[1]) # разбор случая с 2 буквами например мотор. 2 о - выведет только одну случайную\n",
        "print('Я загадал слово, длина слова',dlina, 'На всю игру у тебя 6 попыток угадать слово, каждая попытка тратится при ошибке')\n",
        "k = spisokbezbukv[0:dlina]\n",
        "print(k)\n",
        "print('Хочешь попробовать отгадать сразу все слово?') # да либо нет выбор дается в начале и при правильном угадывании 1 буквы\n",
        "otvet1 = input()\n",
        "if otvet1.lower() == \"да\":\n",
        "  print(\"Введи полное слово\")\n",
        "  allin = input()\n",
        "  if allin.lower() == ''.join(slovo):\n",
        "      print(\"Да, вы угадали слово\")\n",
        "  if allin.lower() != ''.join(slovo):\n",
        "    try0 = try0 - 1\n",
        "    print(\"Попытка не пытка... попробуй по букве, у тебя осталось \" ,try0, 'попыток')\n",
        "    print(\"Введите букву\")\n",
        "    vibor1 =  input()\n",
        "    if vibor1.lower() in slovo:\n",
        "      m1 = slovo.index(vibor1.lower())\n",
        "      k.insert(m1,vibor1.lower())\n",
        "      print(k[0:dlina]) # оринтир\n",
        "      print('Хочешь попробовать отгадать сразу все слово?') # да либо нет выбор дается в начале и при правильном угадывании 1 буквы\n",
        "      otvet1 = input()\n",
        "      if otvet1.lower() == \"да\":\n",
        "        print(\"Введи полное слово\")\n",
        "        allin = input()\n",
        "        if allin.lower() == ''.join(slovo):\n",
        "          print(\"Да, вы угадали слово\")\n",
        "        if allin.lower() != ''.join(slovo):\n",
        "          try0 = try0 - 1\n",
        "          print(\"Попытка не пытка... попробуй по букве, у тебя осталось \" ,try0, 'попыток')\n",
        "          print(\"Введите букву\")\n",
        "          vibor1 =  input()\n",
        "          if vibor1.lower() in slovo: # 1 else\n",
        "            m1 = slovo.index(vibor1.lower())\n",
        "            k.insert(m1,vibor1.lower())\n",
        "            print(k[0:dlina]) # oriet1\n",
        "            print('Хочешь попробовать отгадать сразу все слово?') # да либо нет выбор дается в начале и при правильном угадывании 1 буквы\n",
        "            otvet1 = input()\n",
        "            if otvet1.lower() == \"да\":\n",
        "              print(\"Введи полное слово\")\n",
        "              allin = input()\n",
        "            if allin.lower() == ''.join(slovo):\n",
        "              print(\"Да, вы угадали слово\")\n",
        "            if allin.lower() != ''.join(slovo):\n",
        "              try0 = try0 - 1\n",
        "              print(\"Попытка не пытка... попробуй по букве, у тебя осталось \" ,try0, 'попыток')\n",
        "              print(\"Введите букву\")\n",
        "              vibor1 =  input()\n",
        "              if vibor1.lower() in slovo:\n",
        "                m1 = slovo.index(vibor1.lower())\n",
        "                k.insert(m1,vibor1.lower())\n",
        "                print(k[0:dlina]) # оринтир2\n",
        "              else:\n",
        "                  try0 = try0 - 1\n",
        "                  print('Такой буквы нет')\n",
        "                  print(\"Введите букву\")\n",
        "                  vibor1 =  input()\n",
        "                  if vibor1.lower() in slovo:\n",
        "                    m1 = slovo.index(vibor1.lower())\n",
        "                    k.insert(m1,vibor1.lower())\n",
        "                    print(k[0:dlina]) # оринтир2\n",
        "                  else:\n",
        "                    try0 = try0 - 1\n",
        "                    print('Такой буквы нет')\n",
        "\n",
        "          else:\n",
        "            try0 = try0 - 1\n",
        "            print('Такой буквы нет')\n",
        "            print(\"Введите букву\")\n",
        "              vibor1 =  input()\n",
        "              if vibor1.lower() in slovo:\n",
        "                m1 = slovo.index(vibor1.lower())\n",
        "                k.insert(m1,vibor1.lower())\n",
        "                print(k[0:dlina]) # оринтир2\n",
        "              else:\n",
        "                  try0 = try0 - 1\n",
        "                  print('Такой буквы нет')\n",
        "                  print(\"Введите букву\")\n",
        "                  vibor1 =  input()\n",
        "                  if vibor1.lower() in slovo:\n",
        "                m1 = slovo.index(vibor1.lower())\n",
        "                k.insert(m1,vibor1.lower())\n",
        "                print(k[0:dlina]) # оринтир2\n",
        "              else:\n",
        "                  try0 = try0 - 1\n",
        "                  print('Такой буквы нет')\n",
        "    else:\n",
        "        try0 = try0 - 1\n",
        "        print('Такой буквы нет')\n",
        "        print(\"Введите букву\")\n",
        "              vibor1 =  input()\n",
        "              if vibor1.lower() in slovo:\n",
        "                m1 = slovo.index(vibor1.lower())\n",
        "                k.insert(m1,vibor1.lower())\n",
        "                print(k[0:dlina]) # оринтир2\n",
        "              else:\n",
        "                  try0 = try0 - 1\n",
        "                  print('Такой буквы нет')\n",
        "\n",
        "else:\n",
        "  print(\"Введите букву\")\n",
        "  vibor1 =  input()\n",
        "  if vibor1.lower() in slovo:\n",
        "    m1 = slovo.index(vibor1.lower())\n",
        "    k.insert(m1,vibor1.lower())\n",
        "    print(k[0:dlina])\n",
        "  else:\n",
        "    try0 = try0 - 1\n",
        "    print('Такой буквы нет')\n",
        "\n",
        "# я запутался(((((((((( (говно код ;)\n"
      ],
      "metadata": {
        "colab": {
          "base_uri": "https://localhost:8080/"
        },
        "id": "ULVTeGe6C3dY",
        "outputId": "77f8f7c1-6a0c-4086-b7fc-b98df708ce2e"
      },
      "execution_count": null,
      "outputs": [
        {
          "output_type": "stream",
          "name": "stdout",
          "text": [
            "Введите слово привет\n",
            "6\n",
            "Напишите две буквы загаданного слова пр\n",
            "Я загадал слово, длина слова 6 На всю игру у тебя 6 попыток угадать слово, каждая попытка тратится при ошибке\n",
            "['п', 'р', 0, 0, 0, 0]\n",
            "Хочешь попробовать отгадать сразу все слово?\n",
            "да\n",
            "Введи полное слово\n",
            "привео\n",
            "Попытка не пытка... попробуй по букве, у тебя осталось  5 попыток\n",
            "Введите букву\n",
            "ш\n",
            "Такой буквы нет\n"
          ]
        }
      ]
    },
    {
      "cell_type": "markdown",
      "source": [
        "# **Дополнительно: Задача 6.**\n"
      ],
      "metadata": {
        "id": "w0x3QFGzKtDD"
      }
    },
    {
      "cell_type": "markdown",
      "source": [
        "\n",
        "**Цифра на определенном месте:**\n",
        "\n",
        "Последовательно записан натуральный ряд чисел.\n",
        "\n",
        "Какая цифра стоит в N позиции\n",
        "\n",
        "\n",
        "Вввод:\n",
        "\n",
        "```\n",
        "Введите номер позиции: 1234567890\n",
        "```\n",
        "\n",
        "Вывод:\n",
        "\n",
        "```\n",
        "8\n",
        "```"
      ],
      "metadata": {
        "id": "QqZArcpHJxVj"
      }
    },
    {
      "cell_type": "code",
      "source": [
        "posision = int(input(\"Введите номер позиции \"))\n",
        "def f(x):\n",
        "  s = ''\n",
        "  chislo = 1\n",
        "  while len(s) < posision:\n",
        "    s += str(chislo)\n",
        "    chislo += 1\n",
        "  return s[x-1]\n",
        "a = f(posision)\n",
        "print(a)\n",
        "# код 1234567890 работал 1 минуту\n"
      ],
      "metadata": {
        "colab": {
          "base_uri": "https://localhost:8080/"
        },
        "id": "nxEB0_V-eqYf",
        "outputId": "a714f25e-efed-45b4-fe0d-d5fb09d331d7"
      },
      "execution_count": null,
      "outputs": [
        {
          "output_type": "stream",
          "name": "stdout",
          "text": [
            "Введите номер позиции 1234567890\n",
            "8\n"
          ]
        }
      ]
    }
  ]
}