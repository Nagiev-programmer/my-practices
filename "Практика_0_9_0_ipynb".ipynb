{
  "nbformat": 4,
  "nbformat_minor": 0,
  "metadata": {
    "colab": {
      "provenance": [],
      "include_colab_link": true
    },
    "kernelspec": {
      "name": "python3",
      "display_name": "Python 3"
    },
    "language_info": {
      "name": "python"
    }
  },
  "cells": [
    {
      "cell_type": "markdown",
      "metadata": {
        "id": "view-in-github",
        "colab_type": "text"
      },
      "source": [
        "<a href=\"https://colab.research.google.com/github/Nagiev-programmer/my-practices/blob/main/%22%D0%9F%D1%80%D0%B0%D0%BA%D1%82%D0%B8%D0%BA%D0%B0_0_9_0_ipynb%22.ipynb\" target=\"_parent\"><img src=\"https://colab.research.google.com/assets/colab-badge.svg\" alt=\"Open In Colab\"/></a>"
      ]
    },
    {
      "cell_type": "markdown",
      "source": [
        "ФИО"
      ],
      "metadata": {
        "id": "8hJfL9b2l439"
      }
    },
    {
      "cell_type": "code",
      "source": [],
      "metadata": {
        "id": "wRnqvYOkl6EX"
      },
      "execution_count": null,
      "outputs": []
    },
    {
      "cell_type": "markdown",
      "source": [
        "# Дисклеймер"
      ],
      "metadata": {
        "id": "weOtPwPQmgpD"
      }
    },
    {
      "cell_type": "markdown",
      "source": [
        "В данной практике вам необходимо применить все ваши знания по темам:\n",
        "\n",
        "- Функции\n",
        "- Словари\n",
        "- Списки\n",
        "- Множества\n",
        "- Условные конструкции\n",
        "- Запросы\n",
        "\n",
        "и все что было изучено на прошлых практических занятиях\n",
        "\n",
        "В каждом задании кратко описаны функции, которые необходимо реализовать, детали реализации вы должны продумать самостоятельно"
      ],
      "metadata": {
        "id": "LznB3uscmjDa"
      }
    },
    {
      "cell_type": "markdown",
      "source": [
        "# Задание 0"
      ],
      "metadata": {
        "id": "7nSJIqkTvC_C"
      }
    },
    {
      "cell_type": "markdown",
      "source": [
        "Создайте функцию по нахождению уникальных элементов из двух списков\n",
        "\n",
        "\n",
        "\n",
        "```\n",
        "a = [1, 2, 3, 4]\n",
        "b = [3, 4, 5, 6]\n",
        "```\n",
        "\n"
      ],
      "metadata": {
        "id": "exACjTiVvGUe"
      }
    },
    {
      "cell_type": "code",
      "source": [
        "def elements(a, b):\n",
        "  o = []\n",
        "  for item in a + b:\n",
        "      if item not in o:\n",
        "         o.append(item)\n",
        "  return o\n",
        "\n",
        "\n",
        "a = [1, 2, 3, 4]\n",
        "b = [3, 4, 5, 6]\n",
        "\n",
        "\n",
        "print(elements(a, b))"
      ],
      "metadata": {
        "id": "dQheNSYd4nd2",
        "colab": {
          "base_uri": "https://localhost:8080/"
        },
        "outputId": "7f8215d8-a802-46f7-8c9c-c4677664069f"
      },
      "execution_count": null,
      "outputs": [
        {
          "output_type": "stream",
          "name": "stdout",
          "text": [
            "[1, 2, 3, 4, 5, 6]\n"
          ]
        }
      ]
    },
    {
      "cell_type": "markdown",
      "source": [
        "# Задание 1"
      ],
      "metadata": {
        "id": "SVWNlBALpCNo"
      }
    },
    {
      "cell_type": "markdown",
      "source": [
        "Симулятор виртуального питомца\n",
        "\n",
        "Цель: создать виртуальный симулятор домашних животных, в котором пользователи смогут заводить питомцев и ухаживать за ними.\n",
        "\n",
        "Требования:\n",
        "\n",
        "- Функция для усыновления питомца (имя, тип, возраст).\n",
        "- Функция для того, чтобы покормить питомца, поиграть с ним или уложить его спать.\n",
        "- Функция для отображения состояния питомца (голод, радость, энергия)."
      ],
      "metadata": {
        "id": "RcKA-VEqpC7f"
      }
    },
    {
      "cell_type": "code",
      "source": [
        "import random\n",
        "\n",
        "class Pet:\n",
        "    def __init__(self, name, pet_type, age):\n",
        "        self.name = name\n",
        "        self.pet_type = pet_type\n",
        "        self.age = age\n",
        "        self.hunger = 50  # Уровень голода (от 0 до 100)\n",
        "        self.happiness = 50  # Уровень радости (от 0 до 100)\n",
        "        self.energy = 50  # Уровень энергии (от 0 до 100)\n",
        "\n",
        "    def feed(self):\n",
        "        \"\"\"Кормит питомца, увеличивает уровень голода и радости.\"\"\"\n",
        "        if self.hunger < 100:\n",
        "            self.hunger += random.randint(10, 30)\n",
        "            if self.hunger > 100:\n",
        "                self.hunger = 100\n",
        "            self.happiness += random.randint(5, 10)\n",
        "            print(f\"{self.name} накормлен! Уровень голода: {self.hunger}. Уровень радости: {self.happiness}\")\n",
        "        else:\n",
        "            print(f\"{self.name} не голоден!\")\n",
        "\n",
        "    def play(self):\n",
        "        \"\"\"Играть с питомцем, повышает радость и тратит энергию.\"\"\"\n",
        "        if self.energy > 10:\n",
        "            self.happiness += random.randint(15, 30)\n",
        "            self.energy -= random.randint(10, 20)\n",
        "            if self.happiness > 100:\n",
        "                self.happiness = 100\n",
        "            print(f\"{self.name} играл! Уровень радости: {self.happiness}. Уровень энергии: {self.energy}\")\n",
        "        else:\n",
        "            print(f\"{self.name} слишком устал, чтобы играть!\")\n",
        "\n",
        "    def sleep(self):\n",
        "        \"\"\"Уложить питомца спать, восстанавливает энергию и немного радости.\"\"\"\n",
        "        self.energy += random.randint(20, 40)\n",
        "        if self.energy > 100:\n",
        "            self.energy = 100\n",
        "        self.happiness += random.randint(5, 10)\n",
        "        print(f\"{self.name} спал! Уровень энергии: {self.energy}. Уровень радости: {self.happiness}\")\n",
        "\n",
        "    def display_status(self):\n",
        "        \"\"\"Отображает текущие состояния питомца.\"\"\"\n",
        "        print(f\"Питомец {self.name}:\")\n",
        "        print(f\"  Тип: {self.pet_type}\")\n",
        "        print(f\"  Возраст: {self.age} лет\")\n",
        "        print(f\"  Голод: {self.hunger}\")\n",
        "        print(f\"  Радость: {self.happiness}\")\n",
        "        print(f\"  Энергия: {self.energy}\")\n",
        "\n",
        "class PetSimulator:\n",
        "    def __init__(self):\n",
        "        self.pet = None\n",
        "\n",
        "    def adopt_pet(self):\n",
        "        \"\"\"Усыновить питомца.\"\"\"\n",
        "        name = input(\"Введите имя питомца: \")\n",
        "        pet_type = input(\"Введите тип питомца (например, кошка, собака): \")\n",
        "        age = int(input(\"Введите возраст питомца: \"))\n",
        "        self.pet = Pet(name, pet_type, age)\n",
        "        print(f\"Вы усыновили питомца! {self.pet.name} ({self.pet.pet_type}, {self.pet.age} лет)\")\n",
        "\n",
        "    def care_for_pet(self):\n",
        "        \"\"\"Ухаживать за питомцем.\"\"\"\n",
        "        if self.pet:\n",
        "            while True:\n",
        "                print(\"\\nЧто вы хотите сделать с вашим питомцем?\")\n",
        "                print(\"1. Покормить питомца\")\n",
        "                print(\"2. Поиграть с питомцем\")\n",
        "                print(\"3. Уложить питомца спать\")\n",
        "                print(\"4. Посмотреть состояние питомца\")\n",
        "                print(\"5. Выйти\")\n",
        "                choice = input(\"Выберите действие (1-5): \")\n",
        "\n",
        "                if choice == \"1\":\n",
        "                    self.pet.feed()\n",
        "                elif choice == \"2\":\n",
        "                    self.pet.play()\n",
        "                elif choice == \"3\":\n",
        "                    self.pet.sleep()\n",
        "                elif choice == \"4\":\n",
        "                    self.pet.display_status()\n",
        "                elif choice == \"5\":\n",
        "                    print(\"Выход из программы.\")\n",
        "                    break\n",
        "                else:\n",
        "                    print(\"Неверный выбор, попробуйте снова.\")\n",
        "        else:\n",
        "            print(\"У вас нет питомца! Пожалуйста, усыновите питомца.\")\n",
        "\n",
        "def main():\n",
        "    simulator = PetSimulator()\n",
        "\n",
        "    while True:\n",
        "        print(\"\\nМеню симулятора питомца\")\n",
        "        print(\"1. Усыновить питомца\")\n",
        "        print(\"2. Ухаживать за питомцем\")\n",
        "        print(\"3. Выйти\")\n",
        "        choice = input(\"Выберите действие (1-3): \")\n",
        "\n",
        "        if choice == \"1\":\n",
        "            simulator.adopt_pet()\n",
        "        elif choice == \"2\":\n",
        "            simulator.care_for_pet()\n",
        "        elif choice == \"3\":\n",
        "            print(\"Выход из симулятора.\")\n",
        "            break\n",
        "        else:\n",
        "            print(\"Неверный выбор, попробуйте снова.\")\n",
        "\n",
        "if __name__ == \"__main__\":\n",
        "    main()\n"
      ],
      "metadata": {
        "id": "hE7mF-HXpJLO"
      },
      "execution_count": null,
      "outputs": []
    },
    {
      "cell_type": "markdown",
      "source": [
        "# Задание 2"
      ],
      "metadata": {
        "id": "qZ7qFQnmssNd"
      }
    },
    {
      "cell_type": "markdown",
      "source": [
        "Рыцарь и дракон\n",
        "\n",
        "Цель: создать небольшую игру, в которой вам необходимо играть за рыцаря и сразиться с драконом\n",
        "\n",
        "Требования:\n",
        "\n",
        "- Создание персонажа (имя, информация о доспехах, оружии, урон, здоровье)\n",
        "- Управление персонажем и мини сюжет\n",
        "- Создание дракона (Имя, информация о здоровье и уроне)\n",
        "- Боевая система (нанесение и получение урона, урон должен быть случайным в заданном диапазоне)\n",
        "- Реализовать бой между драконом и рыцарем"
      ],
      "metadata": {
        "id": "UaccTe7ltNvg"
      }
    },
    {
      "cell_type": "code",
      "source": [
        "import random\n",
        "\n",
        "\n",
        "knight_name = input(\"Введите имя вашего рыцаря: \")\n",
        "knight_health = 100\n",
        "knight_weapon = input(\"Выберите оружие (меч/копьё): \").lower()\n",
        "knight_damage = 10 if knight_weapon == \"меч\" else 12\n",
        "potions = 2\n",
        "\n",
        "\n",
        "dragon_name = \"Виктор Баринов\"\n",
        "dragon_health = 100\n",
        "dragon_damage_range = (10, 29)\n",
        "\n",
        "print(f\"Рыцарь {knight_name} сражается с драконом {dragon_name}!\")\n",
        "\n",
        "while knight_health > 0 and dragon_health > 0:\n",
        "    print(\"1. Атаковать\")\n",
        "    print(\"2. Защититься\")\n",
        "    action = input(\"Сделайте выбор: \")\n",
        "\n",
        "    if action == \"1\":\n",
        "        damage = random.randint(knight_damage - 2, knight_damage + 2)\n",
        "        dragon_health -= damage\n",
        "        print(f\"Вы нанесли дракону {damage} урона. У дракона осталось {dragon_health} здоровья.\")\n",
        "    elif action == \"2\":\n",
        "        reduced_damage = random.randint(dragon_damage_range[0], dragon_damage_range[1]) // 2\n",
        "        knight_health -= reduced_damage\n",
        "        print(f\"Дракон нанес вам {reduced_damage} урона.\")\n",
        "\n",
        "\n",
        "if knight_health > 0:\n",
        "    print(f\"\\n{knight_name} победил  {dragon_name}!\")\n",
        "else:\n",
        "    print(f\"\\n{knight_name} был побежден  {dragon_name}.\")"
      ],
      "metadata": {
        "id": "LCcxp5Q0srjY",
        "colab": {
          "base_uri": "https://localhost:8080/"
        },
        "outputId": "bd2acf5c-a7fe-4b41-e301-9c4de5d8c05f"
      },
      "execution_count": null,
      "outputs": [
        {
          "output_type": "stream",
          "name": "stdout",
          "text": [
            "Requirement already satisfied: requests in /usr/local/lib/python3.10/dist-packages (2.32.3)\n",
            "Requirement already satisfied: charset-normalizer<4,>=2 in /usr/local/lib/python3.10/dist-packages (from requests) (3.4.0)\n",
            "Requirement already satisfied: idna<4,>=2.5 in /usr/local/lib/python3.10/dist-packages (from requests) (3.10)\n",
            "Requirement already satisfied: urllib3<3,>=1.21.1 in /usr/local/lib/python3.10/dist-packages (from requests) (2.2.3)\n",
            "Requirement already satisfied: certifi>=2017.4.17 in /usr/local/lib/python3.10/dist-packages (from requests) (2024.8.30)\n"
          ]
        }
      ]
    },
    {
      "cell_type": "markdown",
      "source": [
        "# Задание 3\n"
      ],
      "metadata": {
        "id": "N8oFiEXol3e2"
      }
    },
    {
      "cell_type": "markdown",
      "source": [
        "Цель - создать менеджера команды Pokémon, который позволит пользователям:\n",
        "\n",
        "- Добавлять покемонов в свою команду. (если такого покемона еще нет в команде)\n",
        "- Удалять покемонов из их команды.\n",
        "- Просматривать подробную информацию обо всех покемонах в команде.\n",
        "- Находить покемона по имени.\n",
        "- Устраивать тренировочный бой между двумя покемонами\n",
        "\n",
        "Для данной задачи используйте: https://pokeapi.co/\n"
      ],
      "metadata": {
        "id": "9p4WQG_Vl7wB"
      }
    },
    {
      "cell_type": "code",
      "source": [
        "import requests\n",
        "\n",
        "\n",
        "# Наша команда\n",
        "class PokemonManager:\n",
        "    def __init__(self):\n",
        "        self.team = []\n",
        "\n",
        "\n",
        "# Запрос\n",
        "    def fetch_pokemon(self, name):\n",
        "        url = f\"https://pokeapi.co/api/v2/pokemon/{name.lower()}\"\n",
        "        response = requests.get(url)\n",
        "        if response.status_code == 200:\n",
        "            return response.json()\n",
        "        else:\n",
        "            print(f\"Ошибка: Покемон {name} не найден.\")\n",
        "            return None\n",
        "\n",
        "\n",
        "# Добавляем покемона в команду\n",
        "    def add_pokemon(self, name):\n",
        "        if any(pokemon['name'] == name.lower() for pokemon in self.team):\n",
        "            print(f\"{name} уже в команде!\")\n",
        "            return\n",
        "\n",
        "        data = self.fetch_pokemon(name)\n",
        "        if data:\n",
        "            self.team.append({\n",
        "                'name': data['name'],  # Имя покемона\n",
        "                'stats': {stat['stat']['name']: stat['base_stat'] for stat in data['stats']},  # Стат\n",
        "                'types': [t['type']['name'] for t in data['types']]  # Тип\n",
        "            })\n",
        "            print(f\"{name} добавлен\")\n",
        "\n",
        "\n",
        "# Удаление\n",
        "    def remove_pokemon(self, name):\n",
        "        self.team = [pokemon for pokemon in self.team if pokemon['name'] != name.lower()]\n",
        "        print(f\"{name} удален\")\n",
        "\n",
        "\n",
        "#Показать команду\n",
        "    def list_team(self):\n",
        "        if not self.team:\n",
        "            print(\"Ваша команда пуста!\")\n",
        "            return\n",
        "        for idx, pokemon in enumerate(self.team, 1):\n",
        "            print(f\"{idx}. {pokemon['name'].capitalize()} - Типы: {', '.join(pokemon['types'])}\")\n",
        "            print(f\"   Статы: {pokemon['stats']}\")\n",
        "\n",
        "\n",
        "# Поиск покемона в команде\n",
        "    def find_pokemon(self, name):\n",
        "        for pokemon in self.team:\n",
        "            if pokemon['name'] == name.lower():\n",
        "                print(f\"Найден {name.capitalize()} - Типы: {', '.join(pokemon['types'])}\")\n",
        "                print(f\"Статы: {pokemon['stats']}\")\n",
        "                return\n",
        "        print(f\"{name} не найден в команде.\")\n",
        "\n",
        "\n",
        "# Бой\n",
        "    def battle(self, name1, name2):\n",
        "        pokemon1 = next((p for p in self.team if p['name'] == name1.lower()), None)\n",
        "        pokemon2 = next((p for p in self.team if p['name'] == name2.lower()), None)\n",
        "\n",
        "        if not pokemon1 or not pokemon2:\n",
        "            print(\"Оба покемона должны быть в команде для боя.\")\n",
        "            return\n",
        "\n",
        "        # Сравнение статов\n",
        "        score1 = sum(pokemon1['stats'].values())\n",
        "        score2 = sum(pokemon2['stats'].values())\n",
        "\n",
        "        print(f\"{name1.capitalize()} против {name2.capitalize()}\")\n",
        "        print(f\"Очки: {score1} против {score2}\")\n",
        "        if score1 > score2:\n",
        "            print(f\"{name1.capitalize()} победил\")\n",
        "        elif score2 > score1:\n",
        "            print(f\"{name2.capitalize()} победил\")\n",
        "        else:\n",
        "            print(\"Ничья\")\n",
        "\n",
        "\n",
        "# Список всех покемонов\n",
        "    def all_pokemons(self):\n",
        "        url = \"https://pokeapi.co/api/v2/pokemon?limit=50\"\n",
        "        response = requests.get(url)\n",
        "        if response.status_code == 200:\n",
        "            data = response.json()\n",
        "            all_pokemons = [pokemon['name'] for pokemon in data['results']]\n",
        "            print(\"\\nСписок всех покемонов:\")\n",
        "            for idx, name in enumerate(all_pokemons, 1):\n",
        "                print(f\"{idx}. {name.capitalize()}\")\n",
        "        else:\n",
        "            print(\"Ошибка: Не удалось получить список покемонов.\")\n",
        "\n",
        "\n",
        "# Ввод\n",
        "def main():\n",
        "    manager = PokemonManager()\n",
        "\n",
        "    while True:\n",
        "        print(\"\\nМенеджер команды\")\n",
        "        print(\"1. Добавить покемона в команду\")\n",
        "        print(\"2. Удалить покемона из команды\")\n",
        "        print(\"3. Посмотреть команду\")\n",
        "        print(\"4. Найти покемона в команде\")\n",
        "        print(\"5. Бой\")\n",
        "        print(\"6. Покемоны\")\n",
        "        print(\"7. Выйти\")\n",
        "\n",
        "\n",
        "        choice = input(\"Выберите действие: \")\n",
        "\n",
        "        if choice == \"1\":\n",
        "            name = input(\"Введите имя покемона для добавления: \")\n",
        "            manager.add_pokemon(name)\n",
        "        elif choice == \"2\":\n",
        "            name = input(\"Введите имя покемона для удаления: \")\n",
        "            manager.remove_pokemon(name)\n",
        "        elif choice == \"3\":\n",
        "            print(\"Текущая команда:\")\n",
        "            manager.list_team()\n",
        "        elif choice == \"4\":\n",
        "            name = input(\"Введите имя покемона для поиска: \")\n",
        "            manager.find_pokemon(name)\n",
        "        elif choice == \"5\":\n",
        "            name1 = input(\"Введите имя первого бойца: \")\n",
        "            name2 = input(\"Введите имя второго бойца: \")\n",
        "            manager.battle(name1, name2)\n",
        "        elif choice == \"6\":\n",
        "            manager.all_pokemons()\n",
        "        elif choice == \"7\":\n",
        "            print(\"Выход из программы.\")\n",
        "            break\n",
        "        else:\n",
        "            print(\"Попробуйте снова\")\n",
        "\n",
        "if __name__ == \"__main__\":\n",
        "    main()\n"
      ],
      "metadata": {
        "id": "pTqN7I7TgN6Z",
        "colab": {
          "base_uri": "https://localhost:8080/",
          "height": 1000
        },
        "outputId": "d8c088eb-ffca-4e07-c981-e729dfd244b2"
      },
      "execution_count": null,
      "outputs": [
        {
          "output_type": "stream",
          "name": "stdout",
          "text": [
            "\n",
            "Менеджер команды\n",
            "1. Добавить покемона в команду\n",
            "2. Удалить покемона из команды\n",
            "3. Посмотреть команду\n",
            "4. Найти покемона в команде\n",
            "5. Бой\n",
            "6. Покемоны\n",
            "7. Выйти\n",
            "Выберите действие: 6\n",
            "\n",
            "Список всех покемонов:\n",
            "1. Bulbasaur\n",
            "2. Ivysaur\n",
            "3. Venusaur\n",
            "4. Charmander\n",
            "5. Charmeleon\n",
            "6. Charizard\n",
            "7. Squirtle\n",
            "8. Wartortle\n",
            "9. Blastoise\n",
            "10. Caterpie\n",
            "11. Metapod\n",
            "12. Butterfree\n",
            "13. Weedle\n",
            "14. Kakuna\n",
            "15. Beedrill\n",
            "16. Pidgey\n",
            "17. Pidgeotto\n",
            "18. Pidgeot\n",
            "19. Rattata\n",
            "20. Raticate\n",
            "21. Spearow\n",
            "22. Fearow\n",
            "23. Ekans\n",
            "24. Arbok\n",
            "25. Pikachu\n",
            "26. Raichu\n",
            "27. Sandshrew\n",
            "28. Sandslash\n",
            "29. Nidoran-f\n",
            "30. Nidorina\n",
            "31. Nidoqueen\n",
            "32. Nidoran-m\n",
            "33. Nidorino\n",
            "34. Nidoking\n",
            "35. Clefairy\n",
            "36. Clefable\n",
            "37. Vulpix\n",
            "38. Ninetales\n",
            "39. Jigglypuff\n",
            "40. Wigglytuff\n",
            "41. Zubat\n",
            "42. Golbat\n",
            "43. Oddish\n",
            "44. Gloom\n",
            "45. Vileplume\n",
            "46. Paras\n",
            "47. Parasect\n",
            "48. Venonat\n",
            "49. Venomoth\n",
            "50. Diglett\n",
            "\n",
            "Менеджер команды\n",
            "1. Добавить покемона в команду\n",
            "2. Удалить покемона из команды\n",
            "3. Посмотреть команду\n",
            "4. Найти покемона в команде\n",
            "5. Бой\n",
            "6. Покемоны\n",
            "7. Выйти\n"
          ]
        },
        {
          "output_type": "error",
          "ename": "KeyboardInterrupt",
          "evalue": "Interrupted by user",
          "traceback": [
            "\u001b[0;31m---------------------------------------------------------------------------\u001b[0m",
            "\u001b[0;31mKeyboardInterrupt\u001b[0m                         Traceback (most recent call last)",
            "\u001b[0;32m<ipython-input-21-66146fba3965>\u001b[0m in \u001b[0;36m<cell line: 138>\u001b[0;34m()\u001b[0m\n\u001b[1;32m    137\u001b[0m \u001b[0;34m\u001b[0m\u001b[0m\n\u001b[1;32m    138\u001b[0m \u001b[0;32mif\u001b[0m \u001b[0m__name__\u001b[0m \u001b[0;34m==\u001b[0m \u001b[0;34m\"__main__\"\u001b[0m\u001b[0;34m:\u001b[0m\u001b[0;34m\u001b[0m\u001b[0;34m\u001b[0m\u001b[0m\n\u001b[0;32m--> 139\u001b[0;31m     \u001b[0mmain\u001b[0m\u001b[0;34m(\u001b[0m\u001b[0;34m)\u001b[0m\u001b[0;34m\u001b[0m\u001b[0;34m\u001b[0m\u001b[0m\n\u001b[0m",
            "\u001b[0;32m<ipython-input-21-66146fba3965>\u001b[0m in \u001b[0;36mmain\u001b[0;34m()\u001b[0m\n\u001b[1;32m    110\u001b[0m         \u001b[0mprint\u001b[0m\u001b[0;34m(\u001b[0m\u001b[0;34m\"7. Выйти\"\u001b[0m\u001b[0;34m)\u001b[0m\u001b[0;34m\u001b[0m\u001b[0;34m\u001b[0m\u001b[0m\n\u001b[1;32m    111\u001b[0m \u001b[0;34m\u001b[0m\u001b[0m\n\u001b[0;32m--> 112\u001b[0;31m         \u001b[0mchoice\u001b[0m \u001b[0;34m=\u001b[0m \u001b[0minput\u001b[0m\u001b[0;34m(\u001b[0m\u001b[0;34m\"Выберите действие: \"\u001b[0m\u001b[0;34m)\u001b[0m\u001b[0;34m\u001b[0m\u001b[0;34m\u001b[0m\u001b[0m\n\u001b[0m\u001b[1;32m    113\u001b[0m \u001b[0;34m\u001b[0m\u001b[0m\n\u001b[1;32m    114\u001b[0m         \u001b[0;32mif\u001b[0m \u001b[0mchoice\u001b[0m \u001b[0;34m==\u001b[0m \u001b[0;34m\"1\"\u001b[0m\u001b[0;34m:\u001b[0m\u001b[0;34m\u001b[0m\u001b[0;34m\u001b[0m\u001b[0m\n",
            "\u001b[0;32m/usr/local/lib/python3.10/dist-packages/ipykernel/kernelbase.py\u001b[0m in \u001b[0;36mraw_input\u001b[0;34m(self, prompt)\u001b[0m\n\u001b[1;32m    849\u001b[0m                 \u001b[0;34m\"raw_input was called, but this frontend does not support input requests.\"\u001b[0m\u001b[0;34m\u001b[0m\u001b[0;34m\u001b[0m\u001b[0m\n\u001b[1;32m    850\u001b[0m             )\n\u001b[0;32m--> 851\u001b[0;31m         return self._input_request(str(prompt),\n\u001b[0m\u001b[1;32m    852\u001b[0m             \u001b[0mself\u001b[0m\u001b[0;34m.\u001b[0m\u001b[0m_parent_ident\u001b[0m\u001b[0;34m,\u001b[0m\u001b[0;34m\u001b[0m\u001b[0;34m\u001b[0m\u001b[0m\n\u001b[1;32m    853\u001b[0m             \u001b[0mself\u001b[0m\u001b[0;34m.\u001b[0m\u001b[0m_parent_header\u001b[0m\u001b[0;34m,\u001b[0m\u001b[0;34m\u001b[0m\u001b[0;34m\u001b[0m\u001b[0m\n",
            "\u001b[0;32m/usr/local/lib/python3.10/dist-packages/ipykernel/kernelbase.py\u001b[0m in \u001b[0;36m_input_request\u001b[0;34m(self, prompt, ident, parent, password)\u001b[0m\n\u001b[1;32m    893\u001b[0m             \u001b[0;32mexcept\u001b[0m \u001b[0mKeyboardInterrupt\u001b[0m\u001b[0;34m:\u001b[0m\u001b[0;34m\u001b[0m\u001b[0;34m\u001b[0m\u001b[0m\n\u001b[1;32m    894\u001b[0m                 \u001b[0;31m# re-raise KeyboardInterrupt, to truncate traceback\u001b[0m\u001b[0;34m\u001b[0m\u001b[0;34m\u001b[0m\u001b[0m\n\u001b[0;32m--> 895\u001b[0;31m                 \u001b[0;32mraise\u001b[0m \u001b[0mKeyboardInterrupt\u001b[0m\u001b[0;34m(\u001b[0m\u001b[0;34m\"Interrupted by user\"\u001b[0m\u001b[0;34m)\u001b[0m \u001b[0;32mfrom\u001b[0m \u001b[0;32mNone\u001b[0m\u001b[0;34m\u001b[0m\u001b[0;34m\u001b[0m\u001b[0m\n\u001b[0m\u001b[1;32m    896\u001b[0m             \u001b[0;32mexcept\u001b[0m \u001b[0mException\u001b[0m \u001b[0;32mas\u001b[0m \u001b[0me\u001b[0m\u001b[0;34m:\u001b[0m\u001b[0;34m\u001b[0m\u001b[0;34m\u001b[0m\u001b[0m\n\u001b[1;32m    897\u001b[0m                 \u001b[0mself\u001b[0m\u001b[0;34m.\u001b[0m\u001b[0mlog\u001b[0m\u001b[0;34m.\u001b[0m\u001b[0mwarning\u001b[0m\u001b[0;34m(\u001b[0m\u001b[0;34m\"Invalid Message:\"\u001b[0m\u001b[0;34m,\u001b[0m \u001b[0mexc_info\u001b[0m\u001b[0;34m=\u001b[0m\u001b[0;32mTrue\u001b[0m\u001b[0;34m)\u001b[0m\u001b[0;34m\u001b[0m\u001b[0;34m\u001b[0m\u001b[0m\n",
            "\u001b[0;31mKeyboardInterrupt\u001b[0m: Interrupted by user"
          ]
        }
      ]
    }
  ]
}