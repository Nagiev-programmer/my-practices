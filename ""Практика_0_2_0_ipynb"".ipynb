{
  "nbformat": 4,
  "nbformat_minor": 0,
  "metadata": {
    "colab": {
      "provenance": [],
      "include_colab_link": true
    },
    "kernelspec": {
      "name": "python3",
      "display_name": "Python 3"
    },
    "language_info": {
      "name": "python"
    }
  },
  "cells": [
    {
      "cell_type": "markdown",
      "metadata": {
        "id": "view-in-github",
        "colab_type": "text"
      },
      "source": [
        "<a href=\"https://colab.research.google.com/github/Nagiev-programmer/my-practices/blob/main/%22%22%D0%9F%D1%80%D0%B0%D0%BA%D1%82%D0%B8%D0%BA%D0%B0_0_2_0_ipynb%22%22.ipynb\" target=\"_parent\"><img src=\"https://colab.research.google.com/assets/colab-badge.svg\" alt=\"Open In Colab\"/></a>"
      ]
    },
    {
      "cell_type": "markdown",
      "source": [
        "Напишите свое ФИО:"
      ],
      "metadata": {
        "id": "0PnTh-ajEoEb"
      }
    },
    {
      "cell_type": "code",
      "source": [],
      "metadata": {
        "id": "QyMVPjzWErHw",
        "colab": {
          "base_uri": "https://localhost:8080/"
        },
        "outputId": "637db088-23e3-4cba-a603-05aac4f894e8"
      },
      "execution_count": null,
      "outputs": [
        {
          "output_type": "stream",
          "name": "stdout",
          "text": [
            "Косарев Андрей Александрович\n"
          ]
        }
      ]
    },
    {
      "cell_type": "markdown",
      "source": [
        "# Основы"
      ],
      "metadata": {
        "id": "HPwKiIA4EKO-"
      }
    },
    {
      "cell_type": "markdown",
      "source": [
        "Задание 1: Напиши программу, выводящую на экран сообщение \"Привет, мир!\""
      ],
      "metadata": {
        "id": "8po5IidFERZ8"
      }
    },
    {
      "cell_type": "code",
      "execution_count": null,
      "metadata": {
        "id": "sBRjlCVLEIQr",
        "colab": {
          "base_uri": "https://localhost:8080/"
        },
        "outputId": "d7a7a7ac-dc04-4ca8-8275-8adaf4447c13"
      },
      "outputs": [
        {
          "output_type": "stream",
          "name": "stdout",
          "text": [
            "Привет, мир!\n"
          ]
        }
      ],
      "source": [
        "print('Привет, мир!')"
      ]
    },
    {
      "cell_type": "markdown",
      "source": [
        "Задание 2: Напиши программу которая запрашивает имя пользователя и выводит сообщение:\n",
        "\n",
        "`Привет, <Имя пользователя>`"
      ],
      "metadata": {
        "id": "pUQIIo94EYLg"
      }
    },
    {
      "cell_type": "code",
      "source": [
        "name = input(\"Ваше имя \")\n",
        "print(\"Привет, \" + name)\n"
      ],
      "metadata": {
        "id": "nNwHKmAnEinH",
        "colab": {
          "base_uri": "https://localhost:8080/"
        },
        "outputId": "dd32dd51-cac2-489e-884f-6766ea723061"
      },
      "execution_count": null,
      "outputs": [
        {
          "output_type": "stream",
          "name": "stdout",
          "text": [
            "Ваше имя Андрей\n",
            "Привет, Андрей\n"
          ]
        }
      ]
    },
    {
      "cell_type": "markdown",
      "source": [
        "Задание 3: Напиши программу определяющую является ли число четным или нечетным:\n",
        "\n",
        "Пример:\n",
        "\n",
        "`Введите число:` 2\n",
        "\n",
        "`Ваше число четное!`"
      ],
      "metadata": {
        "id": "SAUm9W6_Etkh"
      }
    },
    {
      "cell_type": "code",
      "source": [
        "number = int(input(\"Введите число \"))\n",
        "if number % 2 == 0:\n",
        "  print(\"Ваше число четное\")\n",
        "else:\n",
        "  print(\"Ваше число нечетное\")"
      ],
      "metadata": {
        "id": "LXv7AIN1E4on",
        "colab": {
          "base_uri": "https://localhost:8080/"
        },
        "outputId": "8a138f2b-92a1-4d57-a71b-9cdb8644cd7e"
      },
      "execution_count": null,
      "outputs": [
        {
          "output_type": "stream",
          "name": "stdout",
          "text": [
            "Введите число 0\n",
            "Ваше число четное\n"
          ]
        }
      ]
    },
    {
      "cell_type": "markdown",
      "source": [
        "Задание 4: Напишите программу которая запрашивает длинну и ширину прямоугольника и выводит его площадь:\n",
        "\n",
        "\n",
        "\n",
        "`Введите длинну прямоугольника:`\n",
        "\n",
        "`Введите ширину прямоугольника:`\n",
        "\n",
        "`Площадь прямоугольника: `\n",
        "\n"
      ],
      "metadata": {
        "id": "OW1Y5KyUE_n9"
      }
    },
    {
      "cell_type": "code",
      "source": [
        "l = int(input(\"Введите длину прямоугольника: \"))\n",
        "b = int(input(\"Введите ширину прямоугольника: \"))\n",
        "print(\"Площадь прямоугольника:\"  + str(l * b))"
      ],
      "metadata": {
        "id": "Bu5iawknFbXP",
        "colab": {
          "base_uri": "https://localhost:8080/"
        },
        "outputId": "e07b5426-1522-46a5-9662-769314e55d02"
      },
      "execution_count": null,
      "outputs": [
        {
          "output_type": "stream",
          "name": "stdout",
          "text": [
            "Введите длину прямоугольника: 6\n",
            "Введите ширину прямоугольника: 6\n",
            "Площадь прямоугольника:36\n"
          ]
        }
      ]
    },
    {
      "cell_type": "markdown",
      "source": [
        "Задание 5: Напишите программу, которая будет вычислять среднее арифметическое введенных чисел"
      ],
      "metadata": {
        "id": "xj8_QNLsFfLw"
      }
    },
    {
      "cell_type": "code",
      "source": [
        "first= int(input())\n",
        "second= int(input())\n",
        "third= int(input())\n",
        "result = (first + second + third) / 3\n",
        "print(result)"
      ],
      "metadata": {
        "id": "omumX59JFoKw",
        "colab": {
          "base_uri": "https://localhost:8080/"
        },
        "outputId": "3217deda-d5e2-4db0-fb40-777377810b13"
      },
      "execution_count": null,
      "outputs": [
        {
          "output_type": "stream",
          "name": "stdout",
          "text": [
            "5\n",
            "5\n",
            "5\n",
            "5.0\n"
          ]
        }
      ]
    },
    {
      "cell_type": "markdown",
      "source": [
        "Задание 6: Напиши программу, которая бы определяла является ли год високосным"
      ],
      "metadata": {
        "id": "qHXcBMUJcP91"
      }
    },
    {
      "cell_type": "code",
      "source": [
        "year = int(input(\"Введите год: \"))\n",
        "if year % 4 == 0:\n",
        "  print(\"Год високосный\")\n",
        "else:\n",
        "  print(\"Год невисокосный\")"
      ],
      "metadata": {
        "id": "5zIg47mwcKKr",
        "colab": {
          "base_uri": "https://localhost:8080/"
        },
        "outputId": "5682f361-087f-4c85-c0d9-0111a0e9a29b"
      },
      "execution_count": null,
      "outputs": [
        {
          "output_type": "stream",
          "name": "stdout",
          "text": [
            "Введите год: 2025\n",
            "Год невисокосный\n"
          ]
        }
      ]
    },
    {
      "cell_type": "markdown",
      "source": [
        "Задание 7: Необходимо создать простой калькулятор, который позволяет пользователю выбрать одну из четырёх операций (+, -, *, /), ввести два числа и получить результат выполнения операции."
      ],
      "metadata": {
        "id": "CYaQ69kucdhj"
      }
    },
    {
      "cell_type": "code",
      "source": [
        "first = int(input(\"Введите ваше первое число \"))\n",
        "choice = input(\"Выберите операцию: +,-,*,/ \")\n",
        "second = int(input(\"Введите ваше второе число \"))\n",
        "if choice == \"+\":\n",
        "  print(\"Результат операции: \" + str(first + second))\n",
        "if choice == \"-\":\n",
        "  print(\"Результат операции: \" + str(first - second))\n",
        "if choice == \"*\":\n",
        "  print(\"Результат операции: \" + str(first * second))\n",
        "if choice == \"/\":\n",
        "  print(\"Результат операции: \" + str(first / second))"
      ],
      "metadata": {
        "id": "wR5UyEf7ciIE",
        "colab": {
          "base_uri": "https://localhost:8080/"
        },
        "outputId": "9f9976a4-d187-4d7c-8cb8-e1770b3737c6"
      },
      "execution_count": null,
      "outputs": [
        {
          "output_type": "stream",
          "name": "stdout",
          "text": [
            "Введите ваше первое число 20\n",
            "Выберите операцию: +,-,*,/ -\n",
            "Введите ваше второе число 5\n",
            "Результат операции: 15\n"
          ]
        }
      ]
    },
    {
      "cell_type": "markdown",
      "source": [
        "--------------------------------------------------------------------------------\n",
        "\n",
        "**Да, задания ниже тоже обязательны, вам необходимо выполнить веееееесь файл**\n",
        "\n",
        "--------------------------------------------------------------------------------\n"
      ],
      "metadata": {
        "id": "PcJ66hI-vAlk"
      }
    },
    {
      "cell_type": "markdown",
      "source": [
        "# Практика 0.2.1"
      ],
      "metadata": {
        "id": "XWBhGpdEFo-U"
      }
    },
    {
      "cell_type": "markdown",
      "source": [
        "**Шахматы**\n",
        "\n",
        "Даны стартовые и конечные координаты, а также фигура\n",
        "\n",
        "Необходимо определить, может ли заданная фигура так ходить?"
      ],
      "metadata": {
        "id": "9Lw9odpqFwtn"
      }
    },
    {
      "cell_type": "code",
      "source": [
        "x1 = int(input()) # стартовая кордината номер 1\n",
        "y1 = int(input()) # стартовая кордината номер 2\n",
        "x2 = int(input()) # конечная координата номер 1\n",
        "y2 = int(input()) # конечная координата номер 2\n",
        "if ((x1 == x2) or (y1 == y2)): # ладья\n",
        "    print(\"Ладья может туда идти\")\n",
        "else:\n",
        "    print('Ладья не может туда идти')\n",
        "if (x1 == x2) and (y2 > y1): # пешка\n",
        "      print('Пешка может туда идти')\n",
        "else:\n",
        "    print('Пешка не может туда идти')\n",
        "if ((x1 - 1 == x2 and y1 + 1 == y2) or (x1 == x2 and y1 + 1 == y2) or (x1 + 1 == x2 and y1 + 1 == y2) or (x1 + 1 == x2 and y1 == y2) or\n",
        "(x1 + 1 == x2 and y1 - 1 == y2) or (x1 == x2 and y1 - 1 == y2) or (x1 - 1 == x2 and y1 - 1 == y2) or (x1 - 1 == x2 and y1 == y2)): # король\n",
        "    print(\"Король может туда идти\")\n",
        "else:\n",
        "    print('Король не может туда идти')\n",
        "if abs(x1 - x2) * abs(y1 - y2) == 0 or abs(x1 - x2) == abs(y1 - y2): # ферзь\n",
        "    print('Ферзь может туда идти')\n",
        "else:\n",
        "    print('Ферзь не может туда идти')\n",
        "\n"
      ],
      "metadata": {
        "id": "9IICo0p3F07P",
        "colab": {
          "base_uri": "https://localhost:8080/",
          "height": 384
        },
        "outputId": "6461592c-ea09-420d-a8a9-bf82dcc65159"
      },
      "execution_count": null,
      "outputs": [
        {
          "output_type": "stream",
          "name": "stderr",
          "text": [
            "<>:10: SyntaxWarning: 'int' object is not callable; perhaps you missed a comma?\n",
            "<>:10: SyntaxWarning: 'int' object is not callable; perhaps you missed a comma?\n"
          ]
        },
        {
          "output_type": "stream",
          "name": "stdout",
          "text": [
            "5\n",
            "6\n",
            "5\n",
            "7\n",
            "Выбор фигуры: пешка\n",
            "NO\n"
          ]
        },
        {
          "output_type": "stream",
          "name": "stderr",
          "text": [
            "<ipython-input-50-0ca2a14684b1>:10: SyntaxWarning: 'int' object is not callable; perhaps you missed a comma?\n",
            "  if (x1 == x2) and 6(y2 > y1) and name == \"Пешка\":\n"
          ]
        },
        {
          "output_type": "error",
          "ename": "TypeError",
          "evalue": "'int' object is not callable",
          "traceback": [
            "\u001b[0;31m---------------------------------------------------------------------------\u001b[0m",
            "\u001b[0;31mTypeError\u001b[0m                                 Traceback (most recent call last)",
            "\u001b[0;32m<ipython-input-50-0ca2a14684b1>\u001b[0m in \u001b[0;36m<cell line: 10>\u001b[0;34m()\u001b[0m\n\u001b[1;32m      8\u001b[0m \u001b[0;32melse\u001b[0m\u001b[0;34m:\u001b[0m\u001b[0;34m\u001b[0m\u001b[0;34m\u001b[0m\u001b[0m\n\u001b[1;32m      9\u001b[0m     \u001b[0mprint\u001b[0m\u001b[0;34m(\u001b[0m\u001b[0;34m'NO'\u001b[0m\u001b[0;34m)\u001b[0m\u001b[0;34m\u001b[0m\u001b[0;34m\u001b[0m\u001b[0m\n\u001b[0;32m---> 10\u001b[0;31m \u001b[0;32mif\u001b[0m \u001b[0;34m(\u001b[0m\u001b[0mx1\u001b[0m \u001b[0;34m==\u001b[0m \u001b[0mx2\u001b[0m\u001b[0;34m)\u001b[0m \u001b[0;32mand\u001b[0m \u001b[0;36m6\u001b[0m\u001b[0;34m(\u001b[0m\u001b[0my2\u001b[0m \u001b[0;34m>\u001b[0m \u001b[0my1\u001b[0m\u001b[0;34m)\u001b[0m \u001b[0;32mand\u001b[0m \u001b[0mname\u001b[0m \u001b[0;34m==\u001b[0m \u001b[0;34m\"Пешка\"\u001b[0m\u001b[0;34m:\u001b[0m\u001b[0;34m\u001b[0m\u001b[0;34m\u001b[0m\u001b[0m\n\u001b[0m\u001b[1;32m     11\u001b[0m       \u001b[0mprint\u001b[0m\u001b[0;34m(\u001b[0m\u001b[0;34m'YES'\u001b[0m\u001b[0;34m)\u001b[0m\u001b[0;34m\u001b[0m\u001b[0;34m\u001b[0m\u001b[0m\n\u001b[1;32m     12\u001b[0m \u001b[0;32melse\u001b[0m\u001b[0;34m:\u001b[0m\u001b[0;34m\u001b[0m\u001b[0;34m\u001b[0m\u001b[0m\n",
            "\u001b[0;31mTypeError\u001b[0m: 'int' object is not callable"
          ]
        }
      ]
    },
    {
      "cell_type": "markdown",
      "source": [
        "# Практика 0.2.2\n",
        "\n",
        "**Цифра на определенном месте:**\n",
        "\n",
        "Последовательно записан натуральный ряд чисел.\n",
        "\n",
        "Какая цифра стоит в N позиции"
      ],
      "metadata": {
        "id": "wI5bLNpHGDmO"
      }
    },
    {
      "cell_type": "code",
      "source": [
        "a = list(map(int,input()))\n",
        "n = int(input(\"Введите позицию \"))\n",
        "l = len(a)\n",
        "if n > len(a) - 1:\n",
        "  print(\"Выход за пределы натурального ряда чисел(списка)\")\n",
        "else:\n",
        "  print(a[n-1])\n",
        "# Может неправильно понял задачу"
      ],
      "metadata": {
        "id": "XLm_zFGzGNsU",
        "colab": {
          "base_uri": "https://localhost:8080/"
        },
        "outputId": "5608b1b5-7563-4cd3-eeac-592671ca287f"
      },
      "execution_count": null,
      "outputs": [
        {
          "output_type": "stream",
          "name": "stdout",
          "text": [
            "321738194\n",
            "Введите позицию 89\n",
            "Выход за пределы натурального ряда чисел(списка)\n"
          ]
        }
      ]
    },
    {
      "cell_type": "markdown",
      "source": [
        "# Практика 0.2.3\n",
        "\n",
        "\n",
        "Возьмите код из задания 7 и улучшите ваш калькулятор следующим образом:\n",
        "\n",
        "Пользователь вводит строку вида:\n",
        "\n",
        "(5+5)*5 - данная строка содержит в себе математическое выражение, а также скобки\n",
        "\n",
        "Ваша программа должная понять что за математическое выражение записано, проверить верно ли оно записано (пример неверного заполнения: (5(+)5)*5, а также расчитать его в соотвествии с правилами математики"
      ],
      "metadata": {
        "id": "dpxTJv-scnMy"
      }
    },
    {
      "cell_type": "code",
      "source": [
        "choice1 = input(\"Несколько операций или одна операция? \").lower() # выбор операции который переходит в нижний регистр\n",
        "if choice1 == \"1\" or choice1 in [\"одна\", \"1 операция\", \"один\"]: # дальше код для 1 операции\n",
        "    first = int(input(\"Введите ваше первое число: \"))\n",
        "    choice = input(\"Выберите операцию: +, -, *, /: \")\n",
        "    second = int(input(\"Введите ваше второе число: \"))\n",
        "    if choice == \"+\":\n",
        "        print(\"Результат операции: \" + str(first + second))\n",
        "    elif choice == \"-\":\n",
        "        print(\"Результат операции: \" + str(first - second))\n",
        "    elif choice == \"*\":\n",
        "        print(\"Результат операции: \" + str(first * second))\n",
        "    elif choice == \"/\":\n",
        "        if second != 0:\n",
        "            print(\"Результат операции: \" + str(first / second))\n",
        "        else:\n",
        "            print(\"Делить на ноль нельзя\")\n",
        "    else:\n",
        "        print(\"Таких операций нету\")\n",
        "else:\n",
        "    virashenie = input(\"Введите математическое выражение: \")\n",
        "    try: # если функция eval определила что выражение верное то выводится результат\n",
        "        resultat = eval(virashenie)\n",
        "        print(\"Результат: \" + str(resultat))\n",
        "    except: # если выражение неверное except до вычисления eval забирает \"ошибку\" как бы )) на себя\n",
        "        print(\"Выражение неправильное\")"
      ],
      "metadata": {
        "id": "18gOluyHcmmf",
        "colab": {
          "base_uri": "https://localhost:8080/"
        },
        "outputId": "8b709c3d-0afb-4f25-a378-6a96ff2c5ffc"
      },
      "execution_count": null,
      "outputs": [
        {
          "output_type": "stream",
          "name": "stdout",
          "text": [
            "Несколько операций или одна операция? Несколько\n",
            "Введите математическое выражение: (5++)5*2\n",
            "Выражение неправильное\n"
          ]
        }
      ]
    }
  ]
}